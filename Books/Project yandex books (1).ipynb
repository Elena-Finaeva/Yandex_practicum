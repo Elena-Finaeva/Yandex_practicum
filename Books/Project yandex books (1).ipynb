{
 "cells": [
  {
   "cell_type": "markdown",
   "id": "_E41Wr5fqnFT",
   "metadata": {
    "id": "_E41Wr5fqnFT"
   },
   "source": [
    "# Часть 1. Проверка гипотезы в Python и составление аналитической записки"
   ]
  },
  {
   "cell_type": "markdown",
   "id": "Z5_6nf-FrY7o",
   "metadata": {
    "id": "Z5_6nf-FrY7o"
   },
   "source": [
    "Вы предобработали данные в SQL, и теперь они готовы для проверки гипотезы в Python. Загрузите данные пользователей из Москвы и Санкт-Петербурга c суммой часов их активности из файла yandex_knigi_data.csv. Если работаете локально, скачать файл можно по ссылке.\n",
    "\n",
    "Проверьте наличие дубликатов в идентификаторах пользователей. Сравните размеры групп, их статистики и распределение.\n",
    "\n",
    "Напомним, как выглядит гипотеза: пользователи из Москвы проводят в среднем больше времени за чтением и прослушиванием книг в приложении, чем пользователи из Москвы. Попробуйте статистически это доказать, используя одностороннюю проверку гипотезы с двумя выборками:\n",
    "\n",
    "Нулевая гипотеза $H_0: \\mu_{\\text{СПб}} \\leq \\mu_{\\text{Москва}}$ <br> Среднее время активности пользователей в Санкт-Петербурге не больше, чем в Москве.\n",
    "\n",
    "Альтернативная гипотеза $H_1: \\mu_{\\text{СПб}} > \\mu_{\\text{Москва}}$ <br> Среднее время активности пользователей в Санкт-Петербурге больше, и это различие статистически значимо.\n",
    "\n",
    "По результатам анализа данных подготовьте аналитическую записку, в которой опишите:\n",
    "\n",
    "Выбранный тип t-теста и уровень статистической значимости.\n",
    "\n",
    "Результат теста, или p-value.\n",
    "\n",
    "Вывод на основе полученного p-value, то есть интерпретацию результатов.\n",
    "\n",
    "Одну или две возможные причины, объясняющие полученные результаты."
   ]
  },
  {
   "cell_type": "markdown",
   "id": "e06910dd",
   "metadata": {
    "id": "e06910dd"
   },
   "source": [
    "## Напишите заголовок первой части проекта здесь\n",
    "\n",
    "- Автор: Бурыкина Е.А.\n",
    "- Дата: 08.05.2025 г."
   ]
  },
  {
   "cell_type": "markdown",
   "id": "4149134c",
   "metadata": {
    "id": "4149134c"
   },
   "source": [
    "## Цели и задачи проекта\n",
    "\n",
    "<font color='#777778'>     \n",
    "    \n",
    "    Цель проекта - проанализировать данные пользователей из Москвы и Санкт-Петербурга с суммой часов их активности и провести А/В тест, подтверждающий или опровергающий гипотезу.      \n",
    "    \n",
    "    Задачи проекта - рассчитать параметры теста, оценить корректность его проведения и проанализировать результаты эксперимента.  \n",
    "    \n",
    "    Особенность А/В теста - изменение ключевой метрики- среднее время активности пользователей в Санкт-петербурге и Москве.</font>"
   ]
  },
  {
   "cell_type": "markdown",
   "id": "728986ea",
   "metadata": {
    "id": "728986ea"
   },
   "source": [
    "## Описание данных\n",
    "\n",
    "<font color='#777778'>    \n",
    "   Таблицы этого проекта содержат данные о чтении и прослушивании контента в сервисе Яндекс Книги.    \n",
    "    \n",
    "   - `city` -  город пользователя;    \n",
    "    \n",
    "   - `puid` - идентификатор пользователя;  \n",
    "    \n",
    "   - `hours` - длительность чтения или прослушивания в часах.</font>"
   ]
  },
  {
   "cell_type": "markdown",
   "id": "4fecaf95",
   "metadata": {
    "id": "4fecaf95"
   },
   "source": [
    "## Содержимое проекта\n",
    "\n",
    "<font color='#777778'> \n",
    "    \n",
    "    Часть 1.  \n",
    "    \n",
    "    1. Загрузка данных и знакомство с ними. \n",
    "    \n",
    "    2.Проверка гипотезы в Python.   \n",
    "    \n",
    "    3. Аналитическая записка.   \n",
    "    \n",
    "    Часть 2.    \n",
    "    \n",
    "    1.Анализ результатов А/В тестирования.   \n",
    "    \n",
    "    2.Описание цели проекта.  \n",
    "    \n",
    "    3.Загрузка данных.  \n",
    "    \n",
    "    4.Оценка корректности проведения теста.   \n",
    "    \n",
    "    5.Оценка результатов А/В тестирования.\n",
    "\n",
    "---"
   ]
  },
  {
   "cell_type": "markdown",
   "id": "6f7d21d6",
   "metadata": {
    "id": "6f7d21d6"
   },
   "source": [
    "## 1. Загрузка данных и знакомство с ними\n",
    "\n",
    "Загрузите данные пользователей из Москвы и Санкт-Петербурга c их активностью (суммой часов чтения и прослушивания) из файла `/datasets/yandex_knigi_data.csv`."
   ]
  },
  {
   "cell_type": "code",
   "execution_count": 1,
   "id": "c23bfebe",
   "metadata": {},
   "outputs": [],
   "source": [
    "import pandas as pd\n",
    "import matplotlib.pyplot as plt\n",
    "import numpy as np\n",
    "import seaborn as sns "
   ]
  },
  {
   "cell_type": "code",
   "execution_count": 2,
   "id": "05faf34b",
   "metadata": {
    "id": "05faf34b"
   },
   "outputs": [
    {
     "name": "stdout",
     "output_type": "stream",
     "text": [
      "<class 'pandas.core.frame.DataFrame'>\n",
      "RangeIndex: 8784 entries, 0 to 8783\n",
      "Data columns (total 4 columns):\n",
      " #   Column      Non-Null Count  Dtype  \n",
      "---  ------      --------------  -----  \n",
      " 0   Unnamed: 0  8784 non-null   int64  \n",
      " 1   city        8784 non-null   object \n",
      " 2   puid        8784 non-null   int64  \n",
      " 3   hours       8784 non-null   float64\n",
      "dtypes: float64(1), int64(2), object(1)\n",
      "memory usage: 274.6+ KB\n"
     ]
    }
   ],
   "source": [
    "df = pd.read_csv('/datasets/yandex_knigi_data.csv')\n",
    "df.info()"
   ]
  },
  {
   "cell_type": "code",
   "execution_count": 3,
   "id": "dc9e1e43",
   "metadata": {},
   "outputs": [
    {
     "name": "stdout",
     "output_type": "stream",
     "text": [
      "Количество дубликатов:0\n"
     ]
    },
    {
     "data": {
      "text/html": [
       "<div>\n",
       "<style scoped>\n",
       "    .dataframe tbody tr th:only-of-type {\n",
       "        vertical-align: middle;\n",
       "    }\n",
       "\n",
       "    .dataframe tbody tr th {\n",
       "        vertical-align: top;\n",
       "    }\n",
       "\n",
       "    .dataframe thead th {\n",
       "        text-align: right;\n",
       "    }\n",
       "</style>\n",
       "<table border=\"1\" class=\"dataframe\">\n",
       "  <thead>\n",
       "    <tr style=\"text-align: right;\">\n",
       "      <th></th>\n",
       "      <th>Unnamed: 0</th>\n",
       "      <th>city</th>\n",
       "      <th>puid</th>\n",
       "      <th>hours</th>\n",
       "    </tr>\n",
       "  </thead>\n",
       "  <tbody>\n",
       "    <tr>\n",
       "      <th>0</th>\n",
       "      <td>0</td>\n",
       "      <td>Москва</td>\n",
       "      <td>9668</td>\n",
       "      <td>26.167776</td>\n",
       "    </tr>\n",
       "    <tr>\n",
       "      <th>1</th>\n",
       "      <td>1</td>\n",
       "      <td>Москва</td>\n",
       "      <td>16598</td>\n",
       "      <td>82.111217</td>\n",
       "    </tr>\n",
       "    <tr>\n",
       "      <th>2</th>\n",
       "      <td>2</td>\n",
       "      <td>Москва</td>\n",
       "      <td>80401</td>\n",
       "      <td>4.656906</td>\n",
       "    </tr>\n",
       "    <tr>\n",
       "      <th>3</th>\n",
       "      <td>3</td>\n",
       "      <td>Москва</td>\n",
       "      <td>140205</td>\n",
       "      <td>1.840556</td>\n",
       "    </tr>\n",
       "    <tr>\n",
       "      <th>4</th>\n",
       "      <td>4</td>\n",
       "      <td>Москва</td>\n",
       "      <td>248755</td>\n",
       "      <td>151.326434</td>\n",
       "    </tr>\n",
       "  </tbody>\n",
       "</table>\n",
       "</div>"
      ],
      "text/plain": [
       "   Unnamed: 0    city    puid       hours\n",
       "0           0  Москва    9668   26.167776\n",
       "1           1  Москва   16598   82.111217\n",
       "2           2  Москва   80401    4.656906\n",
       "3           3  Москва  140205    1.840556\n",
       "4           4  Москва  248755  151.326434"
      ]
     },
     "execution_count": 3,
     "metadata": {},
     "output_type": "execute_result"
    }
   ],
   "source": [
    "print(f'Количество дубликатов:{df.duplicated().sum()}')\n",
    "df.head()"
   ]
  },
  {
   "cell_type": "code",
   "execution_count": 4,
   "id": "2157788f",
   "metadata": {},
   "outputs": [
    {
     "name": "stdout",
     "output_type": "stream",
     "text": [
      "Количество дублирующих идентификаторов пользователей: 244\n",
      "Доля дублирующих идентификаторов пользователей от общего количество равно: 2.86%\n"
     ]
    }
   ],
   "source": [
    "a = df.duplicated(subset=['puid']).sum() \n",
    "print (f'Количество дублирующих идентификаторов пользователей: {a}') \n",
    "user_ids = df[df.duplicated(subset=['puid'])]\n",
    "x = 100 * len(user_ids) / df['puid'].nunique() \n",
    "print (f'Доля дублирующих идентификаторов пользователей от общего количество равно: {x:.2f}%')"
   ]
  },
  {
   "cell_type": "code",
   "execution_count": 5,
   "id": "f68a7419",
   "metadata": {
    "id": "f68a7419"
   },
   "outputs": [],
   "source": [
    "df = df.drop_duplicates(['puid'])"
   ]
  },
  {
   "cell_type": "markdown",
   "id": "44010846",
   "metadata": {},
   "source": [
    "###### Так как процент дублирующих идентификаторов мал и составляет всего 2 %, мы можем удалить их для чистоты данных."
   ]
  },
  {
   "cell_type": "code",
   "execution_count": 6,
   "id": "ce87c1db",
   "metadata": {
    "id": "ce87c1db"
   },
   "outputs": [
    {
     "data": {
      "text/html": [
       "<div>\n",
       "<style scoped>\n",
       "    .dataframe tbody tr th:only-of-type {\n",
       "        vertical-align: middle;\n",
       "    }\n",
       "\n",
       "    .dataframe tbody tr th {\n",
       "        vertical-align: top;\n",
       "    }\n",
       "\n",
       "    .dataframe thead th {\n",
       "        text-align: right;\n",
       "    }\n",
       "</style>\n",
       "<table border=\"1\" class=\"dataframe\">\n",
       "  <thead>\n",
       "    <tr style=\"text-align: right;\">\n",
       "      <th></th>\n",
       "      <th>city</th>\n",
       "      <th>puid</th>\n",
       "    </tr>\n",
       "  </thead>\n",
       "  <tbody>\n",
       "    <tr>\n",
       "      <th>0</th>\n",
       "      <td>Москва</td>\n",
       "      <td>6234</td>\n",
       "    </tr>\n",
       "    <tr>\n",
       "      <th>1</th>\n",
       "      <td>Санкт-Петербург</td>\n",
       "      <td>2306</td>\n",
       "    </tr>\n",
       "  </tbody>\n",
       "</table>\n",
       "</div>"
      ],
      "text/plain": [
       "              city  puid\n",
       "0           Москва  6234\n",
       "1  Санкт-Петербург  2306"
      ]
     },
     "execution_count": 6,
     "metadata": {},
     "output_type": "execute_result"
    }
   ],
   "source": [
    "df_grp = df.groupby('city').agg({'puid': 'nunique'}).reset_index()\n",
    "df_grp"
   ]
  },
  {
   "cell_type": "code",
   "execution_count": 7,
   "id": "6b8e4b07",
   "metadata": {},
   "outputs": [
    {
     "data": {
      "text/plain": [
       "count    8540.000000\n",
       "mean       10.984603\n",
       "std        37.677623\n",
       "min         0.000018\n",
       "25%         0.059927\n",
       "50%         0.909128\n",
       "75%         5.970493\n",
       "max       978.764775\n",
       "Name: hours, dtype: float64"
      ]
     },
     "execution_count": 7,
     "metadata": {},
     "output_type": "execute_result"
    }
   ],
   "source": [
    "df['hours'].describe()"
   ]
  },
  {
   "cell_type": "code",
   "execution_count": 8,
   "id": "9384b89c",
   "metadata": {},
   "outputs": [
    {
     "data": {
      "image/png": "[encoded data removed]",
      "text/plain": [
       "<Figure size 504x216 with 1 Axes>"
      ]
     },
     "metadata": {
      "needs_background": "light"
     },
     "output_type": "display_data"
    }
   ],
   "source": [
    "plt.figure(figsize=(7, 3))\n",
    "\n",
    "# Строим гистограмму с помощью pandas через plot(kind='hist')\n",
    "df['hours'].plot(\n",
    "                kind='hist', # Тип графика — гистограмма\n",
    "                bins=45, # Устанавливаем количество корзин\n",
    "                alpha=0.75,\n",
    "                edgecolor='black',\n",
    ")\n",
    "\n",
    "# Настраиваем оформление графика\n",
    "plt.title('Сумма часов прослушивания')\n",
    "plt.xlabel('Сумма часов')\n",
    "plt.ylabel('Частота')\n",
    "\n",
    "# Добавляем сетку графика\n",
    "plt.grid()\n",
    "\n",
    "# Выводим график\n",
    "plt.show()"
   ]
  },
  {
   "cell_type": "code",
   "execution_count": 9,
   "id": "7d07b252",
   "metadata": {},
   "outputs": [
    {
     "data": {
      "image/png": "[encoded data removed]",
      "text/plain": [
       "<Figure size 504x216 with 1 Axes>"
      ]
     },
     "metadata": {
      "needs_background": "light"
     },
     "output_type": "display_data"
    }
   ],
   "source": [
    "cleaned_page_counter = df[df['hours'] <= df['hours'].quantile(0.99)]['hours']\n",
    "\n",
    "plt.figure(figsize=(7, 3))\n",
    "\n",
    "# Строим гистограмму с помощью pandas через plot(kind='hist')\n",
    "cleaned_page_counter.plot(\n",
    "                kind='hist', # Тип графика - гистограмма\n",
    "                bins=6, # Устанавливаем количество корзин\n",
    "                alpha=0.75,\n",
    "                edgecolor='black',\n",
    ")\n",
    "\n",
    "# Настраиваем оформление графика\n",
    "plt.title('Распределение часов прослушивания')\n",
    "plt.xlabel('Сумма часов')\n",
    "plt.ylabel('Частота')\n",
    "# Добавляем сетку графика\n",
    "plt.grid()\n",
    "\n",
    "# Выводим график\n",
    "plt.show()"
   ]
  },
  {
   "cell_type": "code",
   "execution_count": 10,
   "id": "0f1c8b21",
   "metadata": {},
   "outputs": [
    {
     "data": {
      "text/plain": [
       "city\n",
       "Москва             67832.727924\n",
       "Санкт-Петербург    25975.783344\n",
       "Name: hours, dtype: float64"
      ]
     },
     "execution_count": 10,
     "metadata": {},
     "output_type": "execute_result"
    }
   ],
   "source": [
    "df.groupby('city')['hours'].sum()"
   ]
  },
  {
   "cell_type": "code",
   "execution_count": 11,
   "id": "41e2c7f2",
   "metadata": {},
   "outputs": [
    {
     "data": {
      "text/html": [
       "<div>\n",
       "<style scoped>\n",
       "    .dataframe tbody tr th:only-of-type {\n",
       "        vertical-align: middle;\n",
       "    }\n",
       "\n",
       "    .dataframe tbody tr th {\n",
       "        vertical-align: top;\n",
       "    }\n",
       "\n",
       "    .dataframe thead th {\n",
       "        text-align: right;\n",
       "    }\n",
       "</style>\n",
       "<table border=\"1\" class=\"dataframe\">\n",
       "  <thead>\n",
       "    <tr style=\"text-align: right;\">\n",
       "      <th></th>\n",
       "      <th>Unnamed: 0</th>\n",
       "      <th>city</th>\n",
       "      <th>puid</th>\n",
       "      <th>hours</th>\n",
       "    </tr>\n",
       "  </thead>\n",
       "  <tbody>\n",
       "    <tr>\n",
       "      <th>8646</th>\n",
       "      <td>8646</td>\n",
       "      <td>Санкт-Петербург</td>\n",
       "      <td>1955354009</td>\n",
       "      <td>978.764775</td>\n",
       "    </tr>\n",
       "    <tr>\n",
       "      <th>4916</th>\n",
       "      <td>4916</td>\n",
       "      <td>Москва</td>\n",
       "      <td>1593895119</td>\n",
       "      <td>857.209373</td>\n",
       "    </tr>\n",
       "    <tr>\n",
       "      <th>4583</th>\n",
       "      <td>4583</td>\n",
       "      <td>Москва</td>\n",
       "      <td>1477698281</td>\n",
       "      <td>844.267237</td>\n",
       "    </tr>\n",
       "    <tr>\n",
       "      <th>5416</th>\n",
       "      <td>5416</td>\n",
       "      <td>Москва</td>\n",
       "      <td>1740160017</td>\n",
       "      <td>766.344361</td>\n",
       "    </tr>\n",
       "    <tr>\n",
       "      <th>6894</th>\n",
       "      <td>6894</td>\n",
       "      <td>Санкт-Петербург</td>\n",
       "      <td>363654228</td>\n",
       "      <td>632.567686</td>\n",
       "    </tr>\n",
       "    <tr>\n",
       "      <th>4751</th>\n",
       "      <td>4751</td>\n",
       "      <td>Москва</td>\n",
       "      <td>1537872545</td>\n",
       "      <td>504.101255</td>\n",
       "    </tr>\n",
       "    <tr>\n",
       "      <th>6895</th>\n",
       "      <td>6895</td>\n",
       "      <td>Санкт-Петербург</td>\n",
       "      <td>364116225</td>\n",
       "      <td>477.779105</td>\n",
       "    </tr>\n",
       "    <tr>\n",
       "      <th>3077</th>\n",
       "      <td>3077</td>\n",
       "      <td>Москва</td>\n",
       "      <td>863303919</td>\n",
       "      <td>462.609644</td>\n",
       "    </tr>\n",
       "    <tr>\n",
       "      <th>8361</th>\n",
       "      <td>8361</td>\n",
       "      <td>Санкт-Петербург</td>\n",
       "      <td>1697905395</td>\n",
       "      <td>449.577549</td>\n",
       "    </tr>\n",
       "    <tr>\n",
       "      <th>5717</th>\n",
       "      <td>5717</td>\n",
       "      <td>Москва</td>\n",
       "      <td>1893804166</td>\n",
       "      <td>446.336651</td>\n",
       "    </tr>\n",
       "  </tbody>\n",
       "</table>\n",
       "</div>"
      ],
      "text/plain": [
       "      Unnamed: 0             city        puid       hours\n",
       "8646        8646  Санкт-Петербург  1955354009  978.764775\n",
       "4916        4916           Москва  1593895119  857.209373\n",
       "4583        4583           Москва  1477698281  844.267237\n",
       "5416        5416           Москва  1740160017  766.344361\n",
       "6894        6894  Санкт-Петербург   363654228  632.567686\n",
       "4751        4751           Москва  1537872545  504.101255\n",
       "6895        6895  Санкт-Петербург   364116225  477.779105\n",
       "3077        3077           Москва   863303919  462.609644\n",
       "8361        8361  Санкт-Петербург  1697905395  449.577549\n",
       "5717        5717           Москва  1893804166  446.336651"
      ]
     },
     "execution_count": 11,
     "metadata": {},
     "output_type": "execute_result"
    }
   ],
   "source": [
    "df.sort_values(by='hours',ascending=False).head(10)"
   ]
  },
  {
   "cell_type": "markdown",
   "id": "5d3c7298",
   "metadata": {},
   "source": [
    "   #### По проведенному анализу мы видим,что данные содержат очень много аномально высоких значений. Средее значение по графе `hours` сильно отличается от медианы,что говорит о сильном разбросе данных. Основной причиной данного разброса является, по моему мнению, что некоторые пользователи действительно могут быть активными пользователями и читать каждый день. Не только читать,но и прослушивать книги. В результате этого данные значения пригодятся в последующем анализе и от высоких значений мы не избавляемся и не удаляем их. "
   ]
  },
  {
   "cell_type": "code",
   "execution_count": 12,
   "id": "104187ba",
   "metadata": {},
   "outputs": [
    {
     "name": "stdout",
     "output_type": "stream",
     "text": [
      "[]\n"
     ]
    }
   ],
   "source": [
    "moscow = df[df['city'] == 'Москва']['puid']\n",
    "peter = df[df['city'] == 'Санкт-Петербург']['puid']\n",
    "\n",
    "intersection = list(set(moscow) & set(peter))\n",
    "print(intersection)"
   ]
  },
  {
   "cell_type": "markdown",
   "id": "2329e712",
   "metadata": {},
   "source": [
    "В двух группах пересечений нет. Можно сделать вывод,что группы независимы друг от друга и пользователей,которые попали в две группы сразу-нет."
   ]
  },
  {
   "cell_type": "markdown",
   "id": "956e82e2",
   "metadata": {
    "id": "956e82e2"
   },
   "source": [
    "## 2. Проверка гипотезы в Python\n",
    "\n",
    "Гипотеза звучит так: пользователи из Санкт-Петербурга проводят в среднем больше времени за чтением и прослушиванием книг в приложении, чем пользователи из Москвы. Попробуйте статистически это доказать, используя одностороннюю проверку гипотезы с двумя выборками:\n",
    "\n",
    "- Нулевая гипотеза H₀: Средняя активность пользователей в часах в двух группах (Москва и Санкт-Петербург) не различается.\n",
    "\n",
    "- Альтернативная гипотеза H₁: Средняя активность пользователей в Санкт-Петербурге больше, и это различие статистически значимо."
   ]
  },
  {
   "cell_type": "code",
   "execution_count": 13,
   "id": "1be7f11d",
   "metadata": {},
   "outputs": [],
   "source": [
    "from scipy import stats as st\n",
    "\n",
    "group_1 = df[df['city'] == 'Москва']['hours']\n",
    "group_2 = df[df['city'] == 'Санкт-Петербург']['hours']\n",
    "\n",
    "alpha = 0.05\n"
   ]
  },
  {
   "cell_type": "markdown",
   "id": "ae00f4a7",
   "metadata": {},
   "source": [
    "#####  Перед выбором т-теста определим некоторые параметры. Посмотри на равенство дисперсий."
   ]
  },
  {
   "cell_type": "code",
   "execution_count": 14,
   "id": "12ab52a7",
   "metadata": {},
   "outputs": [
    {
     "name": "stdout",
     "output_type": "stream",
     "text": [
      "LeveneResult(statistic=0.18405932263791336, pvalue=0.6679185085534312)\n"
     ]
    }
   ],
   "source": [
    "from scipy.stats import levene\n",
    "\n",
    "print(levene(group_1, group_2))"
   ]
  },
  {
   "cell_type": "markdown",
   "id": "97ce1762",
   "metadata": {},
   "source": [
    "##### Проведем тест Шапиро на нормальност распределения"
   ]
  },
  {
   "cell_type": "code",
   "execution_count": 15,
   "id": "34843266",
   "metadata": {},
   "outputs": [
    {
     "name": "stderr",
     "output_type": "stream",
     "text": [
      "/tmp/ipykernel_340/3516782319.py:2: DeprecationWarning: Please use `normaltest` from the `scipy.stats` namespace, the `scipy.stats.stats` namespace is deprecated.\n",
      "  st.stats.normaltest(group_1)\n"
     ]
    },
    {
     "data": {
      "text/plain": [
       "NormaltestResult(statistic=9624.552191958284, pvalue=0.0)"
      ]
     },
     "execution_count": 15,
     "metadata": {},
     "output_type": "execute_result"
    }
   ],
   "source": [
    "import scipy.stats as st\n",
    "st.stats.normaltest(group_1)\n",
    "#Тест Шапиро-Уилка плохо работает для выборок >5000; в таком случае может подойти тест Д'Агостино-Пирсона"
   ]
  },
  {
   "cell_type": "code",
   "execution_count": 16,
   "id": "ee7cfacc",
   "metadata": {},
   "outputs": [
    {
     "name": "stderr",
     "output_type": "stream",
     "text": [
      "/tmp/ipykernel_340/796491405.py:1: DeprecationWarning: Please use `normaltest` from the `scipy.stats` namespace, the `scipy.stats.stats` namespace is deprecated.\n",
      "  st.stats.normaltest(group_2)\n"
     ]
    },
    {
     "data": {
      "text/plain": [
       "NormaltestResult(statistic=3938.761150755944, pvalue=0.0)"
      ]
     },
     "execution_count": 16,
     "metadata": {},
     "output_type": "execute_result"
    }
   ],
   "source": [
    "st.stats.normaltest(group_2)\n",
    "#Тест Шапиро-Уилка плохо работает для выборок >5000; в таком случае может подойти тест Д'Агостино-Пирсона"
   ]
  },
  {
   "cell_type": "code",
   "execution_count": 17,
   "id": "34347411",
   "metadata": {},
   "outputs": [],
   "source": [
    "sns.set(\n",
    "    context='talk', #стиль графика\n",
    "    font_scale=0.95, #размерность шрифта\n",
    "    palette='coolwarm', #цветовая палитра\n",
    "    style=\"whitegrid\", #светлый фон с сеткой\n",
    "    rc={'figure.figsize':(19,9)} #размерность фигуры\n",
    "        ) #настройка графиков"
   ]
  },
  {
   "cell_type": "markdown",
   "id": "9a5767be",
   "metadata": {},
   "source": [
    "##### Перепроверим на графике с помощью визуализации."
   ]
  },
  {
   "cell_type": "code",
   "execution_count": 18,
   "id": "9ad9030c",
   "metadata": {},
   "outputs": [
    {
     "data": {
      "image/png": "[encoded data removed]",
      "text/plain": [
       "<Figure size 1368x648 with 1 Axes>"
      ]
     },
     "metadata": {},
     "output_type": "display_data"
    }
   ],
   "source": [
    "color_palette = {\n",
    "    'Москва': 'red',   # Красный для группы \"control\"\n",
    "    'Санкт-Петербург': 'blue',    # Синий для группы \"test\"\n",
    "}\n",
    "\n",
    "\n",
    "sns.histplot(data = df, x='hours', kde=True, bins=30, hue='city', palette=color_palette)\n",
    "\n",
    "plt.xlabel('Количество часов')\n",
    "plt.ylabel('Частота')\n",
    "plt.title('Количество часов в двух группах\\n', fontsize=25, fontweight=\"bold\") #подпись определенного шрифта и с выделением\n",
    "plt.grid(color='blue', alpha=0.1, linestyle='--') # сетка с указанием типа линии и ее прозрачности с цветом\n",
    "\n",
    "sns.despine()"
   ]
  },
  {
   "cell_type": "code",
   "execution_count": 19,
   "id": "f2aadb24",
   "metadata": {},
   "outputs": [
    {
     "data": {
      "image/png": "[encoded data removed]",
      "text/plain": [
       "<Figure size 576x576 with 1 Axes>"
      ]
     },
     "metadata": {},
     "output_type": "display_data"
    }
   ],
   "source": [
    "from scipy import stats\n",
    "plt.figure(figsize=(8, 8))\n",
    "stats.probplot(group_1, dist=\"norm\", plot=plt)\n",
    "plt.title('QQ-график для экспоненциально распределенных данных')\n",
    "plt.xlabel('Теоретические квантили')\n",
    "plt.ylabel('Выборочные квантили')\n",
    "plt.grid()\n",
    "plt.show()"
   ]
  },
  {
   "cell_type": "code",
   "execution_count": 20,
   "id": "a0935a00",
   "metadata": {},
   "outputs": [
    {
     "data": {
      "image/png": "[encoded data removed]",
      "text/plain": [
       "<Figure size 576x576 with 1 Axes>"
      ]
     },
     "metadata": {},
     "output_type": "display_data"
    }
   ],
   "source": [
    "plt.figure(figsize=(8, 8))\n",
    "stats.probplot(group_2, dist=\"norm\", plot=plt)\n",
    "plt.title('QQ-график для экспоненциально распределенных данных')\n",
    "plt.xlabel('Теоретические квантили')\n",
    "plt.ylabel('Выборочные квантили')\n",
    "plt.grid()\n",
    "plt.show()"
   ]
  },
  {
   "cell_type": "markdown",
   "id": "00024b21",
   "metadata": {},
   "source": [
    "##### Распределение не нормальное,поэтому применим тест Манна-Уитни."
   ]
  },
  {
   "cell_type": "code",
   "execution_count": 21,
   "id": "689f1537",
   "metadata": {},
   "outputs": [
    {
     "name": "stdout",
     "output_type": "stream",
     "text": [
      "pvalue=0.6189600878052618 > 0.05\n",
      "Нулевая гипотеза находит подтверждение! Распределения метрики в группах A и B равны\n"
     ]
    }
   ],
   "source": [
    "from scipy.stats import mannwhitneyu\n",
    "mw_test = mannwhitneyu(\n",
    "    group_1, \n",
    "    group_2, \n",
    "    alternative='less') \n",
    "                            \n",
    "                           \n",
    "if mw_test.pvalue > alpha:\n",
    "    print(f'pvalue={mw_test.pvalue} > {alpha}')\n",
    "    print('Нулевая гипотеза находит подтверждение! Распределения метрики в группах A и B равны')\n",
    "else:\n",
    "    print(f'pvalue={mw_test.pvalue} < {alpha}')\n",
    "    print('Нулевая гипотеза не находит подтверждения! Распределения метрики в группах A и B различаются')"
   ]
  },
  {
   "cell_type": "markdown",
   "id": "6953e84c",
   "metadata": {
    "id": "6953e84c"
   },
   "source": [
    "## 3. Аналитическая записка\n",
    "По результатам анализа данных подготовьте аналитическую записку, в которой опишете:\n",
    "\n",
    "- Выбранный тип t-теста и уровень статистической значимости.\n",
    "\n",
    "- Результат теста, или p-value.\n",
    "\n",
    "- Вывод на основе полученного p-value, то есть интерпретацию результатов.\n",
    "\n",
    "- Одну или две возможные причины, объясняющие полученные результаты.\n",
    "\n"
   ]
  },
  {
   "cell_type": "markdown",
   "id": "05c30fc8",
   "metadata": {},
   "source": [
    "  - Для проверки гипотезы о равенстве средних двух выборок используется тест Манна — Уитни. В качестве условия он не требует нормального распределения выборочного среднего. У теста Манна — Уитни таких требований нет, и он нечувствителен к выбросам из-за рангового преобразования.Обоснование выбора теста:   \n",
    "  * тест Манна — Уитни нечувствителен к выбросам, его можно применять к любым числовым данным;  \n",
    "  * T-тест сравнивает средние значения метрик, полученных по выборке, и благодаря этому его легко интерпретировать: в среднем метрика больше или меньше в одной из групп, или же средние равны;  \n",
    "  * в данных встречаются сильные выбросы, которые нельзя просто удалить, и мы не хотим сравнивать средние значения.  \n",
    "  \n",
    "  - Уровень статистической значимости поставлен 0.05, для уменьшения риска ложноположительных результатов.   \n",
    "  \n",
    "  - Результат теста p-value > 0.05, соответственно опровергнуть нулевую гипотезу не получилось.    \n",
    "  \n",
    "  - Нулевая гипотеза,которая звучит так, что средняя активность пользователей из Москвы или Санкт-Петербурга равны и не отличаются друг от друга.  \n",
    "  \n",
    "  - Возможно, что средние значения часов прослушивания в обеих группах действительно равны, и нет значимой разницы в поведении пользователей.Либо могли присутствовать случайные факторы: езультаты могут быть подвержены случайным колебаниям, особенно если исследование проводилось в условиях, где много внешних факторов может влиять на поведение пользователей.    \n",
    "  - Одной их рекомендаций является изучение данных более подробно: провести анализ подгрупп, чтобы выявить возможные скрытые различия.\n",
    "  "
   ]
  },
  {
   "cell_type": "markdown",
   "id": "hc1d6jVISegz",
   "metadata": {
    "id": "hc1d6jVISegz"
   },
   "source": [
    "----"
   ]
  },
  {
   "cell_type": "markdown",
   "id": "NqOUIYhbrIfC",
   "metadata": {
    "id": "NqOUIYhbrIfC"
   },
   "source": [
    "# Часть 2. Анализ результатов A/B-тестирования"
   ]
  },
  {
   "cell_type": "markdown",
   "id": "tDwMKFNGsClr",
   "metadata": {
    "id": "tDwMKFNGsClr"
   },
   "source": [
    "Теперь вам нужно проанализировать другие данные. Представьте, что к вам обратились представители интернет-магазина BitMotion Kit, в котором продаются геймифицированные товары для тех, кто ведёт здоровый образ жизни. У него есть своя целевая аудитория, даже появились хиты продаж: эспандер со счётчиком и напоминанием, так и подстольный велотренажёр с Bluetooth.\n",
    "\n",
    "В будущем компания хочет расширить ассортимент товаров. Но перед этим нужно решить одну проблему. Интерфейс онлайн-магазина слишком сложен для пользователей — об этом говорят отзывы.\n",
    "\n",
    "Чтобы привлечь новых клиентов и увеличить число продаж, владельцы магазина разработали новую версию сайта и протестировали его на части пользователей. По задумке, это решение доказуемо повысит количество пользователей, которые совершат покупку.\n",
    "\n",
    "Ваша задача — провести оценку результатов A/B-теста. В вашем распоряжении:\n",
    "\n",
    "* данные о действиях пользователей и распределении их на группы,\n",
    "\n",
    "* техническое задание.\n",
    "\n",
    "Оцените корректность проведения теста и проанализируйте его результаты."
   ]
  },
  {
   "cell_type": "markdown",
   "id": "UNXAAyF5r9Rk",
   "metadata": {
    "id": "UNXAAyF5r9Rk"
   },
   "source": [
    "## 1. Опишите цели исследования.\n",
    "\n"
   ]
  },
  {
   "cell_type": "markdown",
   "id": "kHx-51yES8bd",
   "metadata": {
    "id": "kHx-51yES8bd"
   },
   "source": []
  },
  {
   "cell_type": "markdown",
   "id": "_CZryx2OsH-s",
   "metadata": {
    "id": "_CZryx2OsH-s"
   },
   "source": [
    "## 2. Загрузите данные, оцените их целостность.\n"
   ]
  },
  {
   "cell_type": "code",
   "execution_count": 22,
   "id": "DjFcJbeGsTIg",
   "metadata": {
    "id": "DjFcJbeGsTIg"
   },
   "outputs": [],
   "source": [
    "participants = pd.read_csv('https://code.s3.yandex.net/datasets/ab_test_participants.csv')\n",
    "events = pd.read_csv('https://code.s3.yandex.net/datasets/ab_test_events.zip',\n",
    "                     parse_dates=['event_dt'], low_memory=False)"
   ]
  },
  {
   "cell_type": "markdown",
   "id": "CnzA-efasUrk",
   "metadata": {
    "id": "CnzA-efasUrk"
   },
   "source": [
    "## 3. По таблице `ab_test_participants` оцените корректность проведения теста:\n",
    "\n",
    "   3\\.1 Выделите пользователей, участвующих в тесте, и проверьте:\n",
    "\n",
    "   - соответствие требованиям технического задания,\n",
    "\n",
    "   - равномерность распределения пользователей по группам теста,\n",
    "\n",
    "   - отсутствие пересечений с конкурирующим тестом (нет пользователей, участвующих одновременно в двух тестовых группах)."
   ]
  },
  {
   "cell_type": "code",
   "execution_count": 23,
   "id": "aNa3zHrKslEN",
   "metadata": {
    "id": "aNa3zHrKslEN"
   },
   "outputs": [
    {
     "name": "stdout",
     "output_type": "stream",
     "text": [
      "Количество дубликатов:0\n"
     ]
    },
    {
     "data": {
      "text/html": [
       "<div>\n",
       "<style scoped>\n",
       "    .dataframe tbody tr th:only-of-type {\n",
       "        vertical-align: middle;\n",
       "    }\n",
       "\n",
       "    .dataframe tbody tr th {\n",
       "        vertical-align: top;\n",
       "    }\n",
       "\n",
       "    .dataframe thead th {\n",
       "        text-align: right;\n",
       "    }\n",
       "</style>\n",
       "<table border=\"1\" class=\"dataframe\">\n",
       "  <thead>\n",
       "    <tr style=\"text-align: right;\">\n",
       "      <th></th>\n",
       "      <th>user_id</th>\n",
       "      <th>group</th>\n",
       "      <th>ab_test</th>\n",
       "      <th>device</th>\n",
       "    </tr>\n",
       "  </thead>\n",
       "  <tbody>\n",
       "    <tr>\n",
       "      <th>0</th>\n",
       "      <td>0002CE61FF2C4011</td>\n",
       "      <td>B</td>\n",
       "      <td>interface_eu_test</td>\n",
       "      <td>Mac</td>\n",
       "    </tr>\n",
       "    <tr>\n",
       "      <th>1</th>\n",
       "      <td>001064FEAAB631A1</td>\n",
       "      <td>B</td>\n",
       "      <td>recommender_system_test</td>\n",
       "      <td>Android</td>\n",
       "    </tr>\n",
       "    <tr>\n",
       "      <th>2</th>\n",
       "      <td>001064FEAAB631A1</td>\n",
       "      <td>A</td>\n",
       "      <td>interface_eu_test</td>\n",
       "      <td>Android</td>\n",
       "    </tr>\n",
       "    <tr>\n",
       "      <th>3</th>\n",
       "      <td>0010A1C096941592</td>\n",
       "      <td>A</td>\n",
       "      <td>recommender_system_test</td>\n",
       "      <td>Android</td>\n",
       "    </tr>\n",
       "    <tr>\n",
       "      <th>4</th>\n",
       "      <td>001E72F50D1C48FA</td>\n",
       "      <td>A</td>\n",
       "      <td>interface_eu_test</td>\n",
       "      <td>Mac</td>\n",
       "    </tr>\n",
       "  </tbody>\n",
       "</table>\n",
       "</div>"
      ],
      "text/plain": [
       "            user_id group                  ab_test   device\n",
       "0  0002CE61FF2C4011     B        interface_eu_test      Mac\n",
       "1  001064FEAAB631A1     B  recommender_system_test  Android\n",
       "2  001064FEAAB631A1     A        interface_eu_test  Android\n",
       "3  0010A1C096941592     A  recommender_system_test  Android\n",
       "4  001E72F50D1C48FA     A        interface_eu_test      Mac"
      ]
     },
     "execution_count": 23,
     "metadata": {},
     "output_type": "execute_result"
    }
   ],
   "source": [
    "print(f'Количество дубликатов:{participants.duplicated().sum()}')\n",
    "participants.head()"
   ]
  },
  {
   "cell_type": "code",
   "execution_count": 24,
   "id": "0f970348",
   "metadata": {},
   "outputs": [
    {
     "name": "stdout",
     "output_type": "stream",
     "text": [
      "Количество пользователей,попавших в две группы:  446\n",
      "Распределение количества пользователей в двух группах после удаления дубликатов: \n",
      "  group  user_id\n",
      "0     A     7684\n",
      "1     B     5949\n"
     ]
    }
   ],
   "source": [
    "\n",
    "gr_A = participants[participants['group'] == 'A']['user_id']\n",
    "gr_B = participants[participants['group'] == 'B']['user_id']\n",
    "\n",
    "intersection = set(gr_A) & set(gr_B)\n",
    "print(f'Количество пользователей,попавших в две группы:  {len(intersection)}') \n",
    "\n",
    "participants = participants[~participants['user_id'].isin(intersection)] \n",
    "\n",
    "p_group = participants.groupby('group')['user_id'].agg('count').reset_index()\n",
    "\n",
    "print(f'Распределение количества пользователей в двух группах после удаления дубликатов: \\n{p_group}')"
   ]
  },
  {
   "cell_type": "code",
   "execution_count": 25,
   "id": "aa5a23f3",
   "metadata": {},
   "outputs": [
    {
     "data": {
      "text/plain": [
       "(55.78380836870831, 44.21619163129169)"
      ]
     },
     "execution_count": 25,
     "metadata": {},
     "output_type": "execute_result"
    }
   ],
   "source": [
    "100 * participants[participants['group'] == 'A']['user_id'].nunique() / participants['user_id'].nunique(), 100 * participants[participants['group'] == 'B']['user_id'].nunique() / participants['user_id'].nunique()"
   ]
  },
  {
   "cell_type": "markdown",
   "id": "GjulgSrlsqUU",
   "metadata": {
    "id": "GjulgSrlsqUU"
   },
   "source": [
    "3\\.2 Проанализируйте данные о пользовательской активности по таблице `ab_test_events`:\n",
    "\n",
    "- оставьте только события, связанные с участвующими в изучаемом тесте пользователями;"
   ]
  },
  {
   "cell_type": "code",
   "execution_count": 26,
   "id": "44a69f0a",
   "metadata": {},
   "outputs": [
    {
     "data": {
      "text/html": [
       "<div>\n",
       "<style scoped>\n",
       "    .dataframe tbody tr th:only-of-type {\n",
       "        vertical-align: middle;\n",
       "    }\n",
       "\n",
       "    .dataframe tbody tr th {\n",
       "        vertical-align: top;\n",
       "    }\n",
       "\n",
       "    .dataframe thead th {\n",
       "        text-align: right;\n",
       "    }\n",
       "</style>\n",
       "<table border=\"1\" class=\"dataframe\">\n",
       "  <thead>\n",
       "    <tr style=\"text-align: right;\">\n",
       "      <th></th>\n",
       "      <th>user_id</th>\n",
       "      <th>event_dt</th>\n",
       "      <th>event_name</th>\n",
       "      <th>details</th>\n",
       "    </tr>\n",
       "  </thead>\n",
       "  <tbody>\n",
       "    <tr>\n",
       "      <th>0</th>\n",
       "      <td>GLOBAL</td>\n",
       "      <td>2020-12-01 00:00:00</td>\n",
       "      <td>End of Black Friday Ads Campaign</td>\n",
       "      <td>ZONE_CODE15</td>\n",
       "    </tr>\n",
       "    <tr>\n",
       "      <th>1</th>\n",
       "      <td>CCBE9E7E99F94A08</td>\n",
       "      <td>2020-12-01 00:00:11</td>\n",
       "      <td>registration</td>\n",
       "      <td>0.0</td>\n",
       "    </tr>\n",
       "    <tr>\n",
       "      <th>2</th>\n",
       "      <td>GLOBAL</td>\n",
       "      <td>2020-12-01 00:00:25</td>\n",
       "      <td>product_page</td>\n",
       "      <td>NaN</td>\n",
       "    </tr>\n",
       "    <tr>\n",
       "      <th>3</th>\n",
       "      <td>CCBE9E7E99F94A08</td>\n",
       "      <td>2020-12-01 00:00:33</td>\n",
       "      <td>login</td>\n",
       "      <td>NaN</td>\n",
       "    </tr>\n",
       "    <tr>\n",
       "      <th>4</th>\n",
       "      <td>CCBE9E7E99F94A08</td>\n",
       "      <td>2020-12-01 00:00:52</td>\n",
       "      <td>product_page</td>\n",
       "      <td>NaN</td>\n",
       "    </tr>\n",
       "  </tbody>\n",
       "</table>\n",
       "</div>"
      ],
      "text/plain": [
       "            user_id            event_dt                        event_name  \\\n",
       "0            GLOBAL 2020-12-01 00:00:00  End of Black Friday Ads Campaign   \n",
       "1  CCBE9E7E99F94A08 2020-12-01 00:00:11                      registration   \n",
       "2            GLOBAL 2020-12-01 00:00:25                      product_page   \n",
       "3  CCBE9E7E99F94A08 2020-12-01 00:00:33                             login   \n",
       "4  CCBE9E7E99F94A08 2020-12-01 00:00:52                      product_page   \n",
       "\n",
       "       details  \n",
       "0  ZONE_CODE15  \n",
       "1          0.0  \n",
       "2          NaN  \n",
       "3          NaN  \n",
       "4          NaN  "
      ]
     },
     "execution_count": 26,
     "metadata": {},
     "output_type": "execute_result"
    }
   ],
   "source": [
    "events.head()"
   ]
  },
  {
   "cell_type": "code",
   "execution_count": 27,
   "id": "c81c5fae",
   "metadata": {},
   "outputs": [
    {
     "name": "stdout",
     "output_type": "stream",
     "text": [
      "<class 'pandas.core.frame.DataFrame'>\n",
      "RangeIndex: 787286 entries, 0 to 787285\n",
      "Data columns (total 4 columns):\n",
      " #   Column      Non-Null Count   Dtype         \n",
      "---  ------      --------------   -----         \n",
      " 0   user_id     787286 non-null  object        \n",
      " 1   event_dt    787286 non-null  datetime64[ns]\n",
      " 2   event_name  787286 non-null  object        \n",
      " 3   details     249022 non-null  object        \n",
      "dtypes: datetime64[ns](1), object(3)\n",
      "memory usage: 24.0+ MB\n"
     ]
    }
   ],
   "source": [
    "events.info()"
   ]
  },
  {
   "cell_type": "code",
   "execution_count": 28,
   "id": "QMt0Ybo_swDK",
   "metadata": {
    "id": "QMt0Ybo_swDK"
   },
   "outputs": [
    {
     "data": {
      "text/html": [
       "<div>\n",
       "<style scoped>\n",
       "    .dataframe tbody tr th:only-of-type {\n",
       "        vertical-align: middle;\n",
       "    }\n",
       "\n",
       "    .dataframe tbody tr th {\n",
       "        vertical-align: top;\n",
       "    }\n",
       "\n",
       "    .dataframe thead th {\n",
       "        text-align: right;\n",
       "    }\n",
       "</style>\n",
       "<table border=\"1\" class=\"dataframe\">\n",
       "  <thead>\n",
       "    <tr style=\"text-align: right;\">\n",
       "      <th></th>\n",
       "      <th>user_id</th>\n",
       "      <th>group</th>\n",
       "      <th>ab_test</th>\n",
       "      <th>device</th>\n",
       "      <th>event_dt</th>\n",
       "      <th>event_name</th>\n",
       "      <th>details</th>\n",
       "    </tr>\n",
       "  </thead>\n",
       "  <tbody>\n",
       "    <tr>\n",
       "      <th>0</th>\n",
       "      <td>0002CE61FF2C4011</td>\n",
       "      <td>B</td>\n",
       "      <td>interface_eu_test</td>\n",
       "      <td>Mac</td>\n",
       "      <td>2020-12-07 04:37:31</td>\n",
       "      <td>registration</td>\n",
       "      <td>-2.38</td>\n",
       "    </tr>\n",
       "    <tr>\n",
       "      <th>1</th>\n",
       "      <td>0002CE61FF2C4011</td>\n",
       "      <td>B</td>\n",
       "      <td>interface_eu_test</td>\n",
       "      <td>Mac</td>\n",
       "      <td>2020-12-07 04:37:49</td>\n",
       "      <td>login</td>\n",
       "      <td>NaN</td>\n",
       "    </tr>\n",
       "    <tr>\n",
       "      <th>2</th>\n",
       "      <td>0002CE61FF2C4011</td>\n",
       "      <td>B</td>\n",
       "      <td>interface_eu_test</td>\n",
       "      <td>Mac</td>\n",
       "      <td>2020-12-07 04:37:57</td>\n",
       "      <td>login</td>\n",
       "      <td>NaN</td>\n",
       "    </tr>\n",
       "    <tr>\n",
       "      <th>3</th>\n",
       "      <td>0002CE61FF2C4011</td>\n",
       "      <td>B</td>\n",
       "      <td>interface_eu_test</td>\n",
       "      <td>Mac</td>\n",
       "      <td>2020-12-07 04:38:54</td>\n",
       "      <td>login</td>\n",
       "      <td>NaN</td>\n",
       "    </tr>\n",
       "    <tr>\n",
       "      <th>4</th>\n",
       "      <td>0002CE61FF2C4011</td>\n",
       "      <td>B</td>\n",
       "      <td>interface_eu_test</td>\n",
       "      <td>Mac</td>\n",
       "      <td>2020-12-08 22:15:35</td>\n",
       "      <td>login</td>\n",
       "      <td>NaN</td>\n",
       "    </tr>\n",
       "  </tbody>\n",
       "</table>\n",
       "</div>"
      ],
      "text/plain": [
       "            user_id group            ab_test device            event_dt  \\\n",
       "0  0002CE61FF2C4011     B  interface_eu_test    Mac 2020-12-07 04:37:31   \n",
       "1  0002CE61FF2C4011     B  interface_eu_test    Mac 2020-12-07 04:37:49   \n",
       "2  0002CE61FF2C4011     B  interface_eu_test    Mac 2020-12-07 04:37:57   \n",
       "3  0002CE61FF2C4011     B  interface_eu_test    Mac 2020-12-07 04:38:54   \n",
       "4  0002CE61FF2C4011     B  interface_eu_test    Mac 2020-12-08 22:15:35   \n",
       "\n",
       "     event_name details  \n",
       "0  registration   -2.38  \n",
       "1         login     NaN  \n",
       "2         login     NaN  \n",
       "3         login     NaN  \n",
       "4         login     NaN  "
      ]
     },
     "execution_count": 28,
     "metadata": {},
     "output_type": "execute_result"
    }
   ],
   "source": [
    "df_1 = participants.merge(events,on='user_id',how='left')\n",
    "df_1.head()"
   ]
  },
  {
   "cell_type": "code",
   "execution_count": 29,
   "id": "0d5641a7",
   "metadata": {},
   "outputs": [
    {
     "data": {
      "text/plain": [
       "array(['interface_eu_test', 'recommender_system_test'], dtype=object)"
      ]
     },
     "execution_count": 29,
     "metadata": {},
     "output_type": "execute_result"
    }
   ],
   "source": [
    "df_1['ab_test'].unique()"
   ]
  },
  {
   "cell_type": "markdown",
   "id": "f717e8ba",
   "metadata": {},
   "source": [
    "##### В заданных параметрах теста название определено как `interface_eu_test`. В графе `ab_test` присутствует еще одно название,не относящееся к названию,соответственно данные пользователей,относящихся к другому тесту мы можем удалить."
   ]
  },
  {
   "cell_type": "code",
   "execution_count": 30,
   "id": "4b1e64ab",
   "metadata": {},
   "outputs": [],
   "source": [
    "rec_sys_test = df_1[df_1['ab_test'] == 'recommender_system_test']['user_id']\n",
    "intersect = set(rec_sys_test)\n",
    "df_1 = df_1[~df_1['user_id'].isin(intersect)]"
   ]
  },
  {
   "cell_type": "code",
   "execution_count": 31,
   "id": "7d97b466",
   "metadata": {},
   "outputs": [
    {
     "data": {
      "text/html": [
       "<div>\n",
       "<style scoped>\n",
       "    .dataframe tbody tr th:only-of-type {\n",
       "        vertical-align: middle;\n",
       "    }\n",
       "\n",
       "    .dataframe tbody tr th {\n",
       "        vertical-align: top;\n",
       "    }\n",
       "\n",
       "    .dataframe thead th {\n",
       "        text-align: right;\n",
       "    }\n",
       "</style>\n",
       "<table border=\"1\" class=\"dataframe\">\n",
       "  <thead>\n",
       "    <tr style=\"text-align: right;\">\n",
       "      <th></th>\n",
       "      <th>group</th>\n",
       "      <th>user_id</th>\n",
       "    </tr>\n",
       "  </thead>\n",
       "  <tbody>\n",
       "    <tr>\n",
       "      <th>0</th>\n",
       "      <td>A</td>\n",
       "      <td>4952</td>\n",
       "    </tr>\n",
       "    <tr>\n",
       "      <th>1</th>\n",
       "      <td>B</td>\n",
       "      <td>5011</td>\n",
       "    </tr>\n",
       "  </tbody>\n",
       "</table>\n",
       "</div>"
      ],
      "text/plain": [
       "  group  user_id\n",
       "0     A     4952\n",
       "1     B     5011"
      ]
     },
     "execution_count": 31,
     "metadata": {},
     "output_type": "execute_result"
    }
   ],
   "source": [
    "df_1.groupby('group')['user_id'].agg('nunique').reset_index()"
   ]
  },
  {
   "cell_type": "code",
   "execution_count": 32,
   "id": "2949f4d1",
   "metadata": {},
   "outputs": [
    {
     "data": {
      "text/plain": [
       "(49.70390444645187, 50.29609555354813)"
      ]
     },
     "execution_count": 32,
     "metadata": {},
     "output_type": "execute_result"
    }
   ],
   "source": [
    "100 * df_1[df_1['group'] == 'A']['user_id'].nunique() / df_1['user_id'].nunique(), 100 * df_1[df_1['group'] == 'B']['user_id'].nunique() / df_1['user_id'].nunique() "
   ]
  },
  {
   "cell_type": "markdown",
   "id": "e699d754",
   "metadata": {},
   "source": [
    "##### Распределение пользователей по группам корректно. Небольшое отклонение менее 1% можно оставить."
   ]
  },
  {
   "cell_type": "markdown",
   "id": "fBZ4DC2xswZJ",
   "metadata": {
    "id": "fBZ4DC2xswZJ"
   },
   "source": [
    "- определите горизонт анализа: рассчитайте время (лайфтайм) совершения события пользователем после регистрации и оставьте только те события, которые были выполнены в течение первых семи дней с момента регистрации;"
   ]
  },
  {
   "cell_type": "code",
   "execution_count": 33,
   "id": "sES4-dKts0Yb",
   "metadata": {
    "id": "sES4-dKts0Yb"
   },
   "outputs": [
    {
     "data": {
      "text/html": [
       "<div>\n",
       "<style scoped>\n",
       "    .dataframe tbody tr th:only-of-type {\n",
       "        vertical-align: middle;\n",
       "    }\n",
       "\n",
       "    .dataframe tbody tr th {\n",
       "        vertical-align: top;\n",
       "    }\n",
       "\n",
       "    .dataframe thead th {\n",
       "        text-align: right;\n",
       "    }\n",
       "</style>\n",
       "<table border=\"1\" class=\"dataframe\">\n",
       "  <thead>\n",
       "    <tr style=\"text-align: right;\">\n",
       "      <th></th>\n",
       "      <th>user_id</th>\n",
       "      <th>group</th>\n",
       "      <th>ab_test</th>\n",
       "      <th>device</th>\n",
       "      <th>event_dt_x</th>\n",
       "      <th>event_name</th>\n",
       "      <th>details</th>\n",
       "      <th>event_dt_y</th>\n",
       "      <th>day_reg</th>\n",
       "    </tr>\n",
       "  </thead>\n",
       "  <tbody>\n",
       "    <tr>\n",
       "      <th>0</th>\n",
       "      <td>0002CE61FF2C4011</td>\n",
       "      <td>B</td>\n",
       "      <td>interface_eu_test</td>\n",
       "      <td>Mac</td>\n",
       "      <td>2020-12-07 04:37:31</td>\n",
       "      <td>registration</td>\n",
       "      <td>-2.38</td>\n",
       "      <td>2020-12-07 04:37:31</td>\n",
       "      <td>0</td>\n",
       "    </tr>\n",
       "    <tr>\n",
       "      <th>1</th>\n",
       "      <td>0002CE61FF2C4011</td>\n",
       "      <td>B</td>\n",
       "      <td>interface_eu_test</td>\n",
       "      <td>Mac</td>\n",
       "      <td>2020-12-07 04:37:49</td>\n",
       "      <td>login</td>\n",
       "      <td>NaN</td>\n",
       "      <td>2020-12-07 04:37:31</td>\n",
       "      <td>0</td>\n",
       "    </tr>\n",
       "    <tr>\n",
       "      <th>2</th>\n",
       "      <td>0002CE61FF2C4011</td>\n",
       "      <td>B</td>\n",
       "      <td>interface_eu_test</td>\n",
       "      <td>Mac</td>\n",
       "      <td>2020-12-07 04:37:57</td>\n",
       "      <td>login</td>\n",
       "      <td>NaN</td>\n",
       "      <td>2020-12-07 04:37:31</td>\n",
       "      <td>0</td>\n",
       "    </tr>\n",
       "    <tr>\n",
       "      <th>3</th>\n",
       "      <td>0002CE61FF2C4011</td>\n",
       "      <td>B</td>\n",
       "      <td>interface_eu_test</td>\n",
       "      <td>Mac</td>\n",
       "      <td>2020-12-07 04:38:54</td>\n",
       "      <td>login</td>\n",
       "      <td>NaN</td>\n",
       "      <td>2020-12-07 04:37:31</td>\n",
       "      <td>0</td>\n",
       "    </tr>\n",
       "    <tr>\n",
       "      <th>4</th>\n",
       "      <td>0002CE61FF2C4011</td>\n",
       "      <td>B</td>\n",
       "      <td>interface_eu_test</td>\n",
       "      <td>Mac</td>\n",
       "      <td>2020-12-08 22:15:35</td>\n",
       "      <td>login</td>\n",
       "      <td>NaN</td>\n",
       "      <td>2020-12-07 04:37:31</td>\n",
       "      <td>1</td>\n",
       "    </tr>\n",
       "  </tbody>\n",
       "</table>\n",
       "</div>"
      ],
      "text/plain": [
       "            user_id group            ab_test device          event_dt_x  \\\n",
       "0  0002CE61FF2C4011     B  interface_eu_test    Mac 2020-12-07 04:37:31   \n",
       "1  0002CE61FF2C4011     B  interface_eu_test    Mac 2020-12-07 04:37:49   \n",
       "2  0002CE61FF2C4011     B  interface_eu_test    Mac 2020-12-07 04:37:57   \n",
       "3  0002CE61FF2C4011     B  interface_eu_test    Mac 2020-12-07 04:38:54   \n",
       "4  0002CE61FF2C4011     B  interface_eu_test    Mac 2020-12-08 22:15:35   \n",
       "\n",
       "     event_name details          event_dt_y  day_reg  \n",
       "0  registration   -2.38 2020-12-07 04:37:31        0  \n",
       "1         login     NaN 2020-12-07 04:37:31        0  \n",
       "2         login     NaN 2020-12-07 04:37:31        0  \n",
       "3         login     NaN 2020-12-07 04:37:31        0  \n",
       "4         login     NaN 2020-12-07 04:37:31        1  "
      ]
     },
     "execution_count": 33,
     "metadata": {},
     "output_type": "execute_result"
    }
   ],
   "source": [
    "registration_times = df_1[df_1['event_name'] == 'registration'][['user_id', 'event_dt']]\n",
    "\n",
    "df_1 = df_1.merge(registration_times, on='user_id', how='left')\n",
    "\n",
    "df_1['day_reg'] = (df_1['event_dt_x'] - df_1['event_dt_y']).dt.days\n",
    "\n",
    "df_1 = df_1[df_1['day_reg'] <= 7]\n",
    "\n",
    "df_1.head()"
   ]
  },
  {
   "cell_type": "markdown",
   "id": "7cf1df48",
   "metadata": {},
   "source": [
    "Оцените достаточность выборки для получения статистически значимых результатов A/B-теста. Заданные параметры:\n",
    "\n",
    "- базовый показатель конверсии — 30%,\n",
    "\n",
    "- мощность теста — 80%,\n",
    "\n",
    "- достоверность теста — 95%."
   ]
  },
  {
   "cell_type": "code",
   "execution_count": 34,
   "id": "559c7701",
   "metadata": {},
   "outputs": [
    {
     "name": "stdout",
     "output_type": "stream",
     "text": [
      "Необходимый размер выборки для каждой группы: 3763\n"
     ]
    }
   ],
   "source": [
    "from statsmodels.stats.power import NormalIndPower\n",
    "\n",
    "alpha = 0.05   \n",
    "beta = 0.2 \n",
    "power = 1 - beta  \n",
    "p1 = 0.30  \n",
    "p2 = 0.33 \n",
    "\n",
    "p = (p1 + p2) / 2\n",
    "\n",
    "effect_size = (p2 - p1) / np.sqrt(p * (1 - p))\n",
    "\n",
    "power_analysis = NormalIndPower()\n",
    "\n",
    "sample_size = power_analysis.solve_power(\n",
    "    effect_size = effect_size,\n",
    "    power = power,\n",
    "    alpha = alpha,\n",
    "    ratio = 1)\n",
    "\n",
    "print(f\"Необходимый размер выборки для каждой группы: {int(sample_size)}\")"
   ]
  },
  {
   "cell_type": "markdown",
   "id": "fc6cc4b7",
   "metadata": {},
   "source": [
    "##### Размер групп 4952 и 5011. При расчете необходимый размер выборки должен быть равен 3763. Размерность групп достаточна для получения статистически значимых результатов А/В теста."
   ]
  },
  {
   "cell_type": "markdown",
   "id": "SadyUDgZs0t3",
   "metadata": {
    "id": "SadyUDgZs0t3"
   },
   "source": [
    "- рассчитайте для каждой группы количество посетителей, сделавших покупку, и общее количество посетителей."
   ]
  },
  {
   "cell_type": "code",
   "execution_count": 35,
   "id": "7ph853Xks4sy",
   "metadata": {
    "id": "7ph853Xks4sy"
   },
   "outputs": [],
   "source": [
    "grouped = df_1.groupby(['group', 'event_name'])['user_id'].nunique().reset_index()\n",
    "\n",
    "df_pivot = grouped.pivot_table(index='group', columns='event_name', values='user_id', fill_value=0)\n"
   ]
  },
  {
   "cell_type": "code",
   "execution_count": 36,
   "id": "80e103d7",
   "metadata": {},
   "outputs": [
    {
     "name": "stdout",
     "output_type": "stream",
     "text": [
      "event_name  registration  purchase  userses\n",
      "group                                      \n",
      "A                   4952      1435     9963\n",
      "B                   5011      1562     9963\n"
     ]
    }
   ],
   "source": [
    "df_pivot['userses']= df_1['user_id'].nunique()\n",
    "print(df_pivot[['registration','purchase','userses']])"
   ]
  },
  {
   "cell_type": "code",
   "execution_count": 37,
   "id": "1457823e",
   "metadata": {},
   "outputs": [
    {
     "data": {
      "image/png": "[encoded data removed]",
      "text/plain": [
       "<Figure size 720x360 with 1 Axes>"
      ]
     },
     "metadata": {},
     "output_type": "display_data"
    }
   ],
   "source": [
    "\n",
    "plt.figure(figsize=(10, 5))  \n",
    "df_pivot['purchase'].plot(kind='bar')   \n",
    "plt.title('Пользователи ,совершившие покупку')\n",
    "plt.xlabel('Группа')\n",
    "plt.ylabel('Количество пользователей')\n",
    "plt.grid(axis='y') \n",
    "plt.xticks(rotation=0)  \n",
    "plt.show()  "
   ]
  },
  {
   "cell_type": "code",
   "execution_count": 38,
   "id": "b13c1bc3",
   "metadata": {},
   "outputs": [
    {
     "data": {
      "text/html": [
       "<div>\n",
       "<style scoped>\n",
       "    .dataframe tbody tr th:only-of-type {\n",
       "        vertical-align: middle;\n",
       "    }\n",
       "\n",
       "    .dataframe tbody tr th {\n",
       "        vertical-align: top;\n",
       "    }\n",
       "\n",
       "    .dataframe thead th {\n",
       "        text-align: right;\n",
       "    }\n",
       "</style>\n",
       "<table border=\"1\" class=\"dataframe\">\n",
       "  <thead>\n",
       "    <tr style=\"text-align: right;\">\n",
       "      <th>event_name</th>\n",
       "      <th>login</th>\n",
       "      <th>product_cart</th>\n",
       "      <th>product_page</th>\n",
       "      <th>purchase</th>\n",
       "      <th>registration</th>\n",
       "      <th>userses</th>\n",
       "      <th>conv</th>\n",
       "    </tr>\n",
       "    <tr>\n",
       "      <th>group</th>\n",
       "      <th></th>\n",
       "      <th></th>\n",
       "      <th></th>\n",
       "      <th></th>\n",
       "      <th></th>\n",
       "      <th></th>\n",
       "      <th></th>\n",
       "    </tr>\n",
       "  </thead>\n",
       "  <tbody>\n",
       "    <tr>\n",
       "      <th>A</th>\n",
       "      <td>4952</td>\n",
       "      <td>1457</td>\n",
       "      <td>3155</td>\n",
       "      <td>1435</td>\n",
       "      <td>4952</td>\n",
       "      <td>9963</td>\n",
       "      <td>14.403292</td>\n",
       "    </tr>\n",
       "    <tr>\n",
       "      <th>B</th>\n",
       "      <td>5010</td>\n",
       "      <td>1398</td>\n",
       "      <td>3230</td>\n",
       "      <td>1562</td>\n",
       "      <td>5011</td>\n",
       "      <td>9963</td>\n",
       "      <td>15.678009</td>\n",
       "    </tr>\n",
       "  </tbody>\n",
       "</table>\n",
       "</div>"
      ],
      "text/plain": [
       "event_name  login  product_cart  product_page  purchase  registration  \\\n",
       "group                                                                   \n",
       "A            4952          1457          3155      1435          4952   \n",
       "B            5010          1398          3230      1562          5011   \n",
       "\n",
       "event_name  userses       conv  \n",
       "group                           \n",
       "A              9963  14.403292  \n",
       "B              9963  15.678009  "
      ]
     },
     "execution_count": 38,
     "metadata": {},
     "output_type": "execute_result"
    }
   ],
   "source": [
    "df_pivot['conv'] = df_pivot['purchase']/df_pivot['userses']*100\n",
    "df_pivot"
   ]
  },
  {
   "cell_type": "code",
   "execution_count": 39,
   "id": "e2e6b4e4",
   "metadata": {},
   "outputs": [
    {
     "name": "stdout",
     "output_type": "stream",
     "text": [
      "Конверсия увеличилась на 1.27 %\n"
     ]
    }
   ],
   "source": [
    "c = df_pivot.iloc[1]['conv']-df_pivot.iloc[0]['conv']\n",
    "print(f'Конверсия увеличилась на {c:.2f} %')"
   ]
  },
  {
   "cell_type": "markdown",
   "id": "sh1JpGvAs5E3",
   "metadata": {
    "id": "sh1JpGvAs5E3"
   },
   "source": [
    "- сделайте предварительный общий вывод об изменении пользовательской активности в тестовой группе по сравнению с контрольной."
   ]
  },
  {
   "cell_type": "markdown",
   "id": "07381513",
   "metadata": {
    "id": "hHTHPkJYs8mE"
   },
   "source": [
    "##### По предварительным данным, мы видим рост пользователей в тестовой группе В,совершившим покупку в интернет-магазине.Возможно изменение интерфейса интернет-магазина положительно повлияло на динамику совершения покупки пользователями."
   ]
  },
  {
   "cell_type": "markdown",
   "id": "IKZ1Oo3Ws919",
   "metadata": {
    "id": "IKZ1Oo3Ws919"
   },
   "source": [
    "## 4. Проведите оценку результатов A/B-тестирования:"
   ]
  },
  {
   "cell_type": "markdown",
   "id": "dcUdBSmvtC-E",
   "metadata": {
    "id": "dcUdBSmvtC-E"
   },
   "source": [
    "- Проверьте изменение конверсии подходящим статистическим тестом, учитывая все этапы проверки гипотез."
   ]
  },
  {
   "cell_type": "code",
   "execution_count": 40,
   "id": "f2868fbc",
   "metadata": {},
   "outputs": [
    {
     "data": {
      "text/html": [
       "<div>\n",
       "<style scoped>\n",
       "    .dataframe tbody tr th:only-of-type {\n",
       "        vertical-align: middle;\n",
       "    }\n",
       "\n",
       "    .dataframe tbody tr th {\n",
       "        vertical-align: top;\n",
       "    }\n",
       "\n",
       "    .dataframe thead th {\n",
       "        text-align: right;\n",
       "    }\n",
       "</style>\n",
       "<table border=\"1\" class=\"dataframe\">\n",
       "  <thead>\n",
       "    <tr style=\"text-align: right;\">\n",
       "      <th>event_name</th>\n",
       "      <th>login</th>\n",
       "      <th>product_cart</th>\n",
       "      <th>product_page</th>\n",
       "      <th>purchase</th>\n",
       "      <th>registration</th>\n",
       "      <th>userses</th>\n",
       "      <th>conv</th>\n",
       "      <th>convers</th>\n",
       "    </tr>\n",
       "    <tr>\n",
       "      <th>group</th>\n",
       "      <th></th>\n",
       "      <th></th>\n",
       "      <th></th>\n",
       "      <th></th>\n",
       "      <th></th>\n",
       "      <th></th>\n",
       "      <th></th>\n",
       "      <th></th>\n",
       "    </tr>\n",
       "  </thead>\n",
       "  <tbody>\n",
       "    <tr>\n",
       "      <th>A</th>\n",
       "      <td>4952</td>\n",
       "      <td>1457</td>\n",
       "      <td>3155</td>\n",
       "      <td>1435</td>\n",
       "      <td>4952</td>\n",
       "      <td>9963</td>\n",
       "      <td>14.403292</td>\n",
       "      <td>28.978191</td>\n",
       "    </tr>\n",
       "    <tr>\n",
       "      <th>B</th>\n",
       "      <td>5010</td>\n",
       "      <td>1398</td>\n",
       "      <td>3230</td>\n",
       "      <td>1562</td>\n",
       "      <td>5011</td>\n",
       "      <td>9963</td>\n",
       "      <td>15.678009</td>\n",
       "      <td>31.171423</td>\n",
       "    </tr>\n",
       "  </tbody>\n",
       "</table>\n",
       "</div>"
      ],
      "text/plain": [
       "event_name  login  product_cart  product_page  purchase  registration  \\\n",
       "group                                                                   \n",
       "A            4952          1457          3155      1435          4952   \n",
       "B            5010          1398          3230      1562          5011   \n",
       "\n",
       "event_name  userses       conv    convers  \n",
       "group                                      \n",
       "A              9963  14.403292  28.978191  \n",
       "B              9963  15.678009  31.171423  "
      ]
     },
     "execution_count": 40,
     "metadata": {},
     "output_type": "execute_result"
    }
   ],
   "source": [
    "df_pivot['convers'] = df_pivot['purchase']/df_pivot['registration']*100\n",
    "df_pivot"
   ]
  },
  {
   "cell_type": "markdown",
   "id": "92acb10b",
   "metadata": {},
   "source": [
    "Нулевая гипотеза H₀: Конверсия в группе B не больше, чем в группе A + 3%.\n",
    "\n",
    "Альтернативная гипотеза H₁: Конверсия в группе B больше, чем в группе A + 3%."
   ]
  },
  {
   "cell_type": "code",
   "execution_count": 41,
   "id": "bc1fecbd",
   "metadata": {},
   "outputs": [
    {
     "data": {
      "text/plain": [
       "(4952.0, 5011.0, 1435.0, 1562.0)"
      ]
     },
     "execution_count": 41,
     "metadata": {},
     "output_type": "execute_result"
    }
   ],
   "source": [
    "n_a= df_pivot.iloc[0]['registration'] \n",
    "n_b = df_pivot.iloc[1]['registration']\n",
    "m_a = df_pivot.iloc[0]['purchase']\n",
    "m_b = df_pivot.iloc[1]['purchase']\n",
    "n_a,n_b,m_a,m_b"
   ]
  },
  {
   "cell_type": "code",
   "execution_count": 42,
   "id": "l_KOziBQtL3t",
   "metadata": {
    "id": "l_KOziBQtL3t"
   },
   "outputs": [
    {
     "name": "stdout",
     "output_type": "stream",
     "text": [
      "Конверсия группы A: 28.98%\n",
      "Конверсия группы B: 31.17%\n",
      "pvalue=0.00850027205373803 < 0.05\n",
      "Нулевая гипотеза не находит подтверждения!\n"
     ]
    }
   ],
   "source": [
    "from statsmodels.stats.proportion import proportions_ztest\n",
    "\n",
    "n_a= df_pivot.iloc[0]['registration'] \n",
    "n_b = df_pivot.iloc[1]['registration']\n",
    "m_a = df_pivot.iloc[0]['purchase']\n",
    "m_b = df_pivot.iloc[1]['purchase']\n",
    "\n",
    "conversion_a = (m_a / n_a) * 100\n",
    "conversion_b = (m_b / n_b) * 100\n",
    "\n",
    "print(f'Конверсия группы A: {conversion_a:.2f}%')\n",
    "print(f'Конверсия группы B: {conversion_b:.2f}%')\n",
    "\n",
    "alpha = 0.05 \n",
    "\n",
    "stat_ztest, p_value_ztest = proportions_ztest(\n",
    "    [m_b, m_a],\n",
    "    [n_b, n_a],\n",
    "    alternative='larger' \n",
    ")\n",
    "p_value_ztest\n",
    "\n",
    "\n",
    "if p_value_ztest > alpha:\n",
    "    print(f'pvalue={p_value_ztest} > {alpha}')\n",
    "    print('Нулевая гипотеза находит подтверждение!')\n",
    "else:\n",
    "    print(f'pvalue={p_value_ztest} < {alpha}')\n",
    "    print('Нулевая гипотеза не находит подтверждения!')\n"
   ]
  },
  {
   "cell_type": "markdown",
   "id": "9jkyKOjgtGoc",
   "metadata": {
    "id": "9jkyKOjgtGoc"
   },
   "source": [
    "- Опишите выводы по проведённой оценке результатов A/B-тестирования. Что можно сказать про результаты A/B-тестирования? Был ли достигнут ожидаемый эффект в изменении конверсии?"
   ]
  },
  {
   "cell_type": "markdown",
   "id": "a1f72496",
   "metadata": {},
   "source": [
    "### Вывод    \n",
    " В результате проведенного А/В теста делаем следующие выводы:   \n",
    " - В результате теста были задействованы 2 группы. Группы были независимы друг от друга и по количеству соизмеримы;   \n",
    " - Для измерения ожидаемого эффекта в измерении конверсии был использован z-тест;   \n",
    " - р-value равен ~0.0085,что меньше уровня статистической значимости;   \n",
    " - Нулевая гипотеза не находит подтверждения,что говорит о том,что упрощение интерфейса привело к увеличению конверсии в тестовой группе В, в сравнении с контрольной группе А;   \n",
    " - Конверсия в группе А = 28,98%, в группе В = 31,17%. Разница 2,19 %. \n",
    " \n"
   ]
  }
 ],
 "metadata": {
  "ExecuteTimeLog": [
   {
    "duration": 47,
    "start_time": "2025-05-08T16:55:40.202Z"
   },
   {
    "duration": 2,
    "start_time": "2025-05-08T17:01:19.837Z"
   },
   {
    "duration": 22,
    "start_time": "2025-05-08T17:01:21.205Z"
   },
   {
    "duration": 33,
    "start_time": "2025-05-08T17:01:35.620Z"
   },
   {
    "duration": 34,
    "start_time": "2025-05-08T17:01:53.990Z"
   },
   {
    "duration": 52,
    "start_time": "2025-05-12T18:00:19.558Z"
   },
   {
    "duration": 1425,
    "start_time": "2025-05-12T18:00:25.021Z"
   },
   {
    "duration": 56,
    "start_time": "2025-05-12T18:00:26.450Z"
   },
   {
    "duration": 17,
    "start_time": "2025-05-12T18:00:26.508Z"
   },
   {
    "duration": 9,
    "start_time": "2025-05-12T18:00:26.528Z"
   },
   {
    "duration": 5,
    "start_time": "2025-05-12T18:00:26.539Z"
   },
   {
    "duration": 38,
    "start_time": "2025-05-12T18:00:26.546Z"
   },
   {
    "duration": 23,
    "start_time": "2025-05-12T18:00:26.586Z"
   },
   {
    "duration": 1667,
    "start_time": "2025-05-12T18:00:26.610Z"
   },
   {
    "duration": 118,
    "start_time": "2025-05-12T18:11:27.237Z"
   },
   {
    "duration": 6,
    "start_time": "2025-05-12T18:11:55.718Z"
   },
   {
    "duration": 9,
    "start_time": "2025-05-12T18:16:57.271Z"
   },
   {
    "duration": 7,
    "start_time": "2025-05-12T18:16:58.503Z"
   },
   {
    "duration": 29,
    "start_time": "2025-05-12T18:22:05.476Z"
   },
   {
    "duration": 6,
    "start_time": "2025-05-12T18:22:50.076Z"
   },
   {
    "duration": 9,
    "start_time": "2025-05-12T18:26:56.570Z"
   },
   {
    "duration": 11,
    "start_time": "2025-05-12T18:28:26.092Z"
   },
   {
    "duration": 1348,
    "start_time": "2025-05-12T18:28:35.394Z"
   },
   {
    "duration": 53,
    "start_time": "2025-05-12T18:28:36.744Z"
   },
   {
    "duration": 15,
    "start_time": "2025-05-12T18:28:36.799Z"
   },
   {
    "duration": 9,
    "start_time": "2025-05-12T18:28:36.816Z"
   },
   {
    "duration": 5,
    "start_time": "2025-05-12T18:28:36.827Z"
   },
   {
    "duration": 29,
    "start_time": "2025-05-12T18:28:36.834Z"
   },
   {
    "duration": 5,
    "start_time": "2025-05-12T18:28:36.877Z"
   },
   {
    "duration": 0,
    "start_time": "2025-05-12T18:28:36.885Z"
   },
   {
    "duration": 0,
    "start_time": "2025-05-12T18:28:36.888Z"
   },
   {
    "duration": 9,
    "start_time": "2025-05-12T18:29:29.728Z"
   },
   {
    "duration": 10,
    "start_time": "2025-05-12T18:29:30.127Z"
   },
   {
    "duration": 10,
    "start_time": "2025-05-12T18:30:48.718Z"
   },
   {
    "duration": 9,
    "start_time": "2025-05-12T18:31:08.520Z"
   },
   {
    "duration": 10,
    "start_time": "2025-05-12T18:31:09.386Z"
   },
   {
    "duration": 9,
    "start_time": "2025-05-12T18:33:36.437Z"
   },
   {
    "duration": 1353,
    "start_time": "2025-05-12T18:34:24.123Z"
   },
   {
    "duration": 38,
    "start_time": "2025-05-12T18:34:25.479Z"
   },
   {
    "duration": 16,
    "start_time": "2025-05-12T18:34:25.519Z"
   },
   {
    "duration": 86,
    "start_time": "2025-05-12T18:34:25.537Z"
   },
   {
    "duration": 6,
    "start_time": "2025-05-12T18:34:25.626Z"
   },
   {
    "duration": 12,
    "start_time": "2025-05-12T18:34:25.634Z"
   },
   {
    "duration": 19,
    "start_time": "2025-05-12T18:34:25.648Z"
   },
   {
    "duration": 14,
    "start_time": "2025-05-12T18:34:25.670Z"
   },
   {
    "duration": 1665,
    "start_time": "2025-05-12T18:34:25.686Z"
   },
   {
    "duration": 8,
    "start_time": "2025-05-12T18:44:10.703Z"
   },
   {
    "duration": 9,
    "start_time": "2025-05-12T18:44:13.790Z"
   },
   {
    "duration": 1217,
    "start_time": "2025-05-12T18:45:26.789Z"
   },
   {
    "duration": 34,
    "start_time": "2025-05-12T18:45:28.008Z"
   },
   {
    "duration": 17,
    "start_time": "2025-05-12T18:45:28.044Z"
   },
   {
    "duration": 22,
    "start_time": "2025-05-12T18:45:28.062Z"
   },
   {
    "duration": 5,
    "start_time": "2025-05-12T18:45:28.086Z"
   },
   {
    "duration": 11,
    "start_time": "2025-05-12T18:45:28.092Z"
   },
   {
    "duration": 12,
    "start_time": "2025-05-12T18:45:28.104Z"
   },
   {
    "duration": 10,
    "start_time": "2025-05-12T18:45:28.117Z"
   },
   {
    "duration": 1567,
    "start_time": "2025-05-12T18:45:28.128Z"
   },
   {
    "duration": 11,
    "start_time": "2025-05-12T18:45:55.591Z"
   },
   {
    "duration": 11,
    "start_time": "2025-05-12T18:46:23.312Z"
   },
   {
    "duration": 1260,
    "start_time": "2025-05-12T18:48:24.360Z"
   },
   {
    "duration": 34,
    "start_time": "2025-05-12T18:48:25.622Z"
   },
   {
    "duration": 45,
    "start_time": "2025-05-12T18:48:25.658Z"
   },
   {
    "duration": 21,
    "start_time": "2025-05-12T18:48:25.706Z"
   },
   {
    "duration": 4,
    "start_time": "2025-05-12T18:48:25.729Z"
   },
   {
    "duration": 11,
    "start_time": "2025-05-12T18:48:25.735Z"
   },
   {
    "duration": 30,
    "start_time": "2025-05-12T18:48:25.748Z"
   },
   {
    "duration": 23,
    "start_time": "2025-05-12T18:48:25.780Z"
   },
   {
    "duration": 1672,
    "start_time": "2025-05-12T18:48:25.804Z"
   },
   {
    "duration": 1642,
    "start_time": "2025-05-12T19:01:32.880Z"
   },
   {
    "duration": 9,
    "start_time": "2025-05-12T19:05:06.802Z"
   },
   {
    "duration": 16,
    "start_time": "2025-05-12T19:11:33.236Z"
   },
   {
    "duration": 110,
    "start_time": "2025-05-12T19:12:52.263Z"
   },
   {
    "duration": 10,
    "start_time": "2025-05-12T19:12:56.193Z"
   },
   {
    "duration": 6,
    "start_time": "2025-05-12T19:13:26.626Z"
   },
   {
    "duration": 5,
    "start_time": "2025-05-12T19:13:47.904Z"
   },
   {
    "duration": 5,
    "start_time": "2025-05-12T19:13:56.612Z"
   },
   {
    "duration": 10,
    "start_time": "2025-05-12T19:14:18.105Z"
   },
   {
    "duration": 12,
    "start_time": "2025-05-12T19:14:23.692Z"
   },
   {
    "duration": 6,
    "start_time": "2025-05-12T19:14:40.200Z"
   },
   {
    "duration": 6,
    "start_time": "2025-05-12T19:14:47.961Z"
   },
   {
    "duration": 6,
    "start_time": "2025-05-12T19:15:18.566Z"
   },
   {
    "duration": 6,
    "start_time": "2025-05-12T19:15:33.014Z"
   },
   {
    "duration": 6,
    "start_time": "2025-05-12T19:15:44.192Z"
   },
   {
    "duration": 5,
    "start_time": "2025-05-12T19:15:50.047Z"
   },
   {
    "duration": 5,
    "start_time": "2025-05-12T19:16:04.961Z"
   },
   {
    "duration": 17,
    "start_time": "2025-05-12T19:17:11.369Z"
   },
   {
    "duration": 7,
    "start_time": "2025-05-12T19:17:28.797Z"
   },
   {
    "duration": 10,
    "start_time": "2025-05-12T19:17:38.938Z"
   },
   {
    "duration": 1133,
    "start_time": "2025-05-12T19:19:18.222Z"
   },
   {
    "duration": 1124,
    "start_time": "2025-05-12T19:19:30.771Z"
   },
   {
    "duration": 19,
    "start_time": "2025-05-12T19:19:59.377Z"
   },
   {
    "duration": 16,
    "start_time": "2025-05-12T19:22:03.387Z"
   },
   {
    "duration": 15,
    "start_time": "2025-05-12T19:22:11.228Z"
   },
   {
    "duration": 14,
    "start_time": "2025-05-12T19:23:23.545Z"
   },
   {
    "duration": 15,
    "start_time": "2025-05-12T19:23:40.762Z"
   },
   {
    "duration": 22,
    "start_time": "2025-05-12T19:23:46.300Z"
   },
   {
    "duration": 20,
    "start_time": "2025-05-12T19:24:04.115Z"
   },
   {
    "duration": 26,
    "start_time": "2025-05-12T19:24:29.902Z"
   },
   {
    "duration": 28,
    "start_time": "2025-05-12T19:24:39.093Z"
   },
   {
    "duration": 14,
    "start_time": "2025-05-12T19:24:51.153Z"
   },
   {
    "duration": 14,
    "start_time": "2025-05-12T19:26:47.446Z"
   },
   {
    "duration": 16,
    "start_time": "2025-05-12T19:27:11.445Z"
   },
   {
    "duration": 16,
    "start_time": "2025-05-12T19:27:59.518Z"
   },
   {
    "duration": 14,
    "start_time": "2025-05-12T19:28:07.213Z"
   },
   {
    "duration": 11,
    "start_time": "2025-05-12T19:31:36.550Z"
   },
   {
    "duration": 9,
    "start_time": "2025-05-12T19:33:23.934Z"
   },
   {
    "duration": 13,
    "start_time": "2025-05-12T19:34:00.433Z"
   },
   {
    "duration": 10,
    "start_time": "2025-05-12T19:34:13.912Z"
   },
   {
    "duration": 8,
    "start_time": "2025-05-12T19:35:13.268Z"
   },
   {
    "duration": 16,
    "start_time": "2025-05-12T19:35:28.696Z"
   },
   {
    "duration": 13,
    "start_time": "2025-05-12T19:36:39.226Z"
   },
   {
    "duration": 30,
    "start_time": "2025-05-12T19:37:11.146Z"
   },
   {
    "duration": 16,
    "start_time": "2025-05-12T19:39:14.780Z"
   },
   {
    "duration": 16,
    "start_time": "2025-05-12T19:39:17.238Z"
   },
   {
    "duration": 15,
    "start_time": "2025-05-12T19:41:29.349Z"
   },
   {
    "duration": 73,
    "start_time": "2025-05-12T19:42:46.013Z"
   },
   {
    "duration": 78,
    "start_time": "2025-05-12T19:42:59.594Z"
   },
   {
    "duration": 70,
    "start_time": "2025-05-12T19:43:20.744Z"
   },
   {
    "duration": 91,
    "start_time": "2025-05-12T19:44:43.356Z"
   },
   {
    "duration": 71,
    "start_time": "2025-05-12T19:45:36.902Z"
   },
   {
    "duration": 16,
    "start_time": "2025-05-12T19:45:43.624Z"
   },
   {
    "duration": 18,
    "start_time": "2025-05-12T19:46:50.385Z"
   },
   {
    "duration": 16,
    "start_time": "2025-05-12T19:47:19.545Z"
   },
   {
    "duration": 1243,
    "start_time": "2025-05-12T19:47:30.685Z"
   },
   {
    "duration": 34,
    "start_time": "2025-05-12T19:47:31.929Z"
   },
   {
    "duration": 21,
    "start_time": "2025-05-12T19:47:31.965Z"
   },
   {
    "duration": 16,
    "start_time": "2025-05-12T19:47:31.989Z"
   },
   {
    "duration": 10,
    "start_time": "2025-05-12T19:47:32.008Z"
   },
   {
    "duration": 23,
    "start_time": "2025-05-12T19:47:32.020Z"
   },
   {
    "duration": 32,
    "start_time": "2025-05-12T19:47:32.045Z"
   },
   {
    "duration": 14,
    "start_time": "2025-05-12T19:47:32.079Z"
   },
   {
    "duration": 1560,
    "start_time": "2025-05-12T19:47:32.094Z"
   },
   {
    "duration": 21,
    "start_time": "2025-05-12T19:47:33.657Z"
   },
   {
    "duration": 21,
    "start_time": "2025-05-12T19:47:33.680Z"
   },
   {
    "duration": 17,
    "start_time": "2025-05-12T19:48:03.756Z"
   },
   {
    "duration": 17,
    "start_time": "2025-05-12T19:48:11.629Z"
   },
   {
    "duration": 15,
    "start_time": "2025-05-12T19:48:17.809Z"
   },
   {
    "duration": 82,
    "start_time": "2025-05-12T19:48:34.069Z"
   },
   {
    "duration": 1241,
    "start_time": "2025-05-12T19:48:44.269Z"
   },
   {
    "duration": 33,
    "start_time": "2025-05-12T19:48:45.512Z"
   },
   {
    "duration": 15,
    "start_time": "2025-05-12T19:48:45.546Z"
   },
   {
    "duration": 34,
    "start_time": "2025-05-12T19:48:45.563Z"
   },
   {
    "duration": 9,
    "start_time": "2025-05-12T19:48:45.599Z"
   },
   {
    "duration": 27,
    "start_time": "2025-05-12T19:48:45.610Z"
   },
   {
    "duration": 21,
    "start_time": "2025-05-12T19:48:45.639Z"
   },
   {
    "duration": 36,
    "start_time": "2025-05-12T19:48:45.662Z"
   },
   {
    "duration": 1669,
    "start_time": "2025-05-12T19:48:45.701Z"
   },
   {
    "duration": 26,
    "start_time": "2025-05-12T19:48:47.372Z"
   },
   {
    "duration": 17,
    "start_time": "2025-05-12T19:48:47.399Z"
   },
   {
    "duration": 18,
    "start_time": "2025-05-12T19:50:40.334Z"
   },
   {
    "duration": 9,
    "start_time": "2025-05-12T19:56:10.080Z"
   },
   {
    "duration": 106,
    "start_time": "2025-05-12T20:03:09.182Z"
   },
   {
    "duration": 1265,
    "start_time": "2025-05-13T07:01:32.410Z"
   },
   {
    "duration": 44,
    "start_time": "2025-05-13T07:01:33.677Z"
   },
   {
    "duration": 15,
    "start_time": "2025-05-13T07:01:33.722Z"
   },
   {
    "duration": 8,
    "start_time": "2025-05-13T07:01:33.738Z"
   },
   {
    "duration": 4,
    "start_time": "2025-05-13T07:01:33.748Z"
   },
   {
    "duration": 14,
    "start_time": "2025-05-13T07:01:33.753Z"
   },
   {
    "duration": 7,
    "start_time": "2025-05-13T07:01:33.769Z"
   },
   {
    "duration": 36,
    "start_time": "2025-05-13T07:01:33.777Z"
   },
   {
    "duration": 13,
    "start_time": "2025-05-13T07:01:33.815Z"
   },
   {
    "duration": 1607,
    "start_time": "2025-05-13T07:01:33.830Z"
   },
   {
    "duration": 24,
    "start_time": "2025-05-13T07:01:35.439Z"
   },
   {
    "duration": 15,
    "start_time": "2025-05-13T07:01:35.464Z"
   },
   {
    "duration": 40,
    "start_time": "2025-05-13T07:01:35.481Z"
   },
   {
    "duration": 98,
    "start_time": "2025-05-13T07:01:35.523Z"
   },
   {
    "duration": 133,
    "start_time": "2025-05-13T07:04:09.081Z"
   },
   {
    "duration": 142,
    "start_time": "2025-05-13T07:06:38.576Z"
   },
   {
    "duration": 72,
    "start_time": "2025-05-13T07:09:36.522Z"
   },
   {
    "duration": 98,
    "start_time": "2025-05-13T07:09:49.382Z"
   },
   {
    "duration": 119,
    "start_time": "2025-05-13T07:10:11.572Z"
   },
   {
    "duration": 123,
    "start_time": "2025-05-13T07:10:25.060Z"
   },
   {
    "duration": 123,
    "start_time": "2025-05-13T07:10:33.674Z"
   },
   {
    "duration": 172,
    "start_time": "2025-05-13T07:10:44.573Z"
   },
   {
    "duration": 180,
    "start_time": "2025-05-13T07:10:57.428Z"
   },
   {
    "duration": 192,
    "start_time": "2025-05-13T07:11:28.933Z"
   },
   {
    "duration": 307,
    "start_time": "2025-05-13T07:11:39.706Z"
   },
   {
    "duration": 151,
    "start_time": "2025-05-13T07:14:31.559Z"
   },
   {
    "duration": 7,
    "start_time": "2025-05-13T07:16:18.269Z"
   },
   {
    "duration": 6,
    "start_time": "2025-05-13T07:16:43.624Z"
   },
   {
    "duration": 8,
    "start_time": "2025-05-13T07:16:48.180Z"
   },
   {
    "duration": 10,
    "start_time": "2025-05-13T07:17:22.536Z"
   },
   {
    "duration": 11,
    "start_time": "2025-05-13T07:17:33.522Z"
   },
   {
    "duration": 5,
    "start_time": "2025-05-13T07:17:39.558Z"
   },
   {
    "duration": 12,
    "start_time": "2025-05-13T07:18:28.505Z"
   },
   {
    "duration": 10,
    "start_time": "2025-05-13T07:18:35.872Z"
   },
   {
    "duration": 7,
    "start_time": "2025-05-13T07:18:48.577Z"
   },
   {
    "duration": 12,
    "start_time": "2025-05-13T07:19:25.999Z"
   },
   {
    "duration": 6,
    "start_time": "2025-05-13T07:19:50.467Z"
   },
   {
    "duration": 7,
    "start_time": "2025-05-13T07:19:58.992Z"
   },
   {
    "duration": 10,
    "start_time": "2025-05-13T07:20:14.652Z"
   },
   {
    "duration": 7,
    "start_time": "2025-05-13T07:20:20.733Z"
   },
   {
    "duration": 8,
    "start_time": "2025-05-13T07:21:13.553Z"
   },
   {
    "duration": 8,
    "start_time": "2025-05-13T07:21:30.402Z"
   },
   {
    "duration": 9,
    "start_time": "2025-05-13T07:21:46.243Z"
   },
   {
    "duration": 15,
    "start_time": "2025-05-13T07:22:59.307Z"
   },
   {
    "duration": 1253,
    "start_time": "2025-05-13T07:23:18.451Z"
   },
   {
    "duration": 29,
    "start_time": "2025-05-13T07:23:40.049Z"
   },
   {
    "duration": 24,
    "start_time": "2025-05-13T07:23:59.743Z"
   },
   {
    "duration": 25,
    "start_time": "2025-05-13T07:24:23.972Z"
   },
   {
    "duration": 1593,
    "start_time": "2025-05-13T07:24:54.605Z"
   },
   {
    "duration": 13,
    "start_time": "2025-05-13T07:25:09.373Z"
   },
   {
    "duration": 15,
    "start_time": "2025-05-13T07:26:01.930Z"
   },
   {
    "duration": 12,
    "start_time": "2025-05-13T07:26:17.360Z"
   },
   {
    "duration": 333,
    "start_time": "2025-05-13T07:26:23.035Z"
   },
   {
    "duration": 12,
    "start_time": "2025-05-13T07:26:50.748Z"
   },
   {
    "duration": 291,
    "start_time": "2025-05-13T07:26:51.746Z"
   },
   {
    "duration": 17,
    "start_time": "2025-05-13T07:27:15.500Z"
   },
   {
    "duration": 18,
    "start_time": "2025-05-13T07:27:51.423Z"
   },
   {
    "duration": 23,
    "start_time": "2025-05-13T07:28:18.819Z"
   },
   {
    "duration": 13,
    "start_time": "2025-05-13T07:29:12.830Z"
   },
   {
    "duration": 11,
    "start_time": "2025-05-13T07:29:21.739Z"
   },
   {
    "duration": 11,
    "start_time": "2025-05-13T07:29:40.280Z"
   },
   {
    "duration": 11,
    "start_time": "2025-05-13T07:30:06.646Z"
   },
   {
    "duration": 1231,
    "start_time": "2025-05-13T07:30:12.966Z"
   },
   {
    "duration": 34,
    "start_time": "2025-05-13T07:30:14.199Z"
   },
   {
    "duration": 20,
    "start_time": "2025-05-13T07:30:14.236Z"
   },
   {
    "duration": 11,
    "start_time": "2025-05-13T07:30:14.262Z"
   },
   {
    "duration": 6,
    "start_time": "2025-05-13T07:30:14.276Z"
   },
   {
    "duration": 39,
    "start_time": "2025-05-13T07:30:14.284Z"
   },
   {
    "duration": 9,
    "start_time": "2025-05-13T07:30:14.325Z"
   },
   {
    "duration": 227,
    "start_time": "2025-05-13T07:30:14.336Z"
   },
   {
    "duration": 171,
    "start_time": "2025-05-13T07:30:14.565Z"
   },
   {
    "duration": 114,
    "start_time": "2025-05-13T07:30:14.738Z"
   },
   {
    "duration": 0,
    "start_time": "2025-05-13T07:30:14.854Z"
   },
   {
    "duration": 0,
    "start_time": "2025-05-13T07:30:14.855Z"
   },
   {
    "duration": 0,
    "start_time": "2025-05-13T07:30:14.855Z"
   },
   {
    "duration": 0,
    "start_time": "2025-05-13T07:30:14.862Z"
   },
   {
    "duration": 0,
    "start_time": "2025-05-13T07:30:14.863Z"
   },
   {
    "duration": 0,
    "start_time": "2025-05-13T07:30:14.864Z"
   },
   {
    "duration": 0,
    "start_time": "2025-05-13T07:30:14.865Z"
   },
   {
    "duration": 11,
    "start_time": "2025-05-13T07:31:13.456Z"
   },
   {
    "duration": 4,
    "start_time": "2025-05-13T07:49:28.819Z"
   },
   {
    "duration": 6,
    "start_time": "2025-05-13T07:50:08.639Z"
   },
   {
    "duration": 71,
    "start_time": "2025-05-13T07:52:23.970Z"
   },
   {
    "duration": 14,
    "start_time": "2025-05-13T07:52:29.938Z"
   },
   {
    "duration": 11,
    "start_time": "2025-05-13T07:52:39.600Z"
   },
   {
    "duration": 11,
    "start_time": "2025-05-13T07:52:59.387Z"
   },
   {
    "duration": 1206,
    "start_time": "2025-05-13T07:53:35.091Z"
   },
   {
    "duration": 34,
    "start_time": "2025-05-13T07:53:36.299Z"
   },
   {
    "duration": 15,
    "start_time": "2025-05-13T07:53:36.334Z"
   },
   {
    "duration": 16,
    "start_time": "2025-05-13T07:53:36.351Z"
   },
   {
    "duration": 17,
    "start_time": "2025-05-13T07:53:36.369Z"
   },
   {
    "duration": 19,
    "start_time": "2025-05-13T07:53:36.387Z"
   },
   {
    "duration": 8,
    "start_time": "2025-05-13T07:53:36.408Z"
   },
   {
    "duration": 228,
    "start_time": "2025-05-13T07:53:36.418Z"
   },
   {
    "duration": 167,
    "start_time": "2025-05-13T07:53:36.648Z"
   },
   {
    "duration": 8,
    "start_time": "2025-05-13T07:53:36.817Z"
   },
   {
    "duration": 16,
    "start_time": "2025-05-13T07:53:36.827Z"
   },
   {
    "duration": 24,
    "start_time": "2025-05-13T07:53:36.845Z"
   },
   {
    "duration": 14,
    "start_time": "2025-05-13T07:53:36.871Z"
   },
   {
    "duration": 1695,
    "start_time": "2025-05-13T07:53:36.888Z"
   },
   {
    "duration": 17,
    "start_time": "2025-05-13T07:53:38.584Z"
   },
   {
    "duration": 24,
    "start_time": "2025-05-13T07:53:38.603Z"
   },
   {
    "duration": 37,
    "start_time": "2025-05-13T07:53:38.629Z"
   },
   {
    "duration": 113,
    "start_time": "2025-05-13T07:53:38.668Z"
   },
   {
    "duration": 1124,
    "start_time": "2025-05-13T07:59:37.748Z"
   },
   {
    "duration": 32,
    "start_time": "2025-05-13T07:59:38.874Z"
   },
   {
    "duration": 14,
    "start_time": "2025-05-13T07:59:38.907Z"
   },
   {
    "duration": 7,
    "start_time": "2025-05-13T07:59:38.923Z"
   },
   {
    "duration": 14,
    "start_time": "2025-05-13T07:59:38.932Z"
   },
   {
    "duration": 19,
    "start_time": "2025-05-13T07:59:38.948Z"
   },
   {
    "duration": 8,
    "start_time": "2025-05-13T07:59:38.969Z"
   },
   {
    "duration": 209,
    "start_time": "2025-05-13T07:59:38.978Z"
   },
   {
    "duration": 141,
    "start_time": "2025-05-13T07:59:39.189Z"
   },
   {
    "duration": 6,
    "start_time": "2025-05-13T07:59:39.332Z"
   },
   {
    "duration": 23,
    "start_time": "2025-05-13T07:59:39.340Z"
   },
   {
    "duration": 8,
    "start_time": "2025-05-13T07:59:39.364Z"
   },
   {
    "duration": 8,
    "start_time": "2025-05-13T07:59:39.374Z"
   },
   {
    "duration": 1584,
    "start_time": "2025-05-13T07:59:39.384Z"
   },
   {
    "duration": 16,
    "start_time": "2025-05-13T07:59:40.970Z"
   },
   {
    "duration": 17,
    "start_time": "2025-05-13T07:59:40.988Z"
   },
   {
    "duration": 83,
    "start_time": "2025-05-13T07:59:41.007Z"
   },
   {
    "duration": 97,
    "start_time": "2025-05-13T07:59:41.091Z"
   },
   {
    "duration": 12,
    "start_time": "2025-05-13T08:01:05.871Z"
   },
   {
    "duration": 210,
    "start_time": "2025-05-13T08:02:27.328Z"
   },
   {
    "duration": 223,
    "start_time": "2025-05-13T08:02:44.241Z"
   },
   {
    "duration": 9,
    "start_time": "2025-05-13T08:03:29.226Z"
   },
   {
    "duration": 213,
    "start_time": "2025-05-13T08:04:08.550Z"
   },
   {
    "duration": 1642,
    "start_time": "2025-05-13T08:08:23.508Z"
   },
   {
    "duration": 105,
    "start_time": "2025-05-13T08:08:56.048Z"
   },
   {
    "duration": 1624,
    "start_time": "2025-05-13T08:09:11.335Z"
   },
   {
    "duration": 196,
    "start_time": "2025-05-13T08:11:50.887Z"
   },
   {
    "duration": 213,
    "start_time": "2025-05-13T08:12:56.077Z"
   },
   {
    "duration": 12,
    "start_time": "2025-05-13T08:22:09.293Z"
   },
   {
    "duration": 19,
    "start_time": "2025-05-13T08:22:18.849Z"
   },
   {
    "duration": 43,
    "start_time": "2025-05-13T08:22:28.939Z"
   },
   {
    "duration": 28,
    "start_time": "2025-05-13T08:26:44.000Z"
   },
   {
    "duration": 101,
    "start_time": "2025-05-13T08:26:59.898Z"
   },
   {
    "duration": 95,
    "start_time": "2025-05-13T08:27:36.856Z"
   },
   {
    "duration": 1290,
    "start_time": "2025-05-13T08:28:37.239Z"
   },
   {
    "duration": 13,
    "start_time": "2025-05-13T08:28:54.350Z"
   },
   {
    "duration": 11,
    "start_time": "2025-05-13T08:29:30.682Z"
   },
   {
    "duration": 17,
    "start_time": "2025-05-13T08:29:45.296Z"
   },
   {
    "duration": 108,
    "start_time": "2025-05-13T08:31:44.936Z"
   },
   {
    "duration": 690,
    "start_time": "2025-05-13T08:31:54.820Z"
   },
   {
    "duration": 68,
    "start_time": "2025-05-13T08:32:11.763Z"
   },
   {
    "duration": 17,
    "start_time": "2025-05-13T08:32:18.189Z"
   },
   {
    "duration": 138,
    "start_time": "2025-05-13T08:35:28.311Z"
   },
   {
    "duration": 150,
    "start_time": "2025-05-13T08:35:54.748Z"
   },
   {
    "duration": 25,
    "start_time": "2025-05-13T08:36:08.227Z"
   },
   {
    "duration": 10,
    "start_time": "2025-05-13T08:36:19.590Z"
   },
   {
    "duration": 19,
    "start_time": "2025-05-13T08:36:44.532Z"
   },
   {
    "duration": 16,
    "start_time": "2025-05-13T08:37:49.677Z"
   },
   {
    "duration": 25,
    "start_time": "2025-05-13T08:38:07.327Z"
   },
   {
    "duration": 17,
    "start_time": "2025-05-13T08:38:25.762Z"
   },
   {
    "duration": 5,
    "start_time": "2025-05-13T08:38:50.794Z"
   },
   {
    "duration": 16,
    "start_time": "2025-05-13T08:39:01.811Z"
   },
   {
    "duration": 19,
    "start_time": "2025-05-13T08:39:46.728Z"
   },
   {
    "duration": 12,
    "start_time": "2025-05-13T08:40:20.010Z"
   },
   {
    "duration": 10,
    "start_time": "2025-05-13T08:40:31.236Z"
   },
   {
    "duration": 1143,
    "start_time": "2025-05-13T08:41:33.134Z"
   },
   {
    "duration": 43,
    "start_time": "2025-05-13T08:41:34.279Z"
   },
   {
    "duration": 12,
    "start_time": "2025-05-13T08:41:34.324Z"
   },
   {
    "duration": 32,
    "start_time": "2025-05-13T08:41:34.338Z"
   },
   {
    "duration": 48,
    "start_time": "2025-05-13T08:41:34.372Z"
   },
   {
    "duration": 46,
    "start_time": "2025-05-13T08:41:34.421Z"
   },
   {
    "duration": 36,
    "start_time": "2025-05-13T08:41:34.469Z"
   },
   {
    "duration": 216,
    "start_time": "2025-05-13T08:41:34.507Z"
   },
   {
    "duration": 147,
    "start_time": "2025-05-13T08:41:34.725Z"
   },
   {
    "duration": 7,
    "start_time": "2025-05-13T08:41:34.874Z"
   },
   {
    "duration": 30,
    "start_time": "2025-05-13T08:41:34.883Z"
   },
   {
    "duration": 55,
    "start_time": "2025-05-13T08:41:34.915Z"
   },
   {
    "duration": 35,
    "start_time": "2025-05-13T08:41:34.972Z"
   },
   {
    "duration": 1473,
    "start_time": "2025-05-13T08:41:35.009Z"
   },
   {
    "duration": 16,
    "start_time": "2025-05-13T08:41:36.483Z"
   },
   {
    "duration": 25,
    "start_time": "2025-05-13T08:41:36.501Z"
   },
   {
    "duration": 36,
    "start_time": "2025-05-13T08:41:36.527Z"
   },
   {
    "duration": 10,
    "start_time": "2025-05-13T08:41:36.565Z"
   },
   {
    "duration": 159,
    "start_time": "2025-05-13T08:41:36.576Z"
   },
   {
    "duration": 226,
    "start_time": "2025-05-13T08:41:36.737Z"
   },
   {
    "duration": 26,
    "start_time": "2025-05-13T08:41:36.965Z"
   },
   {
    "duration": 110,
    "start_time": "2025-05-13T08:41:36.993Z"
   },
   {
    "duration": 8,
    "start_time": "2025-05-13T08:42:44.659Z"
   },
   {
    "duration": 6,
    "start_time": "2025-05-13T08:42:51.647Z"
   },
   {
    "duration": 10,
    "start_time": "2025-05-13T08:42:59.406Z"
   },
   {
    "duration": 9,
    "start_time": "2025-05-13T08:43:24.460Z"
   },
   {
    "duration": 10,
    "start_time": "2025-05-13T08:43:36.595Z"
   },
   {
    "duration": 1170,
    "start_time": "2025-05-13T08:43:57.492Z"
   },
   {
    "duration": 32,
    "start_time": "2025-05-13T08:43:58.664Z"
   },
   {
    "duration": 14,
    "start_time": "2025-05-13T08:43:58.698Z"
   },
   {
    "duration": 12,
    "start_time": "2025-05-13T08:43:58.714Z"
   },
   {
    "duration": 12,
    "start_time": "2025-05-13T08:43:58.728Z"
   },
   {
    "duration": 36,
    "start_time": "2025-05-13T08:43:58.742Z"
   },
   {
    "duration": 17,
    "start_time": "2025-05-13T08:43:58.779Z"
   },
   {
    "duration": 225,
    "start_time": "2025-05-13T08:43:58.798Z"
   },
   {
    "duration": 152,
    "start_time": "2025-05-13T08:43:59.024Z"
   },
   {
    "duration": 6,
    "start_time": "2025-05-13T08:43:59.178Z"
   },
   {
    "duration": 25,
    "start_time": "2025-05-13T08:43:59.186Z"
   },
   {
    "duration": 19,
    "start_time": "2025-05-13T08:43:59.213Z"
   },
   {
    "duration": 17,
    "start_time": "2025-05-13T08:43:59.233Z"
   },
   {
    "duration": 1658,
    "start_time": "2025-05-13T08:43:59.253Z"
   },
   {
    "duration": 15,
    "start_time": "2025-05-13T08:44:00.913Z"
   },
   {
    "duration": 35,
    "start_time": "2025-05-13T08:44:00.930Z"
   },
   {
    "duration": 44,
    "start_time": "2025-05-13T08:44:00.967Z"
   },
   {
    "duration": 14,
    "start_time": "2025-05-13T08:44:01.012Z"
   },
   {
    "duration": 129,
    "start_time": "2025-05-13T08:44:01.028Z"
   },
   {
    "duration": 220,
    "start_time": "2025-05-13T08:44:01.159Z"
   },
   {
    "duration": 25,
    "start_time": "2025-05-13T08:44:01.381Z"
   },
   {
    "duration": 36,
    "start_time": "2025-05-13T08:44:01.407Z"
   },
   {
    "duration": 52,
    "start_time": "2025-05-13T08:44:27.933Z"
   },
   {
    "duration": 20,
    "start_time": "2025-05-13T08:44:47.980Z"
   },
   {
    "duration": 25,
    "start_time": "2025-05-13T08:45:34.162Z"
   },
   {
    "duration": 15,
    "start_time": "2025-05-13T08:45:34.763Z"
   },
   {
    "duration": 188,
    "start_time": "2025-05-13T08:45:43.821Z"
   },
   {
    "duration": 26,
    "start_time": "2025-05-13T08:45:46.337Z"
   },
   {
    "duration": 13,
    "start_time": "2025-05-13T08:45:47.946Z"
   },
   {
    "duration": 36,
    "start_time": "2025-05-13T08:46:06.122Z"
   },
   {
    "duration": 6,
    "start_time": "2025-05-13T08:50:56.263Z"
   },
   {
    "duration": 17,
    "start_time": "2025-05-13T08:51:11.557Z"
   },
   {
    "duration": 42,
    "start_time": "2025-05-13T08:51:52.982Z"
   },
   {
    "duration": 1301,
    "start_time": "2025-05-13T08:52:35.445Z"
   },
   {
    "duration": 25,
    "start_time": "2025-05-13T08:52:56.302Z"
   },
   {
    "duration": 1334,
    "start_time": "2025-05-13T08:52:57.743Z"
   },
   {
    "duration": 38,
    "start_time": "2025-05-13T08:53:16.606Z"
   },
   {
    "duration": 1344,
    "start_time": "2025-05-13T08:53:32.468Z"
   },
   {
    "duration": 1508,
    "start_time": "2025-05-13T08:53:50.926Z"
   },
   {
    "duration": 1306,
    "start_time": "2025-05-13T08:54:01.620Z"
   },
   {
    "duration": 1116,
    "start_time": "2025-05-13T08:54:10.804Z"
   },
   {
    "duration": 33,
    "start_time": "2025-05-13T08:54:11.922Z"
   },
   {
    "duration": 15,
    "start_time": "2025-05-13T08:54:11.956Z"
   },
   {
    "duration": 7,
    "start_time": "2025-05-13T08:54:11.973Z"
   },
   {
    "duration": 5,
    "start_time": "2025-05-13T08:54:11.982Z"
   },
   {
    "duration": 10,
    "start_time": "2025-05-13T08:54:11.988Z"
   },
   {
    "duration": 8,
    "start_time": "2025-05-13T08:54:11.999Z"
   },
   {
    "duration": 231,
    "start_time": "2025-05-13T08:54:12.008Z"
   },
   {
    "duration": 143,
    "start_time": "2025-05-13T08:54:12.241Z"
   },
   {
    "duration": 7,
    "start_time": "2025-05-13T08:54:12.385Z"
   },
   {
    "duration": 84,
    "start_time": "2025-05-13T08:54:12.393Z"
   },
   {
    "duration": 25,
    "start_time": "2025-05-13T08:54:12.479Z"
   },
   {
    "duration": 8,
    "start_time": "2025-05-13T08:54:12.506Z"
   },
   {
    "duration": 1723,
    "start_time": "2025-05-13T08:54:12.516Z"
   },
   {
    "duration": 25,
    "start_time": "2025-05-13T08:54:14.241Z"
   },
   {
    "duration": 18,
    "start_time": "2025-05-13T08:54:14.268Z"
   },
   {
    "duration": 16,
    "start_time": "2025-05-13T08:54:14.288Z"
   },
   {
    "duration": 8,
    "start_time": "2025-05-13T08:54:14.305Z"
   },
   {
    "duration": 135,
    "start_time": "2025-05-13T08:54:14.314Z"
   },
   {
    "duration": 243,
    "start_time": "2025-05-13T08:54:14.450Z"
   },
   {
    "duration": 25,
    "start_time": "2025-05-13T08:54:14.694Z"
   },
   {
    "duration": 1884,
    "start_time": "2025-05-13T08:54:14.720Z"
   },
   {
    "duration": 1297,
    "start_time": "2025-05-13T08:55:05.826Z"
   },
   {
    "duration": 16,
    "start_time": "2025-05-13T08:55:12.266Z"
   },
   {
    "duration": 25,
    "start_time": "2025-05-13T08:55:42.059Z"
   },
   {
    "duration": 1176,
    "start_time": "2025-05-13T08:55:47.791Z"
   },
   {
    "duration": 32,
    "start_time": "2025-05-13T08:55:48.969Z"
   },
   {
    "duration": 14,
    "start_time": "2025-05-13T08:55:49.003Z"
   },
   {
    "duration": 16,
    "start_time": "2025-05-13T08:55:49.019Z"
   },
   {
    "duration": 5,
    "start_time": "2025-05-13T08:55:49.037Z"
   },
   {
    "duration": 26,
    "start_time": "2025-05-13T08:55:49.044Z"
   },
   {
    "duration": 8,
    "start_time": "2025-05-13T08:55:49.072Z"
   },
   {
    "duration": 220,
    "start_time": "2025-05-13T08:55:49.081Z"
   },
   {
    "duration": 146,
    "start_time": "2025-05-13T08:55:49.303Z"
   },
   {
    "duration": 12,
    "start_time": "2025-05-13T08:55:49.451Z"
   },
   {
    "duration": 12,
    "start_time": "2025-05-13T08:55:49.464Z"
   },
   {
    "duration": 8,
    "start_time": "2025-05-13T08:55:49.478Z"
   },
   {
    "duration": 8,
    "start_time": "2025-05-13T08:55:49.488Z"
   },
   {
    "duration": 1488,
    "start_time": "2025-05-13T08:55:49.499Z"
   },
   {
    "duration": 16,
    "start_time": "2025-05-13T08:55:50.988Z"
   },
   {
    "duration": 16,
    "start_time": "2025-05-13T08:55:51.005Z"
   },
   {
    "duration": 41,
    "start_time": "2025-05-13T08:55:51.022Z"
   },
   {
    "duration": 9,
    "start_time": "2025-05-13T08:55:51.064Z"
   },
   {
    "duration": 120,
    "start_time": "2025-05-13T08:55:51.075Z"
   },
   {
    "duration": 214,
    "start_time": "2025-05-13T08:55:51.197Z"
   },
   {
    "duration": 25,
    "start_time": "2025-05-13T08:55:51.412Z"
   },
   {
    "duration": 65,
    "start_time": "2025-05-13T08:55:51.438Z"
   },
   {
    "duration": 23,
    "start_time": "2025-05-13T08:56:53.244Z"
   },
   {
    "duration": 820,
    "start_time": "2025-05-13T09:00:39.605Z"
   },
   {
    "duration": 5,
    "start_time": "2025-05-13T09:02:05.635Z"
   },
   {
    "duration": 36,
    "start_time": "2025-05-13T09:02:18.411Z"
   },
   {
    "duration": 22,
    "start_time": "2025-05-13T09:02:31.411Z"
   },
   {
    "duration": 34,
    "start_time": "2025-05-13T09:02:33.350Z"
   },
   {
    "duration": 37,
    "start_time": "2025-05-13T09:03:37.842Z"
   },
   {
    "duration": 38,
    "start_time": "2025-05-13T09:03:56.957Z"
   },
   {
    "duration": 34,
    "start_time": "2025-05-13T09:04:05.357Z"
   },
   {
    "duration": 53,
    "start_time": "2025-05-13T09:04:34.763Z"
   },
   {
    "duration": 1127,
    "start_time": "2025-05-13T09:04:41.445Z"
   },
   {
    "duration": 32,
    "start_time": "2025-05-13T09:04:42.574Z"
   },
   {
    "duration": 30,
    "start_time": "2025-05-13T09:04:42.608Z"
   },
   {
    "duration": 33,
    "start_time": "2025-05-13T09:04:42.640Z"
   },
   {
    "duration": 19,
    "start_time": "2025-05-13T09:04:42.676Z"
   },
   {
    "duration": 21,
    "start_time": "2025-05-13T09:04:42.697Z"
   },
   {
    "duration": 20,
    "start_time": "2025-05-13T09:04:42.720Z"
   },
   {
    "duration": 196,
    "start_time": "2025-05-13T09:04:42.742Z"
   },
   {
    "duration": 146,
    "start_time": "2025-05-13T09:04:42.940Z"
   },
   {
    "duration": 6,
    "start_time": "2025-05-13T09:04:43.088Z"
   },
   {
    "duration": 19,
    "start_time": "2025-05-13T09:04:43.096Z"
   },
   {
    "duration": 15,
    "start_time": "2025-05-13T09:04:43.116Z"
   },
   {
    "duration": 9,
    "start_time": "2025-05-13T09:04:43.132Z"
   },
   {
    "duration": 1882,
    "start_time": "2025-05-13T09:04:43.143Z"
   },
   {
    "duration": 15,
    "start_time": "2025-05-13T09:04:45.027Z"
   },
   {
    "duration": 41,
    "start_time": "2025-05-13T09:04:45.043Z"
   },
   {
    "duration": 59,
    "start_time": "2025-05-13T09:04:45.085Z"
   },
   {
    "duration": 8,
    "start_time": "2025-05-13T09:04:45.145Z"
   },
   {
    "duration": 118,
    "start_time": "2025-05-13T09:04:45.155Z"
   },
   {
    "duration": 217,
    "start_time": "2025-05-13T09:04:45.275Z"
   },
   {
    "duration": 41,
    "start_time": "2025-05-13T09:04:45.494Z"
   },
   {
    "duration": 60,
    "start_time": "2025-05-13T09:04:45.536Z"
   },
   {
    "duration": 16,
    "start_time": "2025-05-13T09:06:01.656Z"
   },
   {
    "duration": 69,
    "start_time": "2025-05-13T09:07:40.638Z"
   },
   {
    "duration": 85,
    "start_time": "2025-05-13T09:07:57.481Z"
   },
   {
    "duration": 1147,
    "start_time": "2025-05-13T09:08:05.263Z"
   },
   {
    "duration": 33,
    "start_time": "2025-05-13T09:08:06.412Z"
   },
   {
    "duration": 14,
    "start_time": "2025-05-13T09:08:06.446Z"
   },
   {
    "duration": 29,
    "start_time": "2025-05-13T09:08:06.462Z"
   },
   {
    "duration": 15,
    "start_time": "2025-05-13T09:08:06.494Z"
   },
   {
    "duration": 11,
    "start_time": "2025-05-13T09:08:06.511Z"
   },
   {
    "duration": 16,
    "start_time": "2025-05-13T09:08:06.524Z"
   },
   {
    "duration": 198,
    "start_time": "2025-05-13T09:08:06.542Z"
   },
   {
    "duration": 141,
    "start_time": "2025-05-13T09:08:06.742Z"
   },
   {
    "duration": 6,
    "start_time": "2025-05-13T09:08:06.885Z"
   },
   {
    "duration": 23,
    "start_time": "2025-05-13T09:08:06.893Z"
   },
   {
    "duration": 8,
    "start_time": "2025-05-13T09:08:06.918Z"
   },
   {
    "duration": 23,
    "start_time": "2025-05-13T09:08:06.928Z"
   },
   {
    "duration": 1544,
    "start_time": "2025-05-13T09:08:06.953Z"
   },
   {
    "duration": 17,
    "start_time": "2025-05-13T09:08:08.500Z"
   },
   {
    "duration": 21,
    "start_time": "2025-05-13T09:08:08.519Z"
   },
   {
    "duration": 40,
    "start_time": "2025-05-13T09:08:08.542Z"
   },
   {
    "duration": 9,
    "start_time": "2025-05-13T09:08:08.583Z"
   },
   {
    "duration": 117,
    "start_time": "2025-05-13T09:08:08.593Z"
   },
   {
    "duration": 224,
    "start_time": "2025-05-13T09:08:08.712Z"
   },
   {
    "duration": 62,
    "start_time": "2025-05-13T09:08:08.938Z"
   },
   {
    "duration": 0,
    "start_time": "2025-05-13T09:08:09.001Z"
   },
   {
    "duration": 423,
    "start_time": "2025-05-13T09:08:31.775Z"
   },
   {
    "duration": 322,
    "start_time": "2025-05-13T09:08:48.315Z"
   },
   {
    "duration": 1265,
    "start_time": "2025-05-13T09:24:49.405Z"
   },
   {
    "duration": 1104,
    "start_time": "2025-05-13T09:25:23.594Z"
   },
   {
    "duration": 32,
    "start_time": "2025-05-13T09:25:24.700Z"
   },
   {
    "duration": 15,
    "start_time": "2025-05-13T09:25:24.734Z"
   },
   {
    "duration": 16,
    "start_time": "2025-05-13T09:25:24.751Z"
   },
   {
    "duration": 21,
    "start_time": "2025-05-13T09:25:24.769Z"
   },
   {
    "duration": 11,
    "start_time": "2025-05-13T09:25:24.791Z"
   },
   {
    "duration": 12,
    "start_time": "2025-05-13T09:25:24.804Z"
   },
   {
    "duration": 205,
    "start_time": "2025-05-13T09:25:24.817Z"
   },
   {
    "duration": 167,
    "start_time": "2025-05-13T09:25:25.024Z"
   },
   {
    "duration": 6,
    "start_time": "2025-05-13T09:25:25.193Z"
   },
   {
    "duration": 10,
    "start_time": "2025-05-13T09:25:25.200Z"
   },
   {
    "duration": 7,
    "start_time": "2025-05-13T09:25:25.211Z"
   },
   {
    "duration": 8,
    "start_time": "2025-05-13T09:25:25.220Z"
   },
   {
    "duration": 1430,
    "start_time": "2025-05-13T09:25:25.229Z"
   },
   {
    "duration": 15,
    "start_time": "2025-05-13T09:25:26.662Z"
   },
   {
    "duration": 26,
    "start_time": "2025-05-13T09:25:26.679Z"
   },
   {
    "duration": 20,
    "start_time": "2025-05-13T09:25:26.707Z"
   },
   {
    "duration": 8,
    "start_time": "2025-05-13T09:25:26.728Z"
   },
   {
    "duration": 121,
    "start_time": "2025-05-13T09:25:26.738Z"
   },
   {
    "duration": 225,
    "start_time": "2025-05-13T09:25:26.861Z"
   },
   {
    "duration": 1600,
    "start_time": "2025-05-13T09:25:27.088Z"
   },
   {
    "duration": 0,
    "start_time": "2025-05-13T09:25:28.690Z"
   },
   {
    "duration": 20,
    "start_time": "2025-05-13T09:26:27.992Z"
   },
   {
    "duration": 38,
    "start_time": "2025-05-13T09:27:02.619Z"
   },
   {
    "duration": 60,
    "start_time": "2025-05-13T09:27:14.760Z"
   },
   {
    "duration": 16,
    "start_time": "2025-05-13T09:28:37.840Z"
   },
   {
    "duration": 11,
    "start_time": "2025-05-13T09:29:11.382Z"
   },
   {
    "duration": 41,
    "start_time": "2025-05-13T09:29:32.407Z"
   },
   {
    "duration": 1331,
    "start_time": "2025-05-13T09:30:43.721Z"
   },
   {
    "duration": 43,
    "start_time": "2025-05-13T09:32:49.925Z"
   },
   {
    "duration": 42,
    "start_time": "2025-05-13T09:33:42.775Z"
   },
   {
    "duration": 43,
    "start_time": "2025-05-13T09:34:05.328Z"
   },
   {
    "duration": 19,
    "start_time": "2025-05-13T09:34:27.109Z"
   },
   {
    "duration": 12,
    "start_time": "2025-05-13T09:35:38.603Z"
   },
   {
    "duration": 20,
    "start_time": "2025-05-13T09:35:46.621Z"
   },
   {
    "duration": 19,
    "start_time": "2025-05-13T09:36:03.852Z"
   },
   {
    "duration": 18,
    "start_time": "2025-05-13T09:36:09.043Z"
   },
   {
    "duration": 45,
    "start_time": "2025-05-13T09:36:46.629Z"
   },
   {
    "duration": 247,
    "start_time": "2025-05-13T09:37:12.612Z"
   },
   {
    "duration": 1159,
    "start_time": "2025-05-13T09:37:16.749Z"
   },
   {
    "duration": 1161,
    "start_time": "2025-05-13T09:37:22.574Z"
   },
   {
    "duration": 32,
    "start_time": "2025-05-13T09:37:23.736Z"
   },
   {
    "duration": 14,
    "start_time": "2025-05-13T09:37:23.770Z"
   },
   {
    "duration": 54,
    "start_time": "2025-05-13T09:37:23.785Z"
   },
   {
    "duration": 4,
    "start_time": "2025-05-13T09:37:23.841Z"
   },
   {
    "duration": 23,
    "start_time": "2025-05-13T09:37:23.847Z"
   },
   {
    "duration": 11,
    "start_time": "2025-05-13T09:37:23.871Z"
   },
   {
    "duration": 200,
    "start_time": "2025-05-13T09:37:23.884Z"
   },
   {
    "duration": 154,
    "start_time": "2025-05-13T09:37:24.086Z"
   },
   {
    "duration": 7,
    "start_time": "2025-05-13T09:37:24.242Z"
   },
   {
    "duration": 11,
    "start_time": "2025-05-13T09:37:24.262Z"
   },
   {
    "duration": 8,
    "start_time": "2025-05-13T09:37:24.274Z"
   },
   {
    "duration": 21,
    "start_time": "2025-05-13T09:37:24.283Z"
   },
   {
    "duration": 1696,
    "start_time": "2025-05-13T09:37:24.306Z"
   },
   {
    "duration": 15,
    "start_time": "2025-05-13T09:37:26.004Z"
   },
   {
    "duration": 52,
    "start_time": "2025-05-13T09:37:26.020Z"
   },
   {
    "duration": 20,
    "start_time": "2025-05-13T09:37:26.073Z"
   },
   {
    "duration": 21,
    "start_time": "2025-05-13T09:37:26.095Z"
   },
   {
    "duration": 106,
    "start_time": "2025-05-13T09:37:26.118Z"
   },
   {
    "duration": 237,
    "start_time": "2025-05-13T09:37:26.226Z"
   },
   {
    "duration": 50,
    "start_time": "2025-05-13T09:37:26.464Z"
   },
   {
    "duration": 1241,
    "start_time": "2025-05-13T09:37:26.515Z"
   },
   {
    "duration": 37,
    "start_time": "2025-05-13T09:38:01.484Z"
   },
   {
    "duration": 14,
    "start_time": "2025-05-13T09:38:13.048Z"
   },
   {
    "duration": 27,
    "start_time": "2025-05-13T09:39:36.479Z"
   },
   {
    "duration": 1438,
    "start_time": "2025-05-13T09:39:42.552Z"
   },
   {
    "duration": 32,
    "start_time": "2025-05-13T09:39:43.992Z"
   },
   {
    "duration": 36,
    "start_time": "2025-05-13T09:39:44.025Z"
   },
   {
    "duration": 10,
    "start_time": "2025-05-13T09:39:44.063Z"
   },
   {
    "duration": 5,
    "start_time": "2025-05-13T09:39:44.076Z"
   },
   {
    "duration": 14,
    "start_time": "2025-05-13T09:39:44.084Z"
   },
   {
    "duration": 8,
    "start_time": "2025-05-13T09:39:44.100Z"
   },
   {
    "duration": 247,
    "start_time": "2025-05-13T09:39:44.110Z"
   },
   {
    "duration": 152,
    "start_time": "2025-05-13T09:39:44.362Z"
   },
   {
    "duration": 8,
    "start_time": "2025-05-13T09:39:44.516Z"
   },
   {
    "duration": 19,
    "start_time": "2025-05-13T09:39:44.525Z"
   },
   {
    "duration": 17,
    "start_time": "2025-05-13T09:39:44.545Z"
   },
   {
    "duration": 10,
    "start_time": "2025-05-13T09:39:44.564Z"
   },
   {
    "duration": 1527,
    "start_time": "2025-05-13T09:39:44.577Z"
   },
   {
    "duration": 17,
    "start_time": "2025-05-13T09:39:46.106Z"
   },
   {
    "duration": 17,
    "start_time": "2025-05-13T09:39:46.124Z"
   },
   {
    "duration": 19,
    "start_time": "2025-05-13T09:39:46.163Z"
   },
   {
    "duration": 9,
    "start_time": "2025-05-13T09:39:46.183Z"
   },
   {
    "duration": 130,
    "start_time": "2025-05-13T09:39:46.194Z"
   },
   {
    "duration": 231,
    "start_time": "2025-05-13T09:39:46.326Z"
   },
   {
    "duration": 53,
    "start_time": "2025-05-13T09:39:46.559Z"
   },
   {
    "duration": 1500,
    "start_time": "2025-05-13T09:40:26.976Z"
   },
   {
    "duration": 10,
    "start_time": "2025-05-13T09:44:04.614Z"
   },
   {
    "duration": 4,
    "start_time": "2025-05-13T09:44:23.072Z"
   },
   {
    "duration": 17,
    "start_time": "2025-05-13T09:44:43.985Z"
   },
   {
    "duration": 362,
    "start_time": "2025-05-13T09:46:04.394Z"
   },
   {
    "duration": 438,
    "start_time": "2025-05-13T09:46:21.637Z"
   },
   {
    "duration": 499,
    "start_time": "2025-05-13T09:46:41.246Z"
   },
   {
    "duration": 18,
    "start_time": "2025-05-13T09:46:52.915Z"
   },
   {
    "duration": 22,
    "start_time": "2025-05-13T09:47:39.891Z"
   },
   {
    "duration": 1196,
    "start_time": "2025-05-13T09:47:45.084Z"
   },
   {
    "duration": 32,
    "start_time": "2025-05-13T09:47:46.282Z"
   },
   {
    "duration": 14,
    "start_time": "2025-05-13T09:47:46.316Z"
   },
   {
    "duration": 12,
    "start_time": "2025-05-13T09:47:46.332Z"
   },
   {
    "duration": 16,
    "start_time": "2025-05-13T09:47:46.346Z"
   },
   {
    "duration": 10,
    "start_time": "2025-05-13T09:47:46.363Z"
   },
   {
    "duration": 8,
    "start_time": "2025-05-13T09:47:46.375Z"
   },
   {
    "duration": 222,
    "start_time": "2025-05-13T09:47:46.384Z"
   },
   {
    "duration": 156,
    "start_time": "2025-05-13T09:47:46.608Z"
   },
   {
    "duration": 7,
    "start_time": "2025-05-13T09:47:46.765Z"
   },
   {
    "duration": 21,
    "start_time": "2025-05-13T09:47:46.774Z"
   },
   {
    "duration": 10,
    "start_time": "2025-05-13T09:47:46.797Z"
   },
   {
    "duration": 23,
    "start_time": "2025-05-13T09:47:46.808Z"
   },
   {
    "duration": 1899,
    "start_time": "2025-05-13T09:47:46.834Z"
   },
   {
    "duration": 16,
    "start_time": "2025-05-13T09:47:48.735Z"
   },
   {
    "duration": 16,
    "start_time": "2025-05-13T09:47:48.763Z"
   },
   {
    "duration": 16,
    "start_time": "2025-05-13T09:47:48.781Z"
   },
   {
    "duration": 8,
    "start_time": "2025-05-13T09:47:48.799Z"
   },
   {
    "duration": 135,
    "start_time": "2025-05-13T09:47:48.808Z"
   },
   {
    "duration": 240,
    "start_time": "2025-05-13T09:47:48.944Z"
   },
   {
    "duration": 60,
    "start_time": "2025-05-13T09:47:49.186Z"
   },
   {
    "duration": 117,
    "start_time": "2025-05-13T09:47:57.320Z"
   },
   {
    "duration": 196,
    "start_time": "2025-05-13T09:48:01.121Z"
   },
   {
    "duration": 72,
    "start_time": "2025-05-13T09:48:04.312Z"
   },
   {
    "duration": 43,
    "start_time": "2025-05-13T09:48:26.611Z"
   },
   {
    "duration": 21,
    "start_time": "2025-05-13T09:48:56.662Z"
   },
   {
    "duration": 213,
    "start_time": "2025-05-13T09:48:58.532Z"
   },
   {
    "duration": 55,
    "start_time": "2025-05-13T09:49:00.768Z"
   },
   {
    "duration": 1195,
    "start_time": "2025-05-13T09:51:02.837Z"
   },
   {
    "duration": 1229,
    "start_time": "2025-05-13T09:51:13.451Z"
   },
   {
    "duration": 33,
    "start_time": "2025-05-13T09:51:14.682Z"
   },
   {
    "duration": 15,
    "start_time": "2025-05-13T09:51:14.717Z"
   },
   {
    "duration": 21,
    "start_time": "2025-05-13T09:51:14.734Z"
   },
   {
    "duration": 6,
    "start_time": "2025-05-13T09:51:14.758Z"
   },
   {
    "duration": 56,
    "start_time": "2025-05-13T09:51:14.766Z"
   },
   {
    "duration": 8,
    "start_time": "2025-05-13T09:51:14.824Z"
   },
   {
    "duration": 219,
    "start_time": "2025-05-13T09:51:14.834Z"
   },
   {
    "duration": 147,
    "start_time": "2025-05-13T09:51:15.055Z"
   },
   {
    "duration": 6,
    "start_time": "2025-05-13T09:51:15.204Z"
   },
   {
    "duration": 26,
    "start_time": "2025-05-13T09:51:15.212Z"
   },
   {
    "duration": 29,
    "start_time": "2025-05-13T09:51:15.239Z"
   },
   {
    "duration": 27,
    "start_time": "2025-05-13T09:51:15.270Z"
   },
   {
    "duration": 1777,
    "start_time": "2025-05-13T09:51:15.301Z"
   },
   {
    "duration": 15,
    "start_time": "2025-05-13T09:51:17.080Z"
   },
   {
    "duration": 16,
    "start_time": "2025-05-13T09:51:17.096Z"
   },
   {
    "duration": 17,
    "start_time": "2025-05-13T09:51:17.114Z"
   },
   {
    "duration": 37,
    "start_time": "2025-05-13T09:51:17.132Z"
   },
   {
    "duration": 115,
    "start_time": "2025-05-13T09:51:17.171Z"
   },
   {
    "duration": 227,
    "start_time": "2025-05-13T09:51:17.288Z"
   },
   {
    "duration": 55,
    "start_time": "2025-05-13T09:51:17.517Z"
   },
   {
    "duration": 1534,
    "start_time": "2025-05-13T09:51:17.573Z"
   },
   {
    "duration": 1302,
    "start_time": "2025-05-13T09:52:24.331Z"
   },
   {
    "duration": 1856,
    "start_time": "2025-05-13T09:52:38.414Z"
   },
   {
    "duration": 13,
    "start_time": "2025-05-13T09:54:17.455Z"
   },
   {
    "duration": 35,
    "start_time": "2025-05-13T09:54:26.508Z"
   },
   {
    "duration": 1225,
    "start_time": "2025-05-13T09:55:42.638Z"
   },
   {
    "duration": 1208,
    "start_time": "2025-05-13T09:55:53.581Z"
   },
   {
    "duration": 32,
    "start_time": "2025-05-13T09:55:54.791Z"
   },
   {
    "duration": 15,
    "start_time": "2025-05-13T09:55:54.825Z"
   },
   {
    "duration": 8,
    "start_time": "2025-05-13T09:55:54.841Z"
   },
   {
    "duration": 5,
    "start_time": "2025-05-13T09:55:54.862Z"
   },
   {
    "duration": 15,
    "start_time": "2025-05-13T09:55:54.869Z"
   },
   {
    "duration": 11,
    "start_time": "2025-05-13T09:55:54.886Z"
   },
   {
    "duration": 229,
    "start_time": "2025-05-13T09:55:54.899Z"
   },
   {
    "duration": 156,
    "start_time": "2025-05-13T09:55:55.129Z"
   },
   {
    "duration": 8,
    "start_time": "2025-05-13T09:55:55.287Z"
   },
   {
    "duration": 11,
    "start_time": "2025-05-13T09:55:55.296Z"
   },
   {
    "duration": 20,
    "start_time": "2025-05-13T09:55:55.308Z"
   },
   {
    "duration": 8,
    "start_time": "2025-05-13T09:55:55.330Z"
   },
   {
    "duration": 1886,
    "start_time": "2025-05-13T09:55:55.341Z"
   },
   {
    "duration": 17,
    "start_time": "2025-05-13T09:55:57.229Z"
   },
   {
    "duration": 31,
    "start_time": "2025-05-13T09:55:57.247Z"
   },
   {
    "duration": 20,
    "start_time": "2025-05-13T09:55:57.280Z"
   },
   {
    "duration": 10,
    "start_time": "2025-05-13T09:55:57.302Z"
   },
   {
    "duration": 148,
    "start_time": "2025-05-13T09:55:57.314Z"
   },
   {
    "duration": 257,
    "start_time": "2025-05-13T09:55:57.464Z"
   },
   {
    "duration": 68,
    "start_time": "2025-05-13T09:55:57.723Z"
   },
   {
    "duration": 1408,
    "start_time": "2025-05-13T09:55:57.793Z"
   },
   {
    "duration": 10,
    "start_time": "2025-05-13T09:57:42.308Z"
   },
   {
    "duration": 14,
    "start_time": "2025-05-13T09:58:43.831Z"
   },
   {
    "duration": 38,
    "start_time": "2025-05-13T09:59:37.959Z"
   },
   {
    "duration": 4,
    "start_time": "2025-05-13T10:00:35.181Z"
   },
   {
    "duration": 17,
    "start_time": "2025-05-13T10:00:48.367Z"
   },
   {
    "duration": 477,
    "start_time": "2025-05-13T10:01:05.736Z"
   },
   {
    "duration": 17,
    "start_time": "2025-05-13T10:02:04.960Z"
   },
   {
    "duration": 9,
    "start_time": "2025-05-13T10:02:09.014Z"
   },
   {
    "duration": 8,
    "start_time": "2025-05-13T10:02:13.398Z"
   },
   {
    "duration": 3,
    "start_time": "2025-05-13T10:04:28.366Z"
   },
   {
    "duration": 9,
    "start_time": "2025-05-13T10:04:44.054Z"
   },
   {
    "duration": 73,
    "start_time": "2025-05-13T10:05:07.313Z"
   },
   {
    "duration": 8,
    "start_time": "2025-05-13T10:05:16.957Z"
   },
   {
    "duration": 8,
    "start_time": "2025-05-13T10:05:32.262Z"
   },
   {
    "duration": 1150,
    "start_time": "2025-05-13T10:05:38.732Z"
   },
   {
    "duration": 43,
    "start_time": "2025-05-13T10:05:39.884Z"
   },
   {
    "duration": 15,
    "start_time": "2025-05-13T10:05:39.929Z"
   },
   {
    "duration": 10,
    "start_time": "2025-05-13T10:05:39.946Z"
   },
   {
    "duration": 11,
    "start_time": "2025-05-13T10:05:39.961Z"
   },
   {
    "duration": 25,
    "start_time": "2025-05-13T10:05:39.974Z"
   },
   {
    "duration": 11,
    "start_time": "2025-05-13T10:05:40.001Z"
   },
   {
    "duration": 230,
    "start_time": "2025-05-13T10:05:40.014Z"
   },
   {
    "duration": 150,
    "start_time": "2025-05-13T10:05:40.246Z"
   },
   {
    "duration": 8,
    "start_time": "2025-05-13T10:05:40.398Z"
   },
   {
    "duration": 18,
    "start_time": "2025-05-13T10:05:40.407Z"
   },
   {
    "duration": 13,
    "start_time": "2025-05-13T10:05:40.427Z"
   },
   {
    "duration": 26,
    "start_time": "2025-05-13T10:05:40.442Z"
   },
   {
    "duration": 2168,
    "start_time": "2025-05-13T10:05:40.471Z"
   },
   {
    "duration": 23,
    "start_time": "2025-05-13T10:05:42.640Z"
   },
   {
    "duration": 17,
    "start_time": "2025-05-13T10:05:42.664Z"
   },
   {
    "duration": 17,
    "start_time": "2025-05-13T10:05:42.682Z"
   },
   {
    "duration": 8,
    "start_time": "2025-05-13T10:05:42.700Z"
   },
   {
    "duration": 141,
    "start_time": "2025-05-13T10:05:42.709Z"
   },
   {
    "duration": 231,
    "start_time": "2025-05-13T10:05:42.852Z"
   },
   {
    "duration": 47,
    "start_time": "2025-05-13T10:05:43.084Z"
   },
   {
    "duration": 32,
    "start_time": "2025-05-13T10:05:43.132Z"
   },
   {
    "duration": 40,
    "start_time": "2025-05-13T10:06:04.411Z"
   },
   {
    "duration": 1124,
    "start_time": "2025-05-13T10:07:54.509Z"
   },
   {
    "duration": 32,
    "start_time": "2025-05-13T10:07:55.635Z"
   },
   {
    "duration": 14,
    "start_time": "2025-05-13T10:07:55.668Z"
   },
   {
    "duration": 8,
    "start_time": "2025-05-13T10:07:55.683Z"
   },
   {
    "duration": 4,
    "start_time": "2025-05-13T10:07:55.694Z"
   },
   {
    "duration": 20,
    "start_time": "2025-05-13T10:07:55.699Z"
   },
   {
    "duration": 7,
    "start_time": "2025-05-13T10:07:55.721Z"
   },
   {
    "duration": 217,
    "start_time": "2025-05-13T10:07:55.730Z"
   },
   {
    "duration": 138,
    "start_time": "2025-05-13T10:07:55.948Z"
   },
   {
    "duration": 7,
    "start_time": "2025-05-13T10:07:56.088Z"
   },
   {
    "duration": 20,
    "start_time": "2025-05-13T10:07:56.096Z"
   },
   {
    "duration": 8,
    "start_time": "2025-05-13T10:07:56.117Z"
   },
   {
    "duration": 48,
    "start_time": "2025-05-13T10:07:56.126Z"
   },
   {
    "duration": 1504,
    "start_time": "2025-05-13T10:07:56.177Z"
   },
   {
    "duration": 15,
    "start_time": "2025-05-13T10:07:57.683Z"
   },
   {
    "duration": 17,
    "start_time": "2025-05-13T10:07:57.700Z"
   },
   {
    "duration": 47,
    "start_time": "2025-05-13T10:07:57.719Z"
   },
   {
    "duration": 8,
    "start_time": "2025-05-13T10:07:57.768Z"
   },
   {
    "duration": 137,
    "start_time": "2025-05-13T10:07:57.778Z"
   },
   {
    "duration": 259,
    "start_time": "2025-05-13T10:07:57.917Z"
   },
   {
    "duration": 50,
    "start_time": "2025-05-13T10:07:58.178Z"
   },
   {
    "duration": 116,
    "start_time": "2025-05-13T10:08:17.376Z"
   },
   {
    "duration": 20,
    "start_time": "2025-05-13T10:08:29.055Z"
   },
   {
    "duration": 1092,
    "start_time": "2025-05-13T10:08:38.893Z"
   },
   {
    "duration": 32,
    "start_time": "2025-05-13T10:08:39.987Z"
   },
   {
    "duration": 54,
    "start_time": "2025-05-13T10:08:40.021Z"
   },
   {
    "duration": 10,
    "start_time": "2025-05-13T10:08:40.077Z"
   },
   {
    "duration": 15,
    "start_time": "2025-05-13T10:08:40.089Z"
   },
   {
    "duration": 14,
    "start_time": "2025-05-13T10:08:40.106Z"
   },
   {
    "duration": 9,
    "start_time": "2025-05-13T10:08:40.121Z"
   },
   {
    "duration": 254,
    "start_time": "2025-05-13T10:08:40.131Z"
   },
   {
    "duration": 144,
    "start_time": "2025-05-13T10:08:40.387Z"
   },
   {
    "duration": 5,
    "start_time": "2025-05-13T10:08:40.533Z"
   },
   {
    "duration": 23,
    "start_time": "2025-05-13T10:08:40.540Z"
   },
   {
    "duration": 9,
    "start_time": "2025-05-13T10:08:40.565Z"
   },
   {
    "duration": 9,
    "start_time": "2025-05-13T10:08:40.576Z"
   },
   {
    "duration": 1486,
    "start_time": "2025-05-13T10:08:40.588Z"
   },
   {
    "duration": 15,
    "start_time": "2025-05-13T10:08:42.076Z"
   },
   {
    "duration": 22,
    "start_time": "2025-05-13T10:08:42.092Z"
   },
   {
    "duration": 19,
    "start_time": "2025-05-13T10:08:42.115Z"
   },
   {
    "duration": 28,
    "start_time": "2025-05-13T10:08:42.135Z"
   },
   {
    "duration": 160,
    "start_time": "2025-05-13T10:08:42.164Z"
   },
   {
    "duration": 226,
    "start_time": "2025-05-13T10:08:42.326Z"
   },
   {
    "duration": 62,
    "start_time": "2025-05-13T10:08:42.554Z"
   },
   {
    "duration": 14,
    "start_time": "2025-05-13T10:09:56.362Z"
   },
   {
    "duration": 19,
    "start_time": "2025-05-13T10:10:08.987Z"
   },
   {
    "duration": 20,
    "start_time": "2025-05-13T10:10:16.872Z"
   },
   {
    "duration": 105,
    "start_time": "2025-05-13T10:10:36.682Z"
   },
   {
    "duration": 1186,
    "start_time": "2025-05-13T10:10:46.493Z"
   },
   {
    "duration": 31,
    "start_time": "2025-05-13T10:10:47.681Z"
   },
   {
    "duration": 14,
    "start_time": "2025-05-13T10:10:47.714Z"
   },
   {
    "duration": 8,
    "start_time": "2025-05-13T10:10:47.730Z"
   },
   {
    "duration": 4,
    "start_time": "2025-05-13T10:10:47.740Z"
   },
   {
    "duration": 25,
    "start_time": "2025-05-13T10:10:47.746Z"
   },
   {
    "duration": 9,
    "start_time": "2025-05-13T10:10:47.772Z"
   },
   {
    "duration": 238,
    "start_time": "2025-05-13T10:10:47.782Z"
   },
   {
    "duration": 176,
    "start_time": "2025-05-13T10:10:48.021Z"
   },
   {
    "duration": 6,
    "start_time": "2025-05-13T10:10:48.199Z"
   },
   {
    "duration": 24,
    "start_time": "2025-05-13T10:10:48.207Z"
   },
   {
    "duration": 9,
    "start_time": "2025-05-13T10:10:48.232Z"
   },
   {
    "duration": 23,
    "start_time": "2025-05-13T10:10:48.242Z"
   },
   {
    "duration": 1380,
    "start_time": "2025-05-13T10:10:48.268Z"
   },
   {
    "duration": 20,
    "start_time": "2025-05-13T10:10:49.649Z"
   },
   {
    "duration": 15,
    "start_time": "2025-05-13T10:10:49.670Z"
   },
   {
    "duration": 16,
    "start_time": "2025-05-13T10:10:49.687Z"
   },
   {
    "duration": 8,
    "start_time": "2025-05-13T10:10:49.704Z"
   },
   {
    "duration": 137,
    "start_time": "2025-05-13T10:10:49.714Z"
   },
   {
    "duration": 243,
    "start_time": "2025-05-13T10:10:49.853Z"
   },
   {
    "duration": 79,
    "start_time": "2025-05-13T10:10:50.098Z"
   },
   {
    "duration": 135,
    "start_time": "2025-05-13T10:20:59.439Z"
   },
   {
    "duration": 56,
    "start_time": "2025-05-13T10:21:07.409Z"
   },
   {
    "duration": 11,
    "start_time": "2025-05-13T10:22:29.398Z"
   },
   {
    "duration": 1169,
    "start_time": "2025-05-13T10:22:33.780Z"
   },
   {
    "duration": 32,
    "start_time": "2025-05-13T10:22:34.951Z"
   },
   {
    "duration": 15,
    "start_time": "2025-05-13T10:22:34.984Z"
   },
   {
    "duration": 7,
    "start_time": "2025-05-13T10:22:35.000Z"
   },
   {
    "duration": 4,
    "start_time": "2025-05-13T10:22:35.010Z"
   },
   {
    "duration": 11,
    "start_time": "2025-05-13T10:22:35.015Z"
   },
   {
    "duration": 35,
    "start_time": "2025-05-13T10:22:35.027Z"
   },
   {
    "duration": 204,
    "start_time": "2025-05-13T10:22:35.064Z"
   },
   {
    "duration": 146,
    "start_time": "2025-05-13T10:22:35.269Z"
   },
   {
    "duration": 6,
    "start_time": "2025-05-13T10:22:35.417Z"
   },
   {
    "duration": 11,
    "start_time": "2025-05-13T10:22:35.424Z"
   },
   {
    "duration": 26,
    "start_time": "2025-05-13T10:22:35.437Z"
   },
   {
    "duration": 9,
    "start_time": "2025-05-13T10:22:35.464Z"
   },
   {
    "duration": 1815,
    "start_time": "2025-05-13T10:22:35.476Z"
   },
   {
    "duration": 15,
    "start_time": "2025-05-13T10:22:37.292Z"
   },
   {
    "duration": 15,
    "start_time": "2025-05-13T10:22:37.308Z"
   },
   {
    "duration": 37,
    "start_time": "2025-05-13T10:22:37.325Z"
   },
   {
    "duration": 8,
    "start_time": "2025-05-13T10:22:37.364Z"
   },
   {
    "duration": 116,
    "start_time": "2025-05-13T10:22:37.373Z"
   },
   {
    "duration": 224,
    "start_time": "2025-05-13T10:22:37.491Z"
   },
   {
    "duration": 70,
    "start_time": "2025-05-13T10:22:37.716Z"
   },
   {
    "duration": 106,
    "start_time": "2025-05-13T10:22:37.787Z"
   },
   {
    "duration": 11,
    "start_time": "2025-05-13T10:23:55.376Z"
   },
   {
    "duration": 64,
    "start_time": "2025-05-13T10:24:24.116Z"
   },
   {
    "duration": 178,
    "start_time": "2025-05-13T10:24:38.211Z"
   },
   {
    "duration": 62,
    "start_time": "2025-05-13T10:24:47.868Z"
   },
   {
    "duration": 13,
    "start_time": "2025-05-13T10:24:55.461Z"
   },
   {
    "duration": 17,
    "start_time": "2025-05-13T10:25:05.083Z"
   },
   {
    "duration": 37,
    "start_time": "2025-05-13T10:25:30.623Z"
   },
   {
    "duration": 43,
    "start_time": "2025-05-13T10:25:56.236Z"
   },
   {
    "duration": 31,
    "start_time": "2025-05-13T10:26:04.086Z"
   },
   {
    "duration": 26,
    "start_time": "2025-05-13T10:29:50.313Z"
   },
   {
    "duration": 21,
    "start_time": "2025-05-13T10:29:58.815Z"
   },
   {
    "duration": 1536,
    "start_time": "2025-05-13T10:33:00.592Z"
   },
   {
    "duration": 17,
    "start_time": "2025-05-13T10:33:09.583Z"
   },
   {
    "duration": 10,
    "start_time": "2025-05-13T10:33:14.674Z"
   },
   {
    "duration": 23,
    "start_time": "2025-05-13T10:34:08.211Z"
   },
   {
    "duration": 1189,
    "start_time": "2025-05-13T10:37:21.295Z"
   },
   {
    "duration": 42,
    "start_time": "2025-05-13T10:37:22.487Z"
   },
   {
    "duration": 14,
    "start_time": "2025-05-13T10:37:22.531Z"
   },
   {
    "duration": 8,
    "start_time": "2025-05-13T10:37:22.546Z"
   },
   {
    "duration": 19,
    "start_time": "2025-05-13T10:37:22.556Z"
   },
   {
    "duration": 40,
    "start_time": "2025-05-13T10:37:22.577Z"
   },
   {
    "duration": 14,
    "start_time": "2025-05-13T10:37:22.619Z"
   },
   {
    "duration": 216,
    "start_time": "2025-05-13T10:37:22.634Z"
   },
   {
    "duration": 153,
    "start_time": "2025-05-13T10:37:22.852Z"
   },
   {
    "duration": 6,
    "start_time": "2025-05-13T10:37:23.006Z"
   },
   {
    "duration": 20,
    "start_time": "2025-05-13T10:37:23.014Z"
   },
   {
    "duration": 16,
    "start_time": "2025-05-13T10:37:23.035Z"
   },
   {
    "duration": 19,
    "start_time": "2025-05-13T10:37:23.053Z"
   },
   {
    "duration": 1651,
    "start_time": "2025-05-13T10:37:23.074Z"
   },
   {
    "duration": 16,
    "start_time": "2025-05-13T10:37:24.726Z"
   },
   {
    "duration": 32,
    "start_time": "2025-05-13T10:37:24.744Z"
   },
   {
    "duration": 36,
    "start_time": "2025-05-13T10:37:24.778Z"
   },
   {
    "duration": 14,
    "start_time": "2025-05-13T10:37:24.816Z"
   },
   {
    "duration": 120,
    "start_time": "2025-05-13T10:37:24.831Z"
   },
   {
    "duration": 237,
    "start_time": "2025-05-13T10:37:24.952Z"
   },
   {
    "duration": 79,
    "start_time": "2025-05-13T10:37:25.191Z"
   },
   {
    "duration": 31,
    "start_time": "2025-05-13T10:37:25.272Z"
   },
   {
    "duration": 1258,
    "start_time": "2025-05-13T10:37:25.304Z"
   },
   {
    "duration": 0,
    "start_time": "2025-05-13T10:37:26.564Z"
   },
   {
    "duration": 62,
    "start_time": "2025-05-13T10:38:59.810Z"
   },
   {
    "duration": 1239,
    "start_time": "2025-05-13T10:39:06.103Z"
   },
   {
    "duration": 19,
    "start_time": "2025-05-13T10:39:40.442Z"
   },
   {
    "duration": 19,
    "start_time": "2025-05-13T10:39:47.383Z"
   },
   {
    "duration": 1169,
    "start_time": "2025-05-13T10:40:10.925Z"
   },
   {
    "duration": 34,
    "start_time": "2025-05-13T10:40:12.096Z"
   },
   {
    "duration": 15,
    "start_time": "2025-05-13T10:40:12.132Z"
   },
   {
    "duration": 17,
    "start_time": "2025-05-13T10:40:12.148Z"
   },
   {
    "duration": 5,
    "start_time": "2025-05-13T10:40:12.167Z"
   },
   {
    "duration": 12,
    "start_time": "2025-05-13T10:40:12.174Z"
   },
   {
    "duration": 8,
    "start_time": "2025-05-13T10:40:12.187Z"
   },
   {
    "duration": 228,
    "start_time": "2025-05-13T10:40:12.196Z"
   },
   {
    "duration": 156,
    "start_time": "2025-05-13T10:40:12.426Z"
   },
   {
    "duration": 7,
    "start_time": "2025-05-13T10:40:12.583Z"
   },
   {
    "duration": 22,
    "start_time": "2025-05-13T10:40:12.592Z"
   },
   {
    "duration": 8,
    "start_time": "2025-05-13T10:40:12.616Z"
   },
   {
    "duration": 10,
    "start_time": "2025-05-13T10:40:12.626Z"
   },
   {
    "duration": 1625,
    "start_time": "2025-05-13T10:40:12.639Z"
   },
   {
    "duration": 19,
    "start_time": "2025-05-13T10:40:14.265Z"
   },
   {
    "duration": 17,
    "start_time": "2025-05-13T10:40:14.286Z"
   },
   {
    "duration": 79,
    "start_time": "2025-05-13T10:40:14.304Z"
   },
   {
    "duration": 10,
    "start_time": "2025-05-13T10:40:14.385Z"
   },
   {
    "duration": 116,
    "start_time": "2025-05-13T10:40:14.396Z"
   },
   {
    "duration": 249,
    "start_time": "2025-05-13T10:40:14.514Z"
   },
   {
    "duration": 26,
    "start_time": "2025-05-13T10:40:14.765Z"
   },
   {
    "duration": 73,
    "start_time": "2025-05-13T10:40:14.793Z"
   },
   {
    "duration": 27,
    "start_time": "2025-05-13T10:40:14.867Z"
   },
   {
    "duration": 18,
    "start_time": "2025-05-13T10:40:14.896Z"
   },
   {
    "duration": 18,
    "start_time": "2025-05-13T10:40:54.707Z"
   },
   {
    "duration": 40,
    "start_time": "2025-05-13T10:42:28.195Z"
   },
   {
    "duration": 1106,
    "start_time": "2025-05-13T10:43:26.060Z"
   },
   {
    "duration": 31,
    "start_time": "2025-05-13T10:43:27.168Z"
   },
   {
    "duration": 13,
    "start_time": "2025-05-13T10:43:27.200Z"
   },
   {
    "duration": 6,
    "start_time": "2025-05-13T10:43:27.215Z"
   },
   {
    "duration": 4,
    "start_time": "2025-05-13T10:43:27.223Z"
   },
   {
    "duration": 10,
    "start_time": "2025-05-13T10:43:27.228Z"
   },
   {
    "duration": 27,
    "start_time": "2025-05-13T10:43:27.239Z"
   },
   {
    "duration": 201,
    "start_time": "2025-05-13T10:43:27.268Z"
   },
   {
    "duration": 143,
    "start_time": "2025-05-13T10:43:27.471Z"
   },
   {
    "duration": 7,
    "start_time": "2025-05-13T10:43:27.615Z"
   },
   {
    "duration": 21,
    "start_time": "2025-05-13T10:43:27.623Z"
   },
   {
    "duration": 17,
    "start_time": "2025-05-13T10:43:27.645Z"
   },
   {
    "duration": 8,
    "start_time": "2025-05-13T10:43:27.664Z"
   },
   {
    "duration": 1461,
    "start_time": "2025-05-13T10:43:27.675Z"
   },
   {
    "duration": 27,
    "start_time": "2025-05-13T10:43:29.138Z"
   },
   {
    "duration": 103,
    "start_time": "2025-05-13T10:43:29.167Z"
   },
   {
    "duration": 0,
    "start_time": "2025-05-13T10:43:29.272Z"
   },
   {
    "duration": 0,
    "start_time": "2025-05-13T10:43:29.273Z"
   },
   {
    "duration": 0,
    "start_time": "2025-05-13T10:43:29.275Z"
   },
   {
    "duration": 0,
    "start_time": "2025-05-13T10:43:29.276Z"
   },
   {
    "duration": 0,
    "start_time": "2025-05-13T10:43:29.278Z"
   },
   {
    "duration": 0,
    "start_time": "2025-05-13T10:43:29.279Z"
   },
   {
    "duration": 0,
    "start_time": "2025-05-13T10:43:29.280Z"
   },
   {
    "duration": 0,
    "start_time": "2025-05-13T10:43:29.282Z"
   },
   {
    "duration": 0,
    "start_time": "2025-05-13T10:43:29.283Z"
   },
   {
    "duration": 1180,
    "start_time": "2025-05-13T10:44:17.659Z"
   },
   {
    "duration": 31,
    "start_time": "2025-05-13T10:44:18.840Z"
   },
   {
    "duration": 13,
    "start_time": "2025-05-13T10:44:18.873Z"
   },
   {
    "duration": 7,
    "start_time": "2025-05-13T10:44:18.887Z"
   },
   {
    "duration": 4,
    "start_time": "2025-05-13T10:44:18.896Z"
   },
   {
    "duration": 14,
    "start_time": "2025-05-13T10:44:18.901Z"
   },
   {
    "duration": 7,
    "start_time": "2025-05-13T10:44:18.916Z"
   },
   {
    "duration": 220,
    "start_time": "2025-05-13T10:44:18.924Z"
   },
   {
    "duration": 151,
    "start_time": "2025-05-13T10:44:19.145Z"
   },
   {
    "duration": 6,
    "start_time": "2025-05-13T10:44:19.298Z"
   },
   {
    "duration": 24,
    "start_time": "2025-05-13T10:44:19.305Z"
   },
   {
    "duration": 25,
    "start_time": "2025-05-13T10:44:19.331Z"
   },
   {
    "duration": 8,
    "start_time": "2025-05-13T10:44:19.357Z"
   },
   {
    "duration": 1444,
    "start_time": "2025-05-13T10:44:19.368Z"
   },
   {
    "duration": 17,
    "start_time": "2025-05-13T10:44:20.814Z"
   },
   {
    "duration": 48,
    "start_time": "2025-05-13T10:44:20.833Z"
   },
   {
    "duration": 65,
    "start_time": "2025-05-13T10:44:20.883Z"
   },
   {
    "duration": 25,
    "start_time": "2025-05-13T10:44:20.950Z"
   },
   {
    "duration": 171,
    "start_time": "2025-05-13T10:44:20.976Z"
   },
   {
    "duration": 98,
    "start_time": "2025-05-13T10:44:21.149Z"
   },
   {
    "duration": 0,
    "start_time": "2025-05-13T10:44:21.248Z"
   },
   {
    "duration": 0,
    "start_time": "2025-05-13T10:44:21.250Z"
   },
   {
    "duration": 0,
    "start_time": "2025-05-13T10:44:21.251Z"
   },
   {
    "duration": 0,
    "start_time": "2025-05-13T10:44:21.252Z"
   },
   {
    "duration": 0,
    "start_time": "2025-05-13T10:44:21.254Z"
   },
   {
    "duration": 1206,
    "start_time": "2025-05-13T10:44:54.464Z"
   },
   {
    "duration": 33,
    "start_time": "2025-05-13T10:44:55.672Z"
   },
   {
    "duration": 14,
    "start_time": "2025-05-13T10:44:55.707Z"
   },
   {
    "duration": 8,
    "start_time": "2025-05-13T10:44:55.723Z"
   },
   {
    "duration": 13,
    "start_time": "2025-05-13T10:44:55.732Z"
   },
   {
    "duration": 24,
    "start_time": "2025-05-13T10:44:55.746Z"
   },
   {
    "duration": 7,
    "start_time": "2025-05-13T10:44:55.772Z"
   },
   {
    "duration": 226,
    "start_time": "2025-05-13T10:44:55.781Z"
   },
   {
    "duration": 151,
    "start_time": "2025-05-13T10:44:56.008Z"
   },
   {
    "duration": 7,
    "start_time": "2025-05-13T10:44:56.162Z"
   },
   {
    "duration": 9,
    "start_time": "2025-05-13T10:44:56.171Z"
   },
   {
    "duration": 8,
    "start_time": "2025-05-13T10:44:56.182Z"
   },
   {
    "duration": 8,
    "start_time": "2025-05-13T10:44:56.191Z"
   },
   {
    "duration": 1564,
    "start_time": "2025-05-13T10:44:56.201Z"
   },
   {
    "duration": 16,
    "start_time": "2025-05-13T10:44:57.767Z"
   },
   {
    "duration": 18,
    "start_time": "2025-05-13T10:44:57.784Z"
   },
   {
    "duration": 18,
    "start_time": "2025-05-13T10:44:57.803Z"
   },
   {
    "duration": 40,
    "start_time": "2025-05-13T10:44:57.823Z"
   },
   {
    "duration": 114,
    "start_time": "2025-05-13T10:44:57.864Z"
   },
   {
    "duration": 249,
    "start_time": "2025-05-13T10:44:57.980Z"
   },
   {
    "duration": 75,
    "start_time": "2025-05-13T10:44:58.231Z"
   },
   {
    "duration": 19,
    "start_time": "2025-05-13T10:44:58.308Z"
   },
   {
    "duration": 17,
    "start_time": "2025-05-13T10:44:58.328Z"
   },
   {
    "duration": 84,
    "start_time": "2025-05-13T10:44:58.362Z"
   },
   {
    "duration": 28,
    "start_time": "2025-05-13T10:44:58.447Z"
   },
   {
    "duration": 1132,
    "start_time": "2025-05-13T10:46:59.278Z"
   },
   {
    "duration": 32,
    "start_time": "2025-05-13T10:47:00.412Z"
   },
   {
    "duration": 17,
    "start_time": "2025-05-13T10:47:00.445Z"
   },
   {
    "duration": 33,
    "start_time": "2025-05-13T10:47:00.463Z"
   },
   {
    "duration": 31,
    "start_time": "2025-05-13T10:47:00.499Z"
   },
   {
    "duration": 56,
    "start_time": "2025-05-13T10:47:00.531Z"
   },
   {
    "duration": 25,
    "start_time": "2025-05-13T10:47:00.589Z"
   },
   {
    "duration": 193,
    "start_time": "2025-05-13T10:47:00.616Z"
   },
   {
    "duration": 150,
    "start_time": "2025-05-13T10:47:00.810Z"
   },
   {
    "duration": 7,
    "start_time": "2025-05-13T10:47:00.962Z"
   },
   {
    "duration": 37,
    "start_time": "2025-05-13T10:47:00.971Z"
   },
   {
    "duration": 8,
    "start_time": "2025-05-13T10:47:01.010Z"
   },
   {
    "duration": 10,
    "start_time": "2025-05-13T10:47:01.019Z"
   },
   {
    "duration": 2006,
    "start_time": "2025-05-13T10:47:01.031Z"
   },
   {
    "duration": 25,
    "start_time": "2025-05-13T10:47:03.038Z"
   },
   {
    "duration": 18,
    "start_time": "2025-05-13T10:47:03.064Z"
   },
   {
    "duration": 31,
    "start_time": "2025-05-13T10:47:03.083Z"
   },
   {
    "duration": 8,
    "start_time": "2025-05-13T10:47:03.116Z"
   },
   {
    "duration": 127,
    "start_time": "2025-05-13T10:47:03.126Z"
   },
   {
    "duration": 228,
    "start_time": "2025-05-13T10:47:03.255Z"
   },
   {
    "duration": 22,
    "start_time": "2025-05-13T10:47:03.484Z"
   },
   {
    "duration": 82,
    "start_time": "2025-05-13T10:47:03.508Z"
   },
   {
    "duration": 59,
    "start_time": "2025-05-13T10:47:03.591Z"
   },
   {
    "duration": 36,
    "start_time": "2025-05-13T10:47:03.652Z"
   },
   {
    "duration": 48,
    "start_time": "2025-05-13T10:47:03.690Z"
   },
   {
    "duration": 1166,
    "start_time": "2025-05-13T10:50:13.407Z"
   },
   {
    "duration": 32,
    "start_time": "2025-05-13T10:50:14.575Z"
   },
   {
    "duration": 16,
    "start_time": "2025-05-13T10:50:14.608Z"
   },
   {
    "duration": 8,
    "start_time": "2025-05-13T10:50:14.625Z"
   },
   {
    "duration": 4,
    "start_time": "2025-05-13T10:50:14.635Z"
   },
   {
    "duration": 26,
    "start_time": "2025-05-13T10:50:14.641Z"
   },
   {
    "duration": 8,
    "start_time": "2025-05-13T10:50:14.669Z"
   },
   {
    "duration": 219,
    "start_time": "2025-05-13T10:50:14.678Z"
   },
   {
    "duration": 145,
    "start_time": "2025-05-13T10:50:14.899Z"
   },
   {
    "duration": 16,
    "start_time": "2025-05-13T10:50:15.046Z"
   },
   {
    "duration": 46,
    "start_time": "2025-05-13T10:50:15.064Z"
   },
   {
    "duration": 52,
    "start_time": "2025-05-13T10:50:15.112Z"
   },
   {
    "duration": 30,
    "start_time": "2025-05-13T10:50:15.166Z"
   },
   {
    "duration": 2274,
    "start_time": "2025-05-13T10:50:15.199Z"
   },
   {
    "duration": 16,
    "start_time": "2025-05-13T10:50:17.475Z"
   },
   {
    "duration": 47,
    "start_time": "2025-05-13T10:50:17.493Z"
   },
   {
    "duration": 28,
    "start_time": "2025-05-13T10:50:17.542Z"
   },
   {
    "duration": 8,
    "start_time": "2025-05-13T10:50:17.572Z"
   },
   {
    "duration": 120,
    "start_time": "2025-05-13T10:50:17.582Z"
   },
   {
    "duration": 234,
    "start_time": "2025-05-13T10:50:17.704Z"
   },
   {
    "duration": 25,
    "start_time": "2025-05-13T10:50:17.940Z"
   },
   {
    "duration": 24,
    "start_time": "2025-05-13T10:50:17.966Z"
   },
   {
    "duration": 67,
    "start_time": "2025-05-13T10:50:17.991Z"
   },
   {
    "duration": 47,
    "start_time": "2025-05-13T10:50:18.060Z"
   },
   {
    "duration": 57,
    "start_time": "2025-05-13T10:50:18.108Z"
   },
   {
    "duration": 26,
    "start_time": "2025-05-13T10:50:18.166Z"
   },
   {
    "duration": 7,
    "start_time": "2025-05-13T10:50:36.775Z"
   },
   {
    "duration": 1159,
    "start_time": "2025-05-13T10:50:44.495Z"
   },
   {
    "duration": 31,
    "start_time": "2025-05-13T10:50:45.656Z"
   },
   {
    "duration": 14,
    "start_time": "2025-05-13T10:50:45.688Z"
   },
   {
    "duration": 10,
    "start_time": "2025-05-13T10:50:45.704Z"
   },
   {
    "duration": 12,
    "start_time": "2025-05-13T10:50:45.716Z"
   },
   {
    "duration": 30,
    "start_time": "2025-05-13T10:50:45.730Z"
   },
   {
    "duration": 8,
    "start_time": "2025-05-13T10:50:45.762Z"
   },
   {
    "duration": 209,
    "start_time": "2025-05-13T10:50:45.771Z"
   },
   {
    "duration": 146,
    "start_time": "2025-05-13T10:50:45.982Z"
   },
   {
    "duration": 6,
    "start_time": "2025-05-13T10:50:46.130Z"
   },
   {
    "duration": 13,
    "start_time": "2025-05-13T10:50:46.137Z"
   },
   {
    "duration": 17,
    "start_time": "2025-05-13T10:50:46.151Z"
   },
   {
    "duration": 17,
    "start_time": "2025-05-13T10:50:46.169Z"
   },
   {
    "duration": 1348,
    "start_time": "2025-05-13T10:50:46.189Z"
   },
   {
    "duration": 24,
    "start_time": "2025-05-13T10:50:47.539Z"
   },
   {
    "duration": 16,
    "start_time": "2025-05-13T10:50:47.564Z"
   },
   {
    "duration": 32,
    "start_time": "2025-05-13T10:50:47.581Z"
   },
   {
    "duration": 8,
    "start_time": "2025-05-13T10:50:47.614Z"
   },
   {
    "duration": 114,
    "start_time": "2025-05-13T10:50:47.624Z"
   },
   {
    "duration": 224,
    "start_time": "2025-05-13T10:50:47.740Z"
   },
   {
    "duration": 9,
    "start_time": "2025-05-13T10:50:47.965Z"
   },
   {
    "duration": 37,
    "start_time": "2025-05-13T10:50:47.976Z"
   },
   {
    "duration": 27,
    "start_time": "2025-05-13T10:50:48.016Z"
   },
   {
    "duration": 61,
    "start_time": "2025-05-13T10:50:48.044Z"
   },
   {
    "duration": 69,
    "start_time": "2025-05-13T10:50:48.107Z"
   },
   {
    "duration": 26,
    "start_time": "2025-05-13T10:50:48.178Z"
   },
   {
    "duration": 118,
    "start_time": "2025-05-13T10:52:04.241Z"
   },
   {
    "duration": 1095,
    "start_time": "2025-05-13T10:52:10.666Z"
   },
   {
    "duration": 31,
    "start_time": "2025-05-13T10:52:11.763Z"
   },
   {
    "duration": 14,
    "start_time": "2025-05-13T10:52:11.796Z"
   },
   {
    "duration": 7,
    "start_time": "2025-05-13T10:52:11.811Z"
   },
   {
    "duration": 27,
    "start_time": "2025-05-13T10:52:11.820Z"
   },
   {
    "duration": 16,
    "start_time": "2025-05-13T10:52:11.849Z"
   },
   {
    "duration": 9,
    "start_time": "2025-05-13T10:52:11.867Z"
   },
   {
    "duration": 211,
    "start_time": "2025-05-13T10:52:11.878Z"
   },
   {
    "duration": 146,
    "start_time": "2025-05-13T10:52:12.091Z"
   },
   {
    "duration": 6,
    "start_time": "2025-05-13T10:52:12.239Z"
   },
   {
    "duration": 100,
    "start_time": "2025-05-13T10:52:12.246Z"
   },
   {
    "duration": 12,
    "start_time": "2025-05-13T10:52:12.348Z"
   },
   {
    "duration": 74,
    "start_time": "2025-05-13T10:52:12.361Z"
   },
   {
    "duration": 1947,
    "start_time": "2025-05-13T10:52:12.438Z"
   },
   {
    "duration": 15,
    "start_time": "2025-05-13T10:52:14.387Z"
   },
   {
    "duration": 48,
    "start_time": "2025-05-13T10:52:14.404Z"
   },
   {
    "duration": 18,
    "start_time": "2025-05-13T10:52:14.453Z"
   },
   {
    "duration": 8,
    "start_time": "2025-05-13T10:52:14.472Z"
   },
   {
    "duration": 121,
    "start_time": "2025-05-13T10:52:14.481Z"
   },
   {
    "duration": 236,
    "start_time": "2025-05-13T10:52:14.603Z"
   },
   {
    "duration": 9,
    "start_time": "2025-05-13T10:52:14.841Z"
   },
   {
    "duration": 50,
    "start_time": "2025-05-13T10:52:14.851Z"
   },
   {
    "duration": 22,
    "start_time": "2025-05-13T10:52:14.902Z"
   },
   {
    "duration": 42,
    "start_time": "2025-05-13T10:52:14.925Z"
   },
   {
    "duration": 52,
    "start_time": "2025-05-13T10:52:14.968Z"
   },
   {
    "duration": 26,
    "start_time": "2025-05-13T10:52:15.022Z"
   },
   {
    "duration": 98,
    "start_time": "2025-05-13T10:58:44.686Z"
   },
   {
    "duration": 18,
    "start_time": "2025-05-13T10:58:51.393Z"
   },
   {
    "duration": 27,
    "start_time": "2025-05-13T10:59:15.408Z"
   },
   {
    "duration": 18,
    "start_time": "2025-05-13T11:10:38.806Z"
   },
   {
    "duration": 15,
    "start_time": "2025-05-13T11:13:27.496Z"
   },
   {
    "duration": 25,
    "start_time": "2025-05-13T11:13:46.698Z"
   },
   {
    "duration": 302,
    "start_time": "2025-05-13T11:35:51.949Z"
   },
   {
    "duration": 34,
    "start_time": "2025-05-13T11:35:52.254Z"
   },
   {
    "duration": 15,
    "start_time": "2025-05-13T11:35:52.289Z"
   },
   {
    "duration": 8,
    "start_time": "2025-05-13T11:35:52.305Z"
   },
   {
    "duration": 5,
    "start_time": "2025-05-13T11:35:52.315Z"
   },
   {
    "duration": 15,
    "start_time": "2025-05-13T11:35:52.322Z"
   },
   {
    "duration": 29,
    "start_time": "2025-05-13T11:35:52.338Z"
   },
   {
    "duration": 214,
    "start_time": "2025-05-13T11:35:52.368Z"
   },
   {
    "duration": 129,
    "start_time": "2025-05-13T11:35:52.583Z"
   },
   {
    "duration": 7,
    "start_time": "2025-05-13T11:35:52.713Z"
   },
   {
    "duration": 11,
    "start_time": "2025-05-13T11:35:52.721Z"
   },
   {
    "duration": 8,
    "start_time": "2025-05-13T11:35:52.733Z"
   },
   {
    "duration": 25,
    "start_time": "2025-05-13T11:35:52.742Z"
   },
   {
    "duration": 1403,
    "start_time": "2025-05-13T11:35:52.769Z"
   },
   {
    "duration": 16,
    "start_time": "2025-05-13T11:35:54.174Z"
   },
   {
    "duration": 50,
    "start_time": "2025-05-13T11:35:54.192Z"
   },
   {
    "duration": 20,
    "start_time": "2025-05-13T11:35:54.243Z"
   },
   {
    "duration": 9,
    "start_time": "2025-05-13T11:35:54.265Z"
   },
   {
    "duration": 119,
    "start_time": "2025-05-13T11:35:54.275Z"
   },
   {
    "duration": 226,
    "start_time": "2025-05-13T11:35:54.396Z"
   },
   {
    "duration": 10,
    "start_time": "2025-05-13T11:35:54.624Z"
   },
   {
    "duration": 37,
    "start_time": "2025-05-13T11:35:54.635Z"
   },
   {
    "duration": 17,
    "start_time": "2025-05-13T11:35:54.674Z"
   },
   {
    "duration": 43,
    "start_time": "2025-05-13T11:35:54.692Z"
   },
   {
    "duration": 67,
    "start_time": "2025-05-13T11:35:54.736Z"
   },
   {
    "duration": 20,
    "start_time": "2025-05-13T11:35:54.805Z"
   },
   {
    "duration": 0,
    "start_time": "2025-05-13T11:35:54.827Z"
   },
   {
    "duration": 10,
    "start_time": "2025-05-13T11:36:16.313Z"
   },
   {
    "duration": 15,
    "start_time": "2025-05-13T11:36:33.384Z"
   },
   {
    "duration": 25,
    "start_time": "2025-05-13T11:36:40.411Z"
   },
   {
    "duration": 14,
    "start_time": "2025-05-13T11:36:45.300Z"
   },
   {
    "duration": 25,
    "start_time": "2025-05-13T11:36:45.967Z"
   },
   {
    "duration": 16,
    "start_time": "2025-05-13T11:37:41.763Z"
   },
   {
    "duration": 14,
    "start_time": "2025-05-13T11:38:44.922Z"
   },
   {
    "duration": 14,
    "start_time": "2025-05-13T11:39:08.147Z"
   },
   {
    "duration": 27,
    "start_time": "2025-05-13T11:54:26.828Z"
   },
   {
    "duration": 44,
    "start_time": "2025-05-13T11:57:13.902Z"
   },
   {
    "duration": 44,
    "start_time": "2025-05-13T11:57:41.934Z"
   },
   {
    "duration": 12,
    "start_time": "2025-05-13T11:58:30.701Z"
   },
   {
    "duration": 49,
    "start_time": "2025-05-13T11:59:26.381Z"
   },
   {
    "duration": 45,
    "start_time": "2025-05-13T11:59:40.032Z"
   },
   {
    "duration": 43,
    "start_time": "2025-05-13T12:00:01.990Z"
   },
   {
    "duration": 30,
    "start_time": "2025-05-13T12:01:02.247Z"
   },
   {
    "duration": 28,
    "start_time": "2025-05-13T12:01:24.402Z"
   },
   {
    "duration": 36,
    "start_time": "2025-05-13T12:01:33.883Z"
   },
   {
    "duration": 32,
    "start_time": "2025-05-13T12:01:58.435Z"
   },
   {
    "duration": 32,
    "start_time": "2025-05-13T12:02:32.259Z"
   },
   {
    "duration": 1184,
    "start_time": "2025-05-13T12:02:33.100Z"
   },
   {
    "duration": 4,
    "start_time": "2025-05-13T12:03:08.371Z"
   },
   {
    "duration": 5,
    "start_time": "2025-05-13T12:03:15.812Z"
   },
   {
    "duration": 6,
    "start_time": "2025-05-13T12:03:38.916Z"
   },
   {
    "duration": 1371,
    "start_time": "2025-05-13T12:05:29.117Z"
   },
   {
    "duration": 38,
    "start_time": "2025-05-13T12:05:38.500Z"
   },
   {
    "duration": 30,
    "start_time": "2025-05-13T12:05:47.026Z"
   },
   {
    "duration": 1707,
    "start_time": "2025-05-13T12:07:23.450Z"
   },
   {
    "duration": 1182,
    "start_time": "2025-05-13T12:07:37.646Z"
   },
   {
    "duration": 66,
    "start_time": "2025-05-13T12:09:15.012Z"
   },
   {
    "duration": 71,
    "start_time": "2025-05-13T12:09:29.049Z"
   },
   {
    "duration": 36,
    "start_time": "2025-05-13T12:09:48.735Z"
   },
   {
    "duration": 60,
    "start_time": "2025-05-13T12:10:41.711Z"
   },
   {
    "duration": 15,
    "start_time": "2025-05-13T12:10:46.355Z"
   },
   {
    "duration": 15,
    "start_time": "2025-05-13T12:11:25.090Z"
   },
   {
    "duration": 14,
    "start_time": "2025-05-13T12:11:28.873Z"
   },
   {
    "duration": 306,
    "start_time": "2025-05-13T12:12:14.561Z"
   },
   {
    "duration": 437,
    "start_time": "2025-05-13T12:13:20.207Z"
   },
   {
    "duration": 1170,
    "start_time": "2025-05-13T12:14:18.802Z"
   },
   {
    "duration": 32,
    "start_time": "2025-05-13T12:14:19.975Z"
   },
   {
    "duration": 16,
    "start_time": "2025-05-13T12:14:20.009Z"
   },
   {
    "duration": 8,
    "start_time": "2025-05-13T12:14:20.027Z"
   },
   {
    "duration": 25,
    "start_time": "2025-05-13T12:14:20.038Z"
   },
   {
    "duration": 21,
    "start_time": "2025-05-13T12:14:20.065Z"
   },
   {
    "duration": 7,
    "start_time": "2025-05-13T12:14:20.088Z"
   },
   {
    "duration": 209,
    "start_time": "2025-05-13T12:14:20.097Z"
   },
   {
    "duration": 148,
    "start_time": "2025-05-13T12:14:20.307Z"
   },
   {
    "duration": 10,
    "start_time": "2025-05-13T12:14:20.456Z"
   },
   {
    "duration": 10,
    "start_time": "2025-05-13T12:14:20.467Z"
   },
   {
    "duration": 9,
    "start_time": "2025-05-13T12:14:20.479Z"
   },
   {
    "duration": 9,
    "start_time": "2025-05-13T12:14:20.489Z"
   },
   {
    "duration": 1482,
    "start_time": "2025-05-13T12:14:20.500Z"
   },
   {
    "duration": 17,
    "start_time": "2025-05-13T12:14:21.983Z"
   },
   {
    "duration": 16,
    "start_time": "2025-05-13T12:14:22.002Z"
   },
   {
    "duration": 23,
    "start_time": "2025-05-13T12:14:22.020Z"
   },
   {
    "duration": 9,
    "start_time": "2025-05-13T12:14:22.063Z"
   },
   {
    "duration": 125,
    "start_time": "2025-05-13T12:14:22.073Z"
   },
   {
    "duration": 239,
    "start_time": "2025-05-13T12:14:22.200Z"
   },
   {
    "duration": 21,
    "start_time": "2025-05-13T12:14:22.441Z"
   },
   {
    "duration": 26,
    "start_time": "2025-05-13T12:14:22.464Z"
   },
   {
    "duration": 19,
    "start_time": "2025-05-13T12:14:22.492Z"
   },
   {
    "duration": 62,
    "start_time": "2025-05-13T12:14:22.512Z"
   },
   {
    "duration": 52,
    "start_time": "2025-05-13T12:14:22.576Z"
   },
   {
    "duration": 16,
    "start_time": "2025-05-13T12:14:22.630Z"
   },
   {
    "duration": 87,
    "start_time": "2025-05-13T12:14:22.647Z"
   },
   {
    "duration": 63,
    "start_time": "2025-05-13T12:14:22.735Z"
   },
   {
    "duration": 100,
    "start_time": "2025-05-13T12:19:03.412Z"
   },
   {
    "duration": 197,
    "start_time": "2025-05-13T12:19:10.951Z"
   },
   {
    "duration": 160,
    "start_time": "2025-05-13T12:19:42.077Z"
   },
   {
    "duration": 151,
    "start_time": "2025-05-13T12:20:14.591Z"
   },
   {
    "duration": 199,
    "start_time": "2025-05-13T12:21:07.852Z"
   },
   {
    "duration": 231,
    "start_time": "2025-05-13T12:21:22.865Z"
   },
   {
    "duration": 15,
    "start_time": "2025-05-13T12:21:29.791Z"
   },
   {
    "duration": 14,
    "start_time": "2025-05-13T12:21:36.796Z"
   },
   {
    "duration": 173,
    "start_time": "2025-05-13T12:21:44.435Z"
   },
   {
    "duration": 182,
    "start_time": "2025-05-13T12:21:54.986Z"
   },
   {
    "duration": 173,
    "start_time": "2025-05-13T12:22:04.743Z"
   },
   {
    "duration": 132,
    "start_time": "2025-05-13T12:24:09.598Z"
   },
   {
    "duration": 1152,
    "start_time": "2025-05-13T12:25:28.531Z"
   },
   {
    "duration": 33,
    "start_time": "2025-05-13T12:25:29.685Z"
   },
   {
    "duration": 15,
    "start_time": "2025-05-13T12:25:29.719Z"
   },
   {
    "duration": 8,
    "start_time": "2025-05-13T12:25:29.735Z"
   },
   {
    "duration": 17,
    "start_time": "2025-05-13T12:25:29.745Z"
   },
   {
    "duration": 14,
    "start_time": "2025-05-13T12:25:29.764Z"
   },
   {
    "duration": 9,
    "start_time": "2025-05-13T12:25:29.780Z"
   },
   {
    "duration": 245,
    "start_time": "2025-05-13T12:25:29.791Z"
   },
   {
    "duration": 157,
    "start_time": "2025-05-13T12:25:30.038Z"
   },
   {
    "duration": 6,
    "start_time": "2025-05-13T12:25:30.196Z"
   },
   {
    "duration": 137,
    "start_time": "2025-05-13T12:25:30.203Z"
   },
   {
    "duration": 177,
    "start_time": "2025-05-13T12:25:30.342Z"
   },
   {
    "duration": 37,
    "start_time": "2025-05-13T12:25:30.520Z"
   },
   {
    "duration": 2223,
    "start_time": "2025-05-13T12:25:30.560Z"
   },
   {
    "duration": 14,
    "start_time": "2025-05-13T12:25:32.784Z"
   },
   {
    "duration": 139,
    "start_time": "2025-05-13T12:25:32.800Z"
   },
   {
    "duration": 19,
    "start_time": "2025-05-13T12:25:32.941Z"
   },
   {
    "duration": 36,
    "start_time": "2025-05-13T12:25:32.961Z"
   },
   {
    "duration": 113,
    "start_time": "2025-05-13T12:25:32.998Z"
   },
   {
    "duration": 223,
    "start_time": "2025-05-13T12:25:33.112Z"
   },
   {
    "duration": 9,
    "start_time": "2025-05-13T12:25:33.337Z"
   },
   {
    "duration": 49,
    "start_time": "2025-05-13T12:25:33.347Z"
   },
   {
    "duration": 28,
    "start_time": "2025-05-13T12:25:33.398Z"
   },
   {
    "duration": 42,
    "start_time": "2025-05-13T12:25:33.428Z"
   },
   {
    "duration": 54,
    "start_time": "2025-05-13T12:25:33.472Z"
   },
   {
    "duration": 17,
    "start_time": "2025-05-13T12:25:33.528Z"
   },
   {
    "duration": 29,
    "start_time": "2025-05-13T12:25:33.561Z"
   },
   {
    "duration": 30,
    "start_time": "2025-05-13T12:25:33.591Z"
   },
   {
    "duration": 124,
    "start_time": "2025-05-13T12:25:33.623Z"
   },
   {
    "duration": 117,
    "start_time": "2025-05-13T12:50:54.742Z"
   },
   {
    "duration": 25,
    "start_time": "2025-05-13T12:51:07.504Z"
   },
   {
    "duration": 12,
    "start_time": "2025-05-13T12:55:48.388Z"
   },
   {
    "duration": 14,
    "start_time": "2025-05-13T12:55:58.664Z"
   },
   {
    "duration": 13,
    "start_time": "2025-05-13T12:56:22.405Z"
   },
   {
    "duration": 1187,
    "start_time": "2025-05-13T12:56:35.061Z"
   },
   {
    "duration": 43,
    "start_time": "2025-05-13T12:56:36.250Z"
   },
   {
    "duration": 14,
    "start_time": "2025-05-13T12:56:36.295Z"
   },
   {
    "duration": 9,
    "start_time": "2025-05-13T12:56:36.311Z"
   },
   {
    "duration": 31,
    "start_time": "2025-05-13T12:56:36.323Z"
   },
   {
    "duration": 51,
    "start_time": "2025-05-13T12:56:36.356Z"
   },
   {
    "duration": 21,
    "start_time": "2025-05-13T12:56:36.409Z"
   },
   {
    "duration": 208,
    "start_time": "2025-05-13T12:56:36.432Z"
   },
   {
    "duration": 157,
    "start_time": "2025-05-13T12:56:36.642Z"
   },
   {
    "duration": 8,
    "start_time": "2025-05-13T12:56:36.801Z"
   },
   {
    "duration": 91,
    "start_time": "2025-05-13T12:56:36.811Z"
   },
   {
    "duration": 75,
    "start_time": "2025-05-13T12:56:36.904Z"
   },
   {
    "duration": 12,
    "start_time": "2025-05-13T12:56:36.981Z"
   },
   {
    "duration": 1565,
    "start_time": "2025-05-13T12:56:36.997Z"
   },
   {
    "duration": 17,
    "start_time": "2025-05-13T12:56:38.564Z"
   },
   {
    "duration": 18,
    "start_time": "2025-05-13T12:56:38.582Z"
   },
   {
    "duration": 18,
    "start_time": "2025-05-13T12:56:38.601Z"
   },
   {
    "duration": 9,
    "start_time": "2025-05-13T12:56:38.621Z"
   },
   {
    "duration": 120,
    "start_time": "2025-05-13T12:56:38.663Z"
   },
   {
    "duration": 234,
    "start_time": "2025-05-13T12:56:38.784Z"
   },
   {
    "duration": 9,
    "start_time": "2025-05-13T12:56:39.019Z"
   },
   {
    "duration": 37,
    "start_time": "2025-05-13T12:56:39.030Z"
   },
   {
    "duration": 18,
    "start_time": "2025-05-13T12:56:39.068Z"
   },
   {
    "duration": 43,
    "start_time": "2025-05-13T12:56:39.088Z"
   },
   {
    "duration": 74,
    "start_time": "2025-05-13T12:56:39.133Z"
   },
   {
    "duration": 17,
    "start_time": "2025-05-13T12:56:39.208Z"
   },
   {
    "duration": 50,
    "start_time": "2025-05-13T12:56:39.226Z"
   },
   {
    "duration": 14,
    "start_time": "2025-05-13T12:56:39.277Z"
   },
   {
    "duration": 149,
    "start_time": "2025-05-13T12:56:39.292Z"
   },
   {
    "duration": 20,
    "start_time": "2025-05-13T12:56:39.443Z"
   },
   {
    "duration": 128,
    "start_time": "2025-05-13T12:56:39.465Z"
   },
   {
    "duration": 1319,
    "start_time": "2025-05-14T07:14:04.612Z"
   },
   {
    "duration": 44,
    "start_time": "2025-05-14T07:14:05.933Z"
   },
   {
    "duration": 113,
    "start_time": "2025-05-14T07:14:05.978Z"
   },
   {
    "duration": 168,
    "start_time": "2025-05-14T07:14:06.093Z"
   },
   {
    "duration": 33,
    "start_time": "2025-05-14T07:14:06.263Z"
   },
   {
    "duration": 79,
    "start_time": "2025-05-14T07:14:06.298Z"
   },
   {
    "duration": 54,
    "start_time": "2025-05-14T07:14:06.379Z"
   },
   {
    "duration": 260,
    "start_time": "2025-05-14T07:14:06.434Z"
   },
   {
    "duration": 158,
    "start_time": "2025-05-14T07:14:06.695Z"
   },
   {
    "duration": 7,
    "start_time": "2025-05-14T07:14:06.855Z"
   },
   {
    "duration": 109,
    "start_time": "2025-05-14T07:14:06.863Z"
   },
   {
    "duration": 12,
    "start_time": "2025-05-14T07:14:06.974Z"
   },
   {
    "duration": 15,
    "start_time": "2025-05-14T07:14:06.988Z"
   },
   {
    "duration": 1610,
    "start_time": "2025-05-14T07:14:07.005Z"
   },
   {
    "duration": 15,
    "start_time": "2025-05-14T07:14:08.617Z"
   },
   {
    "duration": 58,
    "start_time": "2025-05-14T07:14:08.633Z"
   },
   {
    "duration": 17,
    "start_time": "2025-05-14T07:14:08.693Z"
   },
   {
    "duration": 16,
    "start_time": "2025-05-14T07:14:08.711Z"
   },
   {
    "duration": 137,
    "start_time": "2025-05-14T07:14:08.729Z"
   },
   {
    "duration": 242,
    "start_time": "2025-05-14T07:14:08.868Z"
   },
   {
    "duration": 11,
    "start_time": "2025-05-14T07:14:09.112Z"
   },
   {
    "duration": 36,
    "start_time": "2025-05-14T07:14:09.124Z"
   },
   {
    "duration": 27,
    "start_time": "2025-05-14T07:14:09.162Z"
   },
   {
    "duration": 42,
    "start_time": "2025-05-14T07:14:09.192Z"
   },
   {
    "duration": 96,
    "start_time": "2025-05-14T07:14:09.235Z"
   },
   {
    "duration": 17,
    "start_time": "2025-05-14T07:14:09.333Z"
   },
   {
    "duration": 39,
    "start_time": "2025-05-14T07:14:09.351Z"
   },
   {
    "duration": 22,
    "start_time": "2025-05-14T07:14:09.392Z"
   },
   {
    "duration": 153,
    "start_time": "2025-05-14T07:14:09.416Z"
   },
   {
    "duration": 13,
    "start_time": "2025-05-14T07:14:09.570Z"
   },
   {
    "duration": 128,
    "start_time": "2025-05-14T07:14:09.585Z"
   },
   {
    "duration": 13,
    "start_time": "2025-05-14T07:15:22.755Z"
   },
   {
    "duration": 9,
    "start_time": "2025-05-14T07:20:06.317Z"
   },
   {
    "duration": 9,
    "start_time": "2025-05-14T07:20:36.528Z"
   },
   {
    "duration": 1296,
    "start_time": "2025-05-14T07:20:48.300Z"
   },
   {
    "duration": 4,
    "start_time": "2025-05-14T07:20:59.893Z"
   },
   {
    "duration": 4,
    "start_time": "2025-05-14T07:21:20.343Z"
   },
   {
    "duration": 4,
    "start_time": "2025-05-14T07:21:36.746Z"
   },
   {
    "duration": 5,
    "start_time": "2025-05-14T07:21:48.390Z"
   },
   {
    "duration": 8,
    "start_time": "2025-05-14T07:22:07.188Z"
   },
   {
    "duration": 8,
    "start_time": "2025-05-14T07:22:23.508Z"
   },
   {
    "duration": 7,
    "start_time": "2025-05-14T07:22:29.261Z"
   },
   {
    "duration": 7,
    "start_time": "2025-05-14T07:22:35.829Z"
   },
   {
    "duration": 9,
    "start_time": "2025-05-14T07:22:43.718Z"
   },
   {
    "duration": 7,
    "start_time": "2025-05-14T07:22:48.774Z"
   },
   {
    "duration": 7,
    "start_time": "2025-05-14T07:22:55.330Z"
   },
   {
    "duration": 16,
    "start_time": "2025-05-14T07:23:02.291Z"
   },
   {
    "duration": 14,
    "start_time": "2025-05-14T07:23:13.907Z"
   },
   {
    "duration": 8,
    "start_time": "2025-05-14T07:23:18.356Z"
   },
   {
    "duration": 9,
    "start_time": "2025-05-14T07:25:20.635Z"
   },
   {
    "duration": 4,
    "start_time": "2025-05-14T07:27:18.485Z"
   },
   {
    "duration": 8,
    "start_time": "2025-05-14T07:28:01.650Z"
   },
   {
    "duration": 7,
    "start_time": "2025-05-14T07:28:06.985Z"
   },
   {
    "duration": 8,
    "start_time": "2025-05-14T07:36:07.683Z"
   },
   {
    "duration": 11,
    "start_time": "2025-05-14T07:37:44.518Z"
   },
   {
    "duration": 26,
    "start_time": "2025-05-14T07:39:24.292Z"
   },
   {
    "duration": 1130,
    "start_time": "2025-05-14T07:47:34.404Z"
   },
   {
    "duration": 5,
    "start_time": "2025-05-14T07:48:07.671Z"
   },
   {
    "duration": 4,
    "start_time": "2025-05-14T07:48:17.305Z"
   },
   {
    "duration": 10,
    "start_time": "2025-05-14T07:48:31.807Z"
   },
   {
    "duration": 5,
    "start_time": "2025-05-14T07:48:38.712Z"
   },
   {
    "duration": 13,
    "start_time": "2025-05-14T08:12:28.191Z"
   },
   {
    "duration": 5,
    "start_time": "2025-05-14T08:13:00.386Z"
   },
   {
    "duration": 6,
    "start_time": "2025-05-14T08:13:10.559Z"
   },
   {
    "duration": 6,
    "start_time": "2025-05-14T08:13:25.206Z"
   },
   {
    "duration": 6,
    "start_time": "2025-05-14T08:23:56.944Z"
   },
   {
    "duration": 5,
    "start_time": "2025-05-14T08:26:05.119Z"
   },
   {
    "duration": 10,
    "start_time": "2025-05-14T08:27:22.872Z"
   },
   {
    "duration": 67,
    "start_time": "2025-05-14T08:27:48.247Z"
   },
   {
    "duration": 10,
    "start_time": "2025-05-14T08:28:04.143Z"
   },
   {
    "duration": 5,
    "start_time": "2025-05-14T08:28:06.423Z"
   },
   {
    "duration": 8,
    "start_time": "2025-05-14T08:28:44.989Z"
   },
   {
    "duration": 6,
    "start_time": "2025-05-14T08:48:40.748Z"
   },
   {
    "duration": 6,
    "start_time": "2025-05-14T08:48:55.061Z"
   },
   {
    "duration": 6,
    "start_time": "2025-05-14T08:53:08.124Z"
   },
   {
    "duration": 1274,
    "start_time": "2025-05-14T08:56:15.947Z"
   },
   {
    "duration": 35,
    "start_time": "2025-05-14T08:56:17.223Z"
   },
   {
    "duration": 21,
    "start_time": "2025-05-14T08:56:17.260Z"
   },
   {
    "duration": 9,
    "start_time": "2025-05-14T08:56:17.284Z"
   },
   {
    "duration": 7,
    "start_time": "2025-05-14T08:56:17.294Z"
   },
   {
    "duration": 12,
    "start_time": "2025-05-14T08:56:17.303Z"
   },
   {
    "duration": 9,
    "start_time": "2025-05-14T08:56:17.317Z"
   },
   {
    "duration": 252,
    "start_time": "2025-05-14T08:56:17.328Z"
   },
   {
    "duration": 165,
    "start_time": "2025-05-14T08:56:17.582Z"
   },
   {
    "duration": 7,
    "start_time": "2025-05-14T08:56:17.751Z"
   },
   {
    "duration": 29,
    "start_time": "2025-05-14T08:56:17.760Z"
   },
   {
    "duration": 13,
    "start_time": "2025-05-14T08:56:17.791Z"
   },
   {
    "duration": 19,
    "start_time": "2025-05-14T08:56:17.806Z"
   },
   {
    "duration": 1531,
    "start_time": "2025-05-14T08:56:17.827Z"
   },
   {
    "duration": 27,
    "start_time": "2025-05-14T08:56:19.360Z"
   },
   {
    "duration": 19,
    "start_time": "2025-05-14T08:56:19.390Z"
   },
   {
    "duration": 17,
    "start_time": "2025-05-14T08:56:19.411Z"
   },
   {
    "duration": 9,
    "start_time": "2025-05-14T08:56:19.430Z"
   },
   {
    "duration": 154,
    "start_time": "2025-05-14T08:56:19.440Z"
   },
   {
    "duration": 253,
    "start_time": "2025-05-14T08:56:19.596Z"
   },
   {
    "duration": 10,
    "start_time": "2025-05-14T08:56:19.851Z"
   },
   {
    "duration": 121,
    "start_time": "2025-05-14T08:56:19.863Z"
   },
   {
    "duration": 20,
    "start_time": "2025-05-14T08:56:19.985Z"
   },
   {
    "duration": 44,
    "start_time": "2025-05-14T08:56:20.007Z"
   },
   {
    "duration": 77,
    "start_time": "2025-05-14T08:56:20.053Z"
   },
   {
    "duration": 18,
    "start_time": "2025-05-14T08:56:20.131Z"
   },
   {
    "duration": 49,
    "start_time": "2025-05-14T08:56:20.151Z"
   },
   {
    "duration": 15,
    "start_time": "2025-05-14T08:56:20.203Z"
   },
   {
    "duration": 160,
    "start_time": "2025-05-14T08:56:20.219Z"
   },
   {
    "duration": 10,
    "start_time": "2025-05-14T08:56:20.381Z"
   },
   {
    "duration": 19,
    "start_time": "2025-05-14T08:56:20.393Z"
   },
   {
    "duration": 1387,
    "start_time": "2025-05-14T10:39:34.189Z"
   },
   {
    "duration": 76,
    "start_time": "2025-05-14T10:39:35.579Z"
   },
   {
    "duration": 75,
    "start_time": "2025-05-14T10:39:35.657Z"
   },
   {
    "duration": 58,
    "start_time": "2025-05-14T10:39:35.734Z"
   },
   {
    "duration": 69,
    "start_time": "2025-05-14T10:39:35.836Z"
   },
   {
    "duration": 22,
    "start_time": "2025-05-14T10:39:35.907Z"
   },
   {
    "duration": 321,
    "start_time": "2025-05-14T10:39:35.931Z"
   },
   {
    "duration": 170,
    "start_time": "2025-05-14T10:39:36.254Z"
   },
   {
    "duration": 9,
    "start_time": "2025-05-14T10:39:36.427Z"
   },
   {
    "duration": 41,
    "start_time": "2025-05-14T10:39:36.438Z"
   },
   {
    "duration": 29,
    "start_time": "2025-05-14T10:39:36.481Z"
   },
   {
    "duration": 16,
    "start_time": "2025-05-14T10:39:36.514Z"
   },
   {
    "duration": 2180,
    "start_time": "2025-05-14T10:39:36.535Z"
   },
   {
    "duration": 27,
    "start_time": "2025-05-14T10:39:38.718Z"
   },
   {
    "duration": 26,
    "start_time": "2025-05-14T10:39:38.747Z"
   },
   {
    "duration": 39,
    "start_time": "2025-05-14T10:39:38.775Z"
   },
   {
    "duration": 11,
    "start_time": "2025-05-14T10:39:38.816Z"
   },
   {
    "duration": 263,
    "start_time": "2025-05-14T10:39:38.829Z"
   },
   {
    "duration": 281,
    "start_time": "2025-05-14T10:39:39.093Z"
   },
   {
    "duration": 11,
    "start_time": "2025-05-14T10:39:39.375Z"
   },
   {
    "duration": 59,
    "start_time": "2025-05-14T10:39:39.388Z"
   },
   {
    "duration": 20,
    "start_time": "2025-05-14T10:39:39.449Z"
   },
   {
    "duration": 89,
    "start_time": "2025-05-14T10:39:39.471Z"
   },
   {
    "duration": 75,
    "start_time": "2025-05-14T10:39:39.561Z"
   },
   {
    "duration": 152,
    "start_time": "2025-05-14T10:39:39.638Z"
   },
   {
    "duration": 46,
    "start_time": "2025-05-14T10:39:39.792Z"
   },
   {
    "duration": 15,
    "start_time": "2025-05-14T10:39:39.841Z"
   },
   {
    "duration": 197,
    "start_time": "2025-05-14T10:39:39.857Z"
   },
   {
    "duration": 10,
    "start_time": "2025-05-14T10:39:40.056Z"
   },
   {
    "duration": 69,
    "start_time": "2025-05-14T10:39:40.068Z"
   },
   {
    "duration": 1323,
    "start_time": "2025-05-15T07:54:25.563Z"
   },
   {
    "duration": 70,
    "start_time": "2025-05-15T07:54:26.888Z"
   },
   {
    "duration": 15,
    "start_time": "2025-05-15T07:54:26.959Z"
   },
   {
    "duration": 7,
    "start_time": "2025-05-15T07:54:26.975Z"
   },
   {
    "duration": 4,
    "start_time": "2025-05-15T07:54:26.984Z"
   },
   {
    "duration": 9,
    "start_time": "2025-05-15T07:54:26.990Z"
   },
   {
    "duration": 7,
    "start_time": "2025-05-15T07:54:27.001Z"
   },
   {
    "duration": 229,
    "start_time": "2025-05-15T07:54:27.010Z"
   },
   {
    "duration": 159,
    "start_time": "2025-05-15T07:54:27.240Z"
   },
   {
    "duration": 7,
    "start_time": "2025-05-15T07:54:27.401Z"
   },
   {
    "duration": 12,
    "start_time": "2025-05-15T07:54:27.409Z"
   },
   {
    "duration": 8,
    "start_time": "2025-05-15T07:54:27.423Z"
   },
   {
    "duration": 33,
    "start_time": "2025-05-15T07:54:27.432Z"
   },
   {
    "duration": 1596,
    "start_time": "2025-05-15T07:54:27.468Z"
   },
   {
    "duration": 16,
    "start_time": "2025-05-15T07:54:29.065Z"
   },
   {
    "duration": 16,
    "start_time": "2025-05-15T07:54:29.083Z"
   },
   {
    "duration": 18,
    "start_time": "2025-05-15T07:54:29.100Z"
   },
   {
    "duration": 9,
    "start_time": "2025-05-15T07:54:29.119Z"
   },
   {
    "duration": 118,
    "start_time": "2025-05-15T07:54:29.159Z"
   },
   {
    "duration": 219,
    "start_time": "2025-05-15T07:54:29.279Z"
   },
   {
    "duration": 9,
    "start_time": "2025-05-15T07:54:29.500Z"
   },
   {
    "duration": 47,
    "start_time": "2025-05-15T07:54:29.510Z"
   },
   {
    "duration": 18,
    "start_time": "2025-05-15T07:54:29.559Z"
   },
   {
    "duration": 57,
    "start_time": "2025-05-15T07:54:29.579Z"
   },
   {
    "duration": 58,
    "start_time": "2025-05-15T07:54:29.638Z"
   },
   {
    "duration": 17,
    "start_time": "2025-05-15T07:54:29.698Z"
   },
   {
    "duration": 45,
    "start_time": "2025-05-15T07:54:29.717Z"
   },
   {
    "duration": 14,
    "start_time": "2025-05-15T07:54:29.764Z"
   },
   {
    "duration": 163,
    "start_time": "2025-05-15T07:54:29.779Z"
   },
   {
    "duration": 10,
    "start_time": "2025-05-15T07:54:29.943Z"
   },
   {
    "duration": 10,
    "start_time": "2025-05-15T07:54:29.958Z"
   },
   {
    "duration": 10,
    "start_time": "2025-05-15T08:27:29.047Z"
   },
   {
    "duration": 1290,
    "start_time": "2025-05-15T08:46:40.895Z"
   },
   {
    "duration": 1372,
    "start_time": "2025-05-15T08:46:57.854Z"
   },
   {
    "duration": 1221,
    "start_time": "2025-05-15T08:55:24.138Z"
   },
   {
    "duration": 1249,
    "start_time": "2025-05-15T08:55:30.928Z"
   },
   {
    "duration": 33,
    "start_time": "2025-05-15T08:55:32.179Z"
   },
   {
    "duration": 13,
    "start_time": "2025-05-15T08:55:32.214Z"
   },
   {
    "duration": 7,
    "start_time": "2025-05-15T08:55:32.229Z"
   },
   {
    "duration": 20,
    "start_time": "2025-05-15T08:55:32.238Z"
   },
   {
    "duration": 16,
    "start_time": "2025-05-15T08:55:32.259Z"
   },
   {
    "duration": 10,
    "start_time": "2025-05-15T08:55:32.276Z"
   },
   {
    "duration": 228,
    "start_time": "2025-05-15T08:55:32.288Z"
   },
   {
    "duration": 163,
    "start_time": "2025-05-15T08:55:32.518Z"
   },
   {
    "duration": 7,
    "start_time": "2025-05-15T08:55:32.682Z"
   },
   {
    "duration": 59,
    "start_time": "2025-05-15T08:55:32.690Z"
   },
   {
    "duration": 18,
    "start_time": "2025-05-15T08:55:32.751Z"
   },
   {
    "duration": 9,
    "start_time": "2025-05-15T08:55:32.770Z"
   },
   {
    "duration": 1477,
    "start_time": "2025-05-15T08:55:32.781Z"
   },
   {
    "duration": 17,
    "start_time": "2025-05-15T08:55:34.260Z"
   },
   {
    "duration": 19,
    "start_time": "2025-05-15T08:55:34.279Z"
   },
   {
    "duration": 18,
    "start_time": "2025-05-15T08:55:34.300Z"
   },
   {
    "duration": 39,
    "start_time": "2025-05-15T08:55:34.320Z"
   },
   {
    "duration": 124,
    "start_time": "2025-05-15T08:55:34.361Z"
   },
   {
    "duration": 234,
    "start_time": "2025-05-15T08:55:34.487Z"
   },
   {
    "duration": 11,
    "start_time": "2025-05-15T08:55:34.723Z"
   },
   {
    "duration": 57,
    "start_time": "2025-05-15T08:55:34.736Z"
   },
   {
    "duration": 70,
    "start_time": "2025-05-15T08:55:34.795Z"
   },
   {
    "duration": 116,
    "start_time": "2025-05-15T08:55:34.867Z"
   },
   {
    "duration": 80,
    "start_time": "2025-05-15T08:55:34.985Z"
   },
   {
    "duration": 18,
    "start_time": "2025-05-15T08:55:35.067Z"
   },
   {
    "duration": 127,
    "start_time": "2025-05-15T08:55:35.087Z"
   },
   {
    "duration": 15,
    "start_time": "2025-05-15T08:55:35.216Z"
   },
   {
    "duration": 135,
    "start_time": "2025-05-15T08:55:35.232Z"
   },
   {
    "duration": 10,
    "start_time": "2025-05-15T08:55:35.369Z"
   },
   {
    "duration": 1290,
    "start_time": "2025-05-15T08:55:35.381Z"
   },
   {
    "duration": 0,
    "start_time": "2025-05-15T08:55:36.673Z"
   },
   {
    "duration": 0,
    "start_time": "2025-05-15T08:55:36.675Z"
   },
   {
    "duration": 1119,
    "start_time": "2025-05-15T08:56:28.336Z"
   },
   {
    "duration": 6,
    "start_time": "2025-05-15T08:56:45.090Z"
   },
   {
    "duration": 11,
    "start_time": "2025-05-15T08:56:59.120Z"
   },
   {
    "duration": 9,
    "start_time": "2025-05-15T08:57:09.600Z"
   },
   {
    "duration": 6,
    "start_time": "2025-05-15T08:57:18.715Z"
   },
   {
    "duration": 11,
    "start_time": "2025-05-15T08:57:29.421Z"
   },
   {
    "duration": 13,
    "start_time": "2025-05-15T08:57:38.459Z"
   },
   {
    "duration": 11,
    "start_time": "2025-05-15T08:57:45.470Z"
   },
   {
    "duration": 15,
    "start_time": "2025-05-15T08:59:26.396Z"
   },
   {
    "duration": 5,
    "start_time": "2025-05-15T08:59:49.222Z"
   },
   {
    "duration": 5,
    "start_time": "2025-05-15T09:03:03.205Z"
   },
   {
    "duration": 4,
    "start_time": "2025-05-15T09:03:41.906Z"
   },
   {
    "duration": 4,
    "start_time": "2025-05-15T09:04:54.543Z"
   },
   {
    "duration": 5,
    "start_time": "2025-05-15T09:04:58.960Z"
   },
   {
    "duration": 1143,
    "start_time": "2025-05-15T09:05:08.615Z"
   },
   {
    "duration": 32,
    "start_time": "2025-05-15T09:05:09.760Z"
   },
   {
    "duration": 14,
    "start_time": "2025-05-15T09:05:09.794Z"
   },
   {
    "duration": 8,
    "start_time": "2025-05-15T09:05:09.810Z"
   },
   {
    "duration": 9,
    "start_time": "2025-05-15T09:05:09.820Z"
   },
   {
    "duration": 10,
    "start_time": "2025-05-15T09:05:09.831Z"
   },
   {
    "duration": 21,
    "start_time": "2025-05-15T09:05:09.843Z"
   },
   {
    "duration": 219,
    "start_time": "2025-05-15T09:05:09.866Z"
   },
   {
    "duration": 146,
    "start_time": "2025-05-15T09:05:10.086Z"
   },
   {
    "duration": 7,
    "start_time": "2025-05-15T09:05:10.233Z"
   },
   {
    "duration": 21,
    "start_time": "2025-05-15T09:05:10.241Z"
   },
   {
    "duration": 8,
    "start_time": "2025-05-15T09:05:10.264Z"
   },
   {
    "duration": 9,
    "start_time": "2025-05-15T09:05:10.273Z"
   },
   {
    "duration": 1468,
    "start_time": "2025-05-15T09:05:10.285Z"
   },
   {
    "duration": 16,
    "start_time": "2025-05-15T09:05:11.758Z"
   },
   {
    "duration": 17,
    "start_time": "2025-05-15T09:05:11.776Z"
   },
   {
    "duration": 17,
    "start_time": "2025-05-15T09:05:11.794Z"
   },
   {
    "duration": 11,
    "start_time": "2025-05-15T09:05:11.813Z"
   },
   {
    "duration": 141,
    "start_time": "2025-05-15T09:05:11.826Z"
   },
   {
    "duration": 226,
    "start_time": "2025-05-15T09:05:11.968Z"
   },
   {
    "duration": 9,
    "start_time": "2025-05-15T09:05:12.195Z"
   },
   {
    "duration": 27,
    "start_time": "2025-05-15T09:05:12.205Z"
   },
   {
    "duration": 35,
    "start_time": "2025-05-15T09:05:12.234Z"
   },
   {
    "duration": 43,
    "start_time": "2025-05-15T09:05:12.270Z"
   },
   {
    "duration": 71,
    "start_time": "2025-05-15T09:05:12.314Z"
   },
   {
    "duration": 17,
    "start_time": "2025-05-15T09:05:12.386Z"
   },
   {
    "duration": 28,
    "start_time": "2025-05-15T09:05:12.404Z"
   },
   {
    "duration": 33,
    "start_time": "2025-05-15T09:05:12.434Z"
   },
   {
    "duration": 141,
    "start_time": "2025-05-15T09:05:12.469Z"
   },
   {
    "duration": 10,
    "start_time": "2025-05-15T09:05:12.612Z"
   },
   {
    "duration": 9,
    "start_time": "2025-05-15T09:05:12.623Z"
   },
   {
    "duration": 26,
    "start_time": "2025-05-15T09:05:12.633Z"
   },
   {
    "duration": 10,
    "start_time": "2025-05-15T09:05:12.661Z"
   },
   {
    "duration": 4,
    "start_time": "2025-05-15T09:31:36.994Z"
   },
   {
    "duration": 4,
    "start_time": "2025-05-15T09:31:46.908Z"
   },
   {
    "duration": 8,
    "start_time": "2025-05-15T09:35:17.488Z"
   },
   {
    "duration": 1403,
    "start_time": "2025-05-15T09:35:26.563Z"
   },
   {
    "duration": 33,
    "start_time": "2025-05-15T09:35:27.967Z"
   },
   {
    "duration": 14,
    "start_time": "2025-05-15T09:35:28.001Z"
   },
   {
    "duration": 16,
    "start_time": "2025-05-15T09:35:28.017Z"
   },
   {
    "duration": 12,
    "start_time": "2025-05-15T09:35:28.035Z"
   },
   {
    "duration": 17,
    "start_time": "2025-05-15T09:35:28.048Z"
   },
   {
    "duration": 7,
    "start_time": "2025-05-15T09:35:28.067Z"
   },
   {
    "duration": 212,
    "start_time": "2025-05-15T09:35:28.076Z"
   },
   {
    "duration": 154,
    "start_time": "2025-05-15T09:35:28.289Z"
   },
   {
    "duration": 14,
    "start_time": "2025-05-15T09:35:28.445Z"
   },
   {
    "duration": 10,
    "start_time": "2025-05-15T09:35:28.460Z"
   },
   {
    "duration": 10,
    "start_time": "2025-05-15T09:35:28.472Z"
   },
   {
    "duration": 8,
    "start_time": "2025-05-15T09:35:28.483Z"
   },
   {
    "duration": 1590,
    "start_time": "2025-05-15T09:35:28.494Z"
   },
   {
    "duration": 16,
    "start_time": "2025-05-15T09:35:30.086Z"
   },
   {
    "duration": 16,
    "start_time": "2025-05-15T09:35:30.104Z"
   },
   {
    "duration": 90,
    "start_time": "2025-05-15T09:35:30.121Z"
   },
   {
    "duration": 83,
    "start_time": "2025-05-15T09:35:30.212Z"
   },
   {
    "duration": 132,
    "start_time": "2025-05-15T09:35:30.297Z"
   },
   {
    "duration": 235,
    "start_time": "2025-05-15T09:35:30.431Z"
   },
   {
    "duration": 9,
    "start_time": "2025-05-15T09:35:30.667Z"
   },
   {
    "duration": 26,
    "start_time": "2025-05-15T09:35:30.678Z"
   },
   {
    "duration": 17,
    "start_time": "2025-05-15T09:35:30.706Z"
   },
   {
    "duration": 67,
    "start_time": "2025-05-15T09:35:30.725Z"
   },
   {
    "duration": 52,
    "start_time": "2025-05-15T09:35:30.794Z"
   },
   {
    "duration": 27,
    "start_time": "2025-05-15T09:35:30.848Z"
   },
   {
    "duration": 182,
    "start_time": "2025-05-15T09:35:30.877Z"
   },
   {
    "duration": 14,
    "start_time": "2025-05-15T09:35:31.060Z"
   },
   {
    "duration": 221,
    "start_time": "2025-05-15T09:35:31.075Z"
   },
   {
    "duration": 10,
    "start_time": "2025-05-15T09:35:31.298Z"
   },
   {
    "duration": 27,
    "start_time": "2025-05-15T09:35:31.310Z"
   },
   {
    "duration": 13,
    "start_time": "2025-05-15T09:35:31.339Z"
   },
   {
    "duration": 29,
    "start_time": "2025-05-15T09:35:31.354Z"
   },
   {
    "duration": 6,
    "start_time": "2025-05-15T09:37:29.104Z"
   },
   {
    "duration": 7,
    "start_time": "2025-05-15T09:38:21.174Z"
   },
   {
    "duration": 1219,
    "start_time": "2025-05-15T09:43:27.647Z"
   },
   {
    "duration": 70,
    "start_time": "2025-05-15T09:43:28.868Z"
   },
   {
    "duration": 15,
    "start_time": "2025-05-15T09:43:28.940Z"
   },
   {
    "duration": 8,
    "start_time": "2025-05-15T09:43:28.957Z"
   },
   {
    "duration": 4,
    "start_time": "2025-05-15T09:43:28.967Z"
   },
   {
    "duration": 12,
    "start_time": "2025-05-15T09:43:28.972Z"
   },
   {
    "duration": 7,
    "start_time": "2025-05-15T09:43:28.986Z"
   },
   {
    "duration": 226,
    "start_time": "2025-05-15T09:43:28.995Z"
   },
   {
    "duration": 155,
    "start_time": "2025-05-15T09:43:29.222Z"
   },
   {
    "duration": 6,
    "start_time": "2025-05-15T09:43:29.379Z"
   },
   {
    "duration": 24,
    "start_time": "2025-05-15T09:43:29.386Z"
   },
   {
    "duration": 7,
    "start_time": "2025-05-15T09:43:29.412Z"
   },
   {
    "duration": 10,
    "start_time": "2025-05-15T09:43:29.421Z"
   },
   {
    "duration": 1824,
    "start_time": "2025-05-15T09:43:29.434Z"
   },
   {
    "duration": 16,
    "start_time": "2025-05-15T09:43:31.259Z"
   },
   {
    "duration": 76,
    "start_time": "2025-05-15T09:43:31.277Z"
   },
   {
    "duration": 18,
    "start_time": "2025-05-15T09:43:31.354Z"
   },
   {
    "duration": 9,
    "start_time": "2025-05-15T09:43:31.374Z"
   },
   {
    "duration": 137,
    "start_time": "2025-05-15T09:43:31.385Z"
   },
   {
    "duration": 269,
    "start_time": "2025-05-15T09:43:31.524Z"
   },
   {
    "duration": 10,
    "start_time": "2025-05-15T09:43:31.795Z"
   },
   {
    "duration": 34,
    "start_time": "2025-05-15T09:43:31.806Z"
   },
   {
    "duration": 28,
    "start_time": "2025-05-15T09:43:31.842Z"
   },
   {
    "duration": 45,
    "start_time": "2025-05-15T09:43:31.872Z"
   },
   {
    "duration": 75,
    "start_time": "2025-05-15T09:43:31.918Z"
   },
   {
    "duration": 16,
    "start_time": "2025-05-15T09:43:31.995Z"
   },
   {
    "duration": 46,
    "start_time": "2025-05-15T09:43:32.012Z"
   },
   {
    "duration": 14,
    "start_time": "2025-05-15T09:43:32.060Z"
   },
   {
    "duration": 149,
    "start_time": "2025-05-15T09:43:32.075Z"
   },
   {
    "duration": 10,
    "start_time": "2025-05-15T09:43:32.226Z"
   },
   {
    "duration": 47,
    "start_time": "2025-05-15T09:43:32.238Z"
   },
   {
    "duration": 57,
    "start_time": "2025-05-15T09:43:32.286Z"
   },
   {
    "duration": 17,
    "start_time": "2025-05-15T09:43:32.344Z"
   },
   {
    "duration": 40,
    "start_time": "2025-05-15T09:43:32.362Z"
   },
   {
    "duration": 1248,
    "start_time": "2025-05-15T09:45:10.826Z"
   },
   {
    "duration": 32,
    "start_time": "2025-05-15T09:45:12.076Z"
   },
   {
    "duration": 13,
    "start_time": "2025-05-15T09:45:12.110Z"
   },
   {
    "duration": 8,
    "start_time": "2025-05-15T09:45:12.124Z"
   },
   {
    "duration": 10,
    "start_time": "2025-05-15T09:45:12.134Z"
   },
   {
    "duration": 19,
    "start_time": "2025-05-15T09:45:12.145Z"
   },
   {
    "duration": 7,
    "start_time": "2025-05-15T09:45:12.166Z"
   },
   {
    "duration": 241,
    "start_time": "2025-05-15T09:45:12.175Z"
   },
   {
    "duration": 149,
    "start_time": "2025-05-15T09:45:12.418Z"
   },
   {
    "duration": 6,
    "start_time": "2025-05-15T09:45:12.569Z"
   },
   {
    "duration": 12,
    "start_time": "2025-05-15T09:45:12.576Z"
   },
   {
    "duration": 8,
    "start_time": "2025-05-15T09:45:12.590Z"
   },
   {
    "duration": 8,
    "start_time": "2025-05-15T09:45:12.599Z"
   },
   {
    "duration": 1563,
    "start_time": "2025-05-15T09:45:12.609Z"
   },
   {
    "duration": 16,
    "start_time": "2025-05-15T09:45:14.173Z"
   },
   {
    "duration": 20,
    "start_time": "2025-05-15T09:45:14.191Z"
   },
   {
    "duration": 55,
    "start_time": "2025-05-15T09:45:14.213Z"
   },
   {
    "duration": 8,
    "start_time": "2025-05-15T09:45:14.270Z"
   },
   {
    "duration": 163,
    "start_time": "2025-05-15T09:45:14.279Z"
   },
   {
    "duration": 233,
    "start_time": "2025-05-15T09:45:14.443Z"
   },
   {
    "duration": 8,
    "start_time": "2025-05-15T09:45:14.678Z"
   },
   {
    "duration": 24,
    "start_time": "2025-05-15T09:45:14.688Z"
   },
   {
    "duration": 26,
    "start_time": "2025-05-15T09:45:14.713Z"
   },
   {
    "duration": 57,
    "start_time": "2025-05-15T09:45:14.741Z"
   },
   {
    "duration": 64,
    "start_time": "2025-05-15T09:45:14.799Z"
   },
   {
    "duration": 17,
    "start_time": "2025-05-15T09:45:14.865Z"
   },
   {
    "duration": 29,
    "start_time": "2025-05-15T09:45:14.884Z"
   },
   {
    "duration": 13,
    "start_time": "2025-05-15T09:45:14.915Z"
   },
   {
    "duration": 168,
    "start_time": "2025-05-15T09:45:14.930Z"
   },
   {
    "duration": 10,
    "start_time": "2025-05-15T09:45:15.099Z"
   },
   {
    "duration": 79,
    "start_time": "2025-05-15T09:45:15.110Z"
   },
   {
    "duration": 22,
    "start_time": "2025-05-15T09:45:15.192Z"
   },
   {
    "duration": 18,
    "start_time": "2025-05-15T09:45:15.216Z"
   },
   {
    "duration": 164,
    "start_time": "2025-05-15T09:45:15.236Z"
   },
   {
    "duration": 1225,
    "start_time": "2025-05-15T09:54:50.591Z"
   },
   {
    "duration": 35,
    "start_time": "2025-05-15T09:54:51.818Z"
   },
   {
    "duration": 20,
    "start_time": "2025-05-15T09:54:51.855Z"
   },
   {
    "duration": 9,
    "start_time": "2025-05-15T09:54:51.877Z"
   },
   {
    "duration": 5,
    "start_time": "2025-05-15T09:54:51.888Z"
   },
   {
    "duration": 11,
    "start_time": "2025-05-15T09:54:51.895Z"
   },
   {
    "duration": 9,
    "start_time": "2025-05-15T09:54:51.908Z"
   },
   {
    "duration": 269,
    "start_time": "2025-05-15T09:54:51.919Z"
   },
   {
    "duration": 173,
    "start_time": "2025-05-15T09:54:52.190Z"
   },
   {
    "duration": 7,
    "start_time": "2025-05-15T09:54:52.365Z"
   },
   {
    "duration": 11,
    "start_time": "2025-05-15T09:54:52.374Z"
   },
   {
    "duration": 9,
    "start_time": "2025-05-15T09:54:52.387Z"
   },
   {
    "duration": 20,
    "start_time": "2025-05-15T09:54:52.398Z"
   },
   {
    "duration": 1624,
    "start_time": "2025-05-15T09:54:52.421Z"
   },
   {
    "duration": 27,
    "start_time": "2025-05-15T09:54:54.047Z"
   },
   {
    "duration": 21,
    "start_time": "2025-05-15T09:54:54.075Z"
   },
   {
    "duration": 20,
    "start_time": "2025-05-15T09:54:54.097Z"
   },
   {
    "duration": 22,
    "start_time": "2025-05-15T09:54:54.119Z"
   },
   {
    "duration": 150,
    "start_time": "2025-05-15T09:54:54.143Z"
   },
   {
    "duration": 262,
    "start_time": "2025-05-15T09:54:54.295Z"
   },
   {
    "duration": 11,
    "start_time": "2025-05-15T09:54:54.560Z"
   },
   {
    "duration": 33,
    "start_time": "2025-05-15T09:54:54.573Z"
   },
   {
    "duration": 23,
    "start_time": "2025-05-15T09:54:54.608Z"
   },
   {
    "duration": 73,
    "start_time": "2025-05-15T09:54:54.632Z"
   },
   {
    "duration": 75,
    "start_time": "2025-05-15T09:54:54.707Z"
   },
   {
    "duration": 19,
    "start_time": "2025-05-15T09:54:54.784Z"
   },
   {
    "duration": 33,
    "start_time": "2025-05-15T09:54:54.804Z"
   },
   {
    "duration": 32,
    "start_time": "2025-05-15T09:54:54.839Z"
   },
   {
    "duration": 184,
    "start_time": "2025-05-15T09:54:54.873Z"
   },
   {
    "duration": 10,
    "start_time": "2025-05-15T09:54:55.060Z"
   },
   {
    "duration": 6,
    "start_time": "2025-05-15T09:54:55.072Z"
   },
   {
    "duration": 19,
    "start_time": "2025-05-15T09:54:55.080Z"
   },
   {
    "duration": 8,
    "start_time": "2025-05-15T09:54:55.101Z"
   },
   {
    "duration": 12,
    "start_time": "2025-05-15T09:54:55.111Z"
   },
   {
    "duration": 1477,
    "start_time": "2025-05-16T08:13:58.960Z"
   },
   {
    "duration": 37,
    "start_time": "2025-05-16T08:14:00.440Z"
   },
   {
    "duration": 19,
    "start_time": "2025-05-16T08:14:00.479Z"
   },
   {
    "duration": 11,
    "start_time": "2025-05-16T08:14:00.500Z"
   },
   {
    "duration": 6,
    "start_time": "2025-05-16T08:14:00.514Z"
   },
   {
    "duration": 47,
    "start_time": "2025-05-16T08:14:00.522Z"
   },
   {
    "duration": 9,
    "start_time": "2025-05-16T08:14:00.571Z"
   },
   {
    "duration": 242,
    "start_time": "2025-05-16T08:14:00.582Z"
   },
   {
    "duration": 169,
    "start_time": "2025-05-16T08:14:00.825Z"
   },
   {
    "duration": 8,
    "start_time": "2025-05-16T08:14:00.995Z"
   },
   {
    "duration": 10,
    "start_time": "2025-05-16T08:14:01.005Z"
   },
   {
    "duration": 10,
    "start_time": "2025-05-16T08:14:01.017Z"
   },
   {
    "duration": 37,
    "start_time": "2025-05-16T08:14:01.029Z"
   },
   {
    "duration": 1676,
    "start_time": "2025-05-16T08:14:01.069Z"
   },
   {
    "duration": 21,
    "start_time": "2025-05-16T08:14:02.747Z"
   },
   {
    "duration": 19,
    "start_time": "2025-05-16T08:14:02.770Z"
   },
   {
    "duration": 21,
    "start_time": "2025-05-16T08:14:02.791Z"
   },
   {
    "duration": 9,
    "start_time": "2025-05-16T08:14:02.813Z"
   },
   {
    "duration": 175,
    "start_time": "2025-05-16T08:14:02.824Z"
   },
   {
    "duration": 251,
    "start_time": "2025-05-16T08:14:03.001Z"
   },
   {
    "duration": 15,
    "start_time": "2025-05-16T08:14:03.254Z"
   },
   {
    "duration": 27,
    "start_time": "2025-05-16T08:14:03.270Z"
   },
   {
    "duration": 21,
    "start_time": "2025-05-16T08:14:03.298Z"
   },
   {
    "duration": 77,
    "start_time": "2025-05-16T08:14:03.320Z"
   },
   {
    "duration": 69,
    "start_time": "2025-05-16T08:14:03.398Z"
   },
   {
    "duration": 19,
    "start_time": "2025-05-16T08:14:03.468Z"
   },
   {
    "duration": 31,
    "start_time": "2025-05-16T08:14:03.488Z"
   },
   {
    "duration": 39,
    "start_time": "2025-05-16T08:14:03.521Z"
   },
   {
    "duration": 156,
    "start_time": "2025-05-16T08:14:03.562Z"
   },
   {
    "duration": 11,
    "start_time": "2025-05-16T08:14:03.720Z"
   },
   {
    "duration": 7,
    "start_time": "2025-05-16T08:14:03.733Z"
   },
   {
    "duration": 10,
    "start_time": "2025-05-16T08:14:03.761Z"
   },
   {
    "duration": 12,
    "start_time": "2025-05-16T08:14:03.773Z"
   },
   {
    "duration": 13,
    "start_time": "2025-05-16T08:14:03.787Z"
   },
   {
    "duration": 6,
    "start_time": "2025-05-16T08:14:58.409Z"
   },
   {
    "duration": 5,
    "start_time": "2025-05-16T08:15:32.149Z"
   },
   {
    "duration": 1273,
    "start_time": "2025-05-16T08:15:38.687Z"
   },
   {
    "duration": 36,
    "start_time": "2025-05-16T08:15:39.963Z"
   },
   {
    "duration": 16,
    "start_time": "2025-05-16T08:15:40.001Z"
   },
   {
    "duration": 10,
    "start_time": "2025-05-16T08:15:40.019Z"
   },
   {
    "duration": 30,
    "start_time": "2025-05-16T08:15:40.031Z"
   },
   {
    "duration": 12,
    "start_time": "2025-05-16T08:15:40.063Z"
   },
   {
    "duration": 15,
    "start_time": "2025-05-16T08:15:40.077Z"
   },
   {
    "duration": 244,
    "start_time": "2025-05-16T08:15:40.094Z"
   },
   {
    "duration": 168,
    "start_time": "2025-05-16T08:15:40.339Z"
   },
   {
    "duration": 8,
    "start_time": "2025-05-16T08:15:40.508Z"
   },
   {
    "duration": 12,
    "start_time": "2025-05-16T08:15:40.517Z"
   },
   {
    "duration": 30,
    "start_time": "2025-05-16T08:15:40.531Z"
   },
   {
    "duration": 11,
    "start_time": "2025-05-16T08:15:40.562Z"
   },
   {
    "duration": 6,
    "start_time": "2025-05-16T08:15:40.577Z"
   },
   {
    "duration": 5,
    "start_time": "2025-05-16T08:15:40.585Z"
   },
   {
    "duration": 1584,
    "start_time": "2025-05-16T08:15:40.592Z"
   },
   {
    "duration": 17,
    "start_time": "2025-05-16T08:15:42.178Z"
   },
   {
    "duration": 18,
    "start_time": "2025-05-16T08:15:42.197Z"
   },
   {
    "duration": 44,
    "start_time": "2025-05-16T08:15:42.217Z"
   },
   {
    "duration": 9,
    "start_time": "2025-05-16T08:15:42.263Z"
   },
   {
    "duration": 132,
    "start_time": "2025-05-16T08:15:42.273Z"
   },
   {
    "duration": 242,
    "start_time": "2025-05-16T08:15:42.407Z"
   },
   {
    "duration": 12,
    "start_time": "2025-05-16T08:15:42.660Z"
   },
   {
    "duration": 28,
    "start_time": "2025-05-16T08:15:42.674Z"
   },
   {
    "duration": 21,
    "start_time": "2025-05-16T08:15:42.704Z"
   },
   {
    "duration": 77,
    "start_time": "2025-05-16T08:15:42.728Z"
   },
   {
    "duration": 78,
    "start_time": "2025-05-16T08:15:42.808Z"
   },
   {
    "duration": 20,
    "start_time": "2025-05-16T08:15:42.888Z"
   },
   {
    "duration": 55,
    "start_time": "2025-05-16T08:15:42.910Z"
   },
   {
    "duration": 17,
    "start_time": "2025-05-16T08:15:42.967Z"
   },
   {
    "duration": 163,
    "start_time": "2025-05-16T08:15:42.986Z"
   },
   {
    "duration": 16,
    "start_time": "2025-05-16T08:15:43.151Z"
   },
   {
    "duration": 24,
    "start_time": "2025-05-16T08:15:43.169Z"
   },
   {
    "duration": 13,
    "start_time": "2025-05-16T08:15:43.194Z"
   },
   {
    "duration": 14,
    "start_time": "2025-05-16T08:15:43.209Z"
   },
   {
    "duration": 16,
    "start_time": "2025-05-16T08:15:43.224Z"
   },
   {
    "duration": 1317,
    "start_time": "2025-05-16T08:18:40.408Z"
   },
   {
    "duration": 35,
    "start_time": "2025-05-16T08:18:41.727Z"
   },
   {
    "duration": 16,
    "start_time": "2025-05-16T08:18:41.764Z"
   },
   {
    "duration": 8,
    "start_time": "2025-05-16T08:18:41.782Z"
   },
   {
    "duration": 5,
    "start_time": "2025-05-16T08:18:41.793Z"
   },
   {
    "duration": 12,
    "start_time": "2025-05-16T08:18:41.800Z"
   },
   {
    "duration": 9,
    "start_time": "2025-05-16T08:18:41.814Z"
   },
   {
    "duration": 244,
    "start_time": "2025-05-16T08:18:41.860Z"
   },
   {
    "duration": 173,
    "start_time": "2025-05-16T08:18:42.106Z"
   },
   {
    "duration": 8,
    "start_time": "2025-05-16T08:18:42.281Z"
   },
   {
    "duration": 13,
    "start_time": "2025-05-16T08:18:42.290Z"
   },
   {
    "duration": 9,
    "start_time": "2025-05-16T08:18:42.305Z"
   },
   {
    "duration": 13,
    "start_time": "2025-05-16T08:18:42.315Z"
   },
   {
    "duration": 8,
    "start_time": "2025-05-16T08:18:42.359Z"
   },
   {
    "duration": 5,
    "start_time": "2025-05-16T08:18:42.368Z"
   },
   {
    "duration": 2070,
    "start_time": "2025-05-16T08:18:42.375Z"
   },
   {
    "duration": 25,
    "start_time": "2025-05-16T08:18:44.447Z"
   },
   {
    "duration": 19,
    "start_time": "2025-05-16T08:18:44.474Z"
   },
   {
    "duration": 30,
    "start_time": "2025-05-16T08:18:44.495Z"
   },
   {
    "duration": 10,
    "start_time": "2025-05-16T08:18:44.526Z"
   },
   {
    "duration": 141,
    "start_time": "2025-05-16T08:18:44.537Z"
   },
   {
    "duration": 256,
    "start_time": "2025-05-16T08:18:44.680Z"
   },
   {
    "duration": 11,
    "start_time": "2025-05-16T08:18:44.937Z"
   },
   {
    "duration": 28,
    "start_time": "2025-05-16T08:18:44.961Z"
   },
   {
    "duration": 21,
    "start_time": "2025-05-16T08:18:44.991Z"
   },
   {
    "duration": 74,
    "start_time": "2025-05-16T08:18:45.014Z"
   },
   {
    "duration": 72,
    "start_time": "2025-05-16T08:18:45.089Z"
   },
   {
    "duration": 19,
    "start_time": "2025-05-16T08:18:45.163Z"
   },
   {
    "duration": 33,
    "start_time": "2025-05-16T08:18:45.184Z"
   },
   {
    "duration": 16,
    "start_time": "2025-05-16T08:18:45.219Z"
   },
   {
    "duration": 171,
    "start_time": "2025-05-16T08:18:45.262Z"
   },
   {
    "duration": 11,
    "start_time": "2025-05-16T08:18:45.435Z"
   },
   {
    "duration": 15,
    "start_time": "2025-05-16T08:18:45.448Z"
   },
   {
    "duration": 86,
    "start_time": "2025-05-16T08:18:45.465Z"
   },
   {
    "duration": 6,
    "start_time": "2025-05-16T08:18:45.553Z"
   },
   {
    "duration": 13,
    "start_time": "2025-05-16T08:18:45.561Z"
   },
   {
    "duration": 1315,
    "start_time": "2025-05-16T08:22:54.009Z"
   },
   {
    "duration": 46,
    "start_time": "2025-05-16T08:22:55.327Z"
   },
   {
    "duration": 18,
    "start_time": "2025-05-16T08:22:55.376Z"
   },
   {
    "duration": 11,
    "start_time": "2025-05-16T08:22:55.396Z"
   },
   {
    "duration": 6,
    "start_time": "2025-05-16T08:22:55.409Z"
   },
   {
    "duration": 45,
    "start_time": "2025-05-16T08:22:55.416Z"
   },
   {
    "duration": 12,
    "start_time": "2025-05-16T08:22:55.464Z"
   },
   {
    "duration": 251,
    "start_time": "2025-05-16T08:22:55.478Z"
   },
   {
    "duration": 205,
    "start_time": "2025-05-16T08:22:55.731Z"
   },
   {
    "duration": 7,
    "start_time": "2025-05-16T08:22:55.938Z"
   },
   {
    "duration": 60,
    "start_time": "2025-05-16T08:22:55.947Z"
   },
   {
    "duration": 9,
    "start_time": "2025-05-16T08:22:56.009Z"
   },
   {
    "duration": 10,
    "start_time": "2025-05-16T08:22:56.020Z"
   },
   {
    "duration": 6,
    "start_time": "2025-05-16T08:22:56.033Z"
   },
   {
    "duration": 6,
    "start_time": "2025-05-16T08:22:56.041Z"
   },
   {
    "duration": 1571,
    "start_time": "2025-05-16T08:22:56.048Z"
   },
   {
    "duration": 16,
    "start_time": "2025-05-16T08:22:57.621Z"
   },
   {
    "duration": 33,
    "start_time": "2025-05-16T08:22:57.639Z"
   },
   {
    "duration": 20,
    "start_time": "2025-05-16T08:22:57.673Z"
   },
   {
    "duration": 10,
    "start_time": "2025-05-16T08:22:57.695Z"
   },
   {
    "duration": 154,
    "start_time": "2025-05-16T08:22:57.706Z"
   },
   {
    "duration": 263,
    "start_time": "2025-05-16T08:22:57.862Z"
   },
   {
    "duration": 10,
    "start_time": "2025-05-16T08:22:58.127Z"
   },
   {
    "duration": 41,
    "start_time": "2025-05-16T08:22:58.139Z"
   },
   {
    "duration": 21,
    "start_time": "2025-05-16T08:22:58.181Z"
   },
   {
    "duration": 69,
    "start_time": "2025-05-16T08:22:58.203Z"
   },
   {
    "duration": 60,
    "start_time": "2025-05-16T08:22:58.273Z"
   },
   {
    "duration": 32,
    "start_time": "2025-05-16T08:22:58.335Z"
   },
   {
    "duration": 32,
    "start_time": "2025-05-16T08:22:58.368Z"
   },
   {
    "duration": 15,
    "start_time": "2025-05-16T08:22:58.402Z"
   },
   {
    "duration": 169,
    "start_time": "2025-05-16T08:22:58.419Z"
   },
   {
    "duration": 10,
    "start_time": "2025-05-16T08:22:58.590Z"
   },
   {
    "duration": 12,
    "start_time": "2025-05-16T08:22:58.601Z"
   },
   {
    "duration": 12,
    "start_time": "2025-05-16T08:22:58.615Z"
   },
   {
    "duration": 7,
    "start_time": "2025-05-16T08:22:58.629Z"
   },
   {
    "duration": 33,
    "start_time": "2025-05-16T08:22:58.638Z"
   },
   {
    "duration": 112,
    "start_time": "2025-05-16T08:25:13.552Z"
   },
   {
    "duration": 9,
    "start_time": "2025-05-16T08:25:28.678Z"
   },
   {
    "duration": 1307,
    "start_time": "2025-05-16T08:25:43.619Z"
   },
   {
    "duration": 35,
    "start_time": "2025-05-16T08:25:44.928Z"
   },
   {
    "duration": 18,
    "start_time": "2025-05-16T08:25:44.965Z"
   },
   {
    "duration": 9,
    "start_time": "2025-05-16T08:25:44.984Z"
   },
   {
    "duration": 5,
    "start_time": "2025-05-16T08:25:44.996Z"
   },
   {
    "duration": 13,
    "start_time": "2025-05-16T08:25:45.002Z"
   },
   {
    "duration": 40,
    "start_time": "2025-05-16T08:25:45.017Z"
   },
   {
    "duration": 244,
    "start_time": "2025-05-16T08:25:45.061Z"
   },
   {
    "duration": 177,
    "start_time": "2025-05-16T08:25:45.307Z"
   },
   {
    "duration": 7,
    "start_time": "2025-05-16T08:25:45.486Z"
   },
   {
    "duration": 101,
    "start_time": "2025-05-16T08:25:45.495Z"
   },
   {
    "duration": 30,
    "start_time": "2025-05-16T08:25:45.598Z"
   },
   {
    "duration": 10,
    "start_time": "2025-05-16T08:25:45.629Z"
   },
   {
    "duration": 6,
    "start_time": "2025-05-16T08:25:45.642Z"
   },
   {
    "duration": 10,
    "start_time": "2025-05-16T08:25:45.650Z"
   },
   {
    "duration": 5,
    "start_time": "2025-05-16T08:25:45.662Z"
   },
   {
    "duration": 1539,
    "start_time": "2025-05-16T08:25:45.668Z"
   },
   {
    "duration": 18,
    "start_time": "2025-05-16T08:25:47.208Z"
   },
   {
    "duration": 59,
    "start_time": "2025-05-16T08:25:47.227Z"
   },
   {
    "duration": 29,
    "start_time": "2025-05-16T08:25:47.288Z"
   },
   {
    "duration": 10,
    "start_time": "2025-05-16T08:25:47.319Z"
   },
   {
    "duration": 129,
    "start_time": "2025-05-16T08:25:47.331Z"
   },
   {
    "duration": 255,
    "start_time": "2025-05-16T08:25:47.462Z"
   },
   {
    "duration": 11,
    "start_time": "2025-05-16T08:25:47.719Z"
   },
   {
    "duration": 44,
    "start_time": "2025-05-16T08:25:47.732Z"
   },
   {
    "duration": 21,
    "start_time": "2025-05-16T08:25:47.778Z"
   },
   {
    "duration": 65,
    "start_time": "2025-05-16T08:25:47.800Z"
   },
   {
    "duration": 62,
    "start_time": "2025-05-16T08:25:47.867Z"
   },
   {
    "duration": 35,
    "start_time": "2025-05-16T08:25:47.931Z"
   },
   {
    "duration": 73,
    "start_time": "2025-05-16T08:25:47.968Z"
   },
   {
    "duration": 16,
    "start_time": "2025-05-16T08:25:48.043Z"
   },
   {
    "duration": 166,
    "start_time": "2025-05-16T08:25:48.061Z"
   },
   {
    "duration": 11,
    "start_time": "2025-05-16T08:25:48.229Z"
   },
   {
    "duration": 21,
    "start_time": "2025-05-16T08:25:48.241Z"
   },
   {
    "duration": 12,
    "start_time": "2025-05-16T08:25:48.264Z"
   },
   {
    "duration": 7,
    "start_time": "2025-05-16T08:25:48.277Z"
   },
   {
    "duration": 14,
    "start_time": "2025-05-16T08:25:48.286Z"
   },
   {
    "duration": 1264,
    "start_time": "2025-05-16T08:26:41.921Z"
   },
   {
    "duration": 35,
    "start_time": "2025-05-16T08:26:43.187Z"
   },
   {
    "duration": 44,
    "start_time": "2025-05-16T08:26:43.224Z"
   },
   {
    "duration": 9,
    "start_time": "2025-05-16T08:26:43.269Z"
   },
   {
    "duration": 5,
    "start_time": "2025-05-16T08:26:43.280Z"
   },
   {
    "duration": 12,
    "start_time": "2025-05-16T08:26:43.287Z"
   },
   {
    "duration": 8,
    "start_time": "2025-05-16T08:26:43.301Z"
   },
   {
    "duration": 256,
    "start_time": "2025-05-16T08:26:43.311Z"
   },
   {
    "duration": 165,
    "start_time": "2025-05-16T08:26:43.569Z"
   },
   {
    "duration": 6,
    "start_time": "2025-05-16T08:26:43.736Z"
   },
   {
    "duration": 25,
    "start_time": "2025-05-16T08:26:43.744Z"
   },
   {
    "duration": 9,
    "start_time": "2025-05-16T08:26:43.771Z"
   },
   {
    "duration": 9,
    "start_time": "2025-05-16T08:26:43.782Z"
   },
   {
    "duration": 8,
    "start_time": "2025-05-16T08:26:43.794Z"
   },
   {
    "duration": 5,
    "start_time": "2025-05-16T08:26:43.804Z"
   },
   {
    "duration": 1581,
    "start_time": "2025-05-16T08:26:43.810Z"
   },
   {
    "duration": 19,
    "start_time": "2025-05-16T08:26:45.393Z"
   },
   {
    "duration": 21,
    "start_time": "2025-05-16T08:26:45.414Z"
   },
   {
    "duration": 21,
    "start_time": "2025-05-16T08:26:45.460Z"
   },
   {
    "duration": 10,
    "start_time": "2025-05-16T08:26:45.483Z"
   },
   {
    "duration": 191,
    "start_time": "2025-05-16T08:26:45.494Z"
   },
   {
    "duration": 284,
    "start_time": "2025-05-16T08:26:45.687Z"
   },
   {
    "duration": 10,
    "start_time": "2025-05-16T08:26:45.973Z"
   },
   {
    "duration": 48,
    "start_time": "2025-05-16T08:26:45.985Z"
   },
   {
    "duration": 20,
    "start_time": "2025-05-16T08:26:46.034Z"
   },
   {
    "duration": 47,
    "start_time": "2025-05-16T08:26:46.061Z"
   },
   {
    "duration": 71,
    "start_time": "2025-05-16T08:26:46.109Z"
   },
   {
    "duration": 18,
    "start_time": "2025-05-16T08:26:46.182Z"
   },
   {
    "duration": 30,
    "start_time": "2025-05-16T08:26:46.202Z"
   },
   {
    "duration": 40,
    "start_time": "2025-05-16T08:26:46.234Z"
   },
   {
    "duration": 164,
    "start_time": "2025-05-16T08:26:46.275Z"
   },
   {
    "duration": 10,
    "start_time": "2025-05-16T08:26:46.441Z"
   },
   {
    "duration": 12,
    "start_time": "2025-05-16T08:26:46.452Z"
   },
   {
    "duration": 15,
    "start_time": "2025-05-16T08:26:46.465Z"
   },
   {
    "duration": 15,
    "start_time": "2025-05-16T08:26:46.481Z"
   },
   {
    "duration": 12,
    "start_time": "2025-05-16T08:26:46.498Z"
   },
   {
    "duration": 129,
    "start_time": "2025-05-16T08:33:05.806Z"
   },
   {
    "duration": 9,
    "start_time": "2025-05-16T08:36:35.948Z"
   },
   {
    "duration": 8,
    "start_time": "2025-05-16T08:39:03.830Z"
   },
   {
    "duration": 8,
    "start_time": "2025-05-16T08:39:13.532Z"
   },
   {
    "duration": 5,
    "start_time": "2025-05-16T08:50:11.447Z"
   },
   {
    "duration": 6,
    "start_time": "2025-05-16T08:50:20.284Z"
   },
   {
    "duration": 6358,
    "start_time": "2025-05-16T08:51:52.941Z"
   },
   {
    "duration": 27,
    "start_time": "2025-05-16T08:53:34.921Z"
   },
   {
    "duration": 362,
    "start_time": "2025-05-16T08:54:05.022Z"
   },
   {
    "duration": 6,
    "start_time": "2025-05-16T08:56:31.782Z"
   },
   {
    "duration": 642,
    "start_time": "2025-05-16T08:56:33.078Z"
   },
   {
    "duration": 214,
    "start_time": "2025-05-16T08:58:08.641Z"
   },
   {
    "duration": 202,
    "start_time": "2025-05-16T08:58:51.020Z"
   },
   {
    "duration": 1293,
    "start_time": "2025-05-16T09:31:13.586Z"
   },
   {
    "duration": 49,
    "start_time": "2025-05-16T09:31:14.882Z"
   },
   {
    "duration": 18,
    "start_time": "2025-05-16T09:31:14.933Z"
   },
   {
    "duration": 10,
    "start_time": "2025-05-16T09:31:14.953Z"
   },
   {
    "duration": 5,
    "start_time": "2025-05-16T09:31:14.966Z"
   },
   {
    "duration": 17,
    "start_time": "2025-05-16T09:31:14.973Z"
   },
   {
    "duration": 9,
    "start_time": "2025-05-16T09:31:14.992Z"
   },
   {
    "duration": 258,
    "start_time": "2025-05-16T09:31:15.002Z"
   },
   {
    "duration": 168,
    "start_time": "2025-05-16T09:31:15.262Z"
   },
   {
    "duration": 8,
    "start_time": "2025-05-16T09:31:15.431Z"
   },
   {
    "duration": 86,
    "start_time": "2025-05-16T09:31:15.441Z"
   },
   {
    "duration": 10,
    "start_time": "2025-05-16T09:31:15.529Z"
   },
   {
    "duration": 10,
    "start_time": "2025-05-16T09:31:15.540Z"
   },
   {
    "duration": 9,
    "start_time": "2025-05-16T09:31:15.554Z"
   },
   {
    "duration": 5,
    "start_time": "2025-05-16T09:31:15.565Z"
   },
   {
    "duration": 14,
    "start_time": "2025-05-16T09:31:15.572Z"
   },
   {
    "duration": 10,
    "start_time": "2025-05-16T09:31:15.587Z"
   },
   {
    "duration": 19,
    "start_time": "2025-05-16T09:31:15.599Z"
   },
   {
    "duration": 508,
    "start_time": "2025-05-16T09:31:15.620Z"
   },
   {
    "duration": 237,
    "start_time": "2025-05-16T09:31:16.130Z"
   },
   {
    "duration": 202,
    "start_time": "2025-05-16T09:31:16.369Z"
   },
   {
    "duration": 1713,
    "start_time": "2025-05-16T09:31:16.573Z"
   },
   {
    "duration": 18,
    "start_time": "2025-05-16T09:31:18.288Z"
   },
   {
    "duration": 22,
    "start_time": "2025-05-16T09:31:18.308Z"
   },
   {
    "duration": 46,
    "start_time": "2025-05-16T09:31:18.332Z"
   },
   {
    "duration": 10,
    "start_time": "2025-05-16T09:31:18.379Z"
   },
   {
    "duration": 144,
    "start_time": "2025-05-16T09:31:18.391Z"
   },
   {
    "duration": 257,
    "start_time": "2025-05-16T09:31:18.537Z"
   },
   {
    "duration": 10,
    "start_time": "2025-05-16T09:31:18.796Z"
   },
   {
    "duration": 28,
    "start_time": "2025-05-16T09:31:18.808Z"
   },
   {
    "duration": 43,
    "start_time": "2025-05-16T09:31:18.838Z"
   },
   {
    "duration": 49,
    "start_time": "2025-05-16T09:31:18.882Z"
   },
   {
    "duration": 86,
    "start_time": "2025-05-16T09:31:18.933Z"
   },
   {
    "duration": 25,
    "start_time": "2025-05-16T09:31:19.021Z"
   },
   {
    "duration": 37,
    "start_time": "2025-05-16T09:31:19.060Z"
   },
   {
    "duration": 15,
    "start_time": "2025-05-16T09:31:19.099Z"
   },
   {
    "duration": 173,
    "start_time": "2025-05-16T09:31:19.116Z"
   },
   {
    "duration": 10,
    "start_time": "2025-05-16T09:31:19.291Z"
   },
   {
    "duration": 6,
    "start_time": "2025-05-16T09:31:19.303Z"
   },
   {
    "duration": 52,
    "start_time": "2025-05-16T09:31:19.311Z"
   },
   {
    "duration": 37,
    "start_time": "2025-05-16T09:31:19.368Z"
   },
   {
    "duration": 104,
    "start_time": "2025-05-16T09:31:19.407Z"
   },
   {
    "duration": 1290,
    "start_time": "2025-05-16T09:33:48.830Z"
   },
   {
    "duration": 36,
    "start_time": "2025-05-16T09:33:50.122Z"
   },
   {
    "duration": 17,
    "start_time": "2025-05-16T09:33:50.160Z"
   },
   {
    "duration": 107,
    "start_time": "2025-05-16T09:33:50.179Z"
   },
   {
    "duration": 8,
    "start_time": "2025-05-16T09:33:50.288Z"
   },
   {
    "duration": 12,
    "start_time": "2025-05-16T09:33:50.298Z"
   },
   {
    "duration": 9,
    "start_time": "2025-05-16T09:33:50.312Z"
   },
   {
    "duration": 233,
    "start_time": "2025-05-16T09:33:50.323Z"
   },
   {
    "duration": 170,
    "start_time": "2025-05-16T09:33:50.560Z"
   },
   {
    "duration": 8,
    "start_time": "2025-05-16T09:33:50.733Z"
   },
   {
    "duration": 26,
    "start_time": "2025-05-16T09:33:50.743Z"
   },
   {
    "duration": 11,
    "start_time": "2025-05-16T09:33:50.772Z"
   },
   {
    "duration": 8,
    "start_time": "2025-05-16T09:33:50.785Z"
   },
   {
    "duration": 16,
    "start_time": "2025-05-16T09:33:50.796Z"
   },
   {
    "duration": 17,
    "start_time": "2025-05-16T09:33:50.814Z"
   },
   {
    "duration": 33,
    "start_time": "2025-05-16T09:33:50.833Z"
   },
   {
    "duration": 12,
    "start_time": "2025-05-16T09:33:50.867Z"
   },
   {
    "duration": 5,
    "start_time": "2025-05-16T09:33:50.881Z"
   },
   {
    "duration": 465,
    "start_time": "2025-05-16T09:33:50.888Z"
   },
   {
    "duration": 229,
    "start_time": "2025-05-16T09:33:51.360Z"
   },
   {
    "duration": 213,
    "start_time": "2025-05-16T09:33:51.591Z"
   },
   {
    "duration": 1588,
    "start_time": "2025-05-16T09:33:51.806Z"
   },
   {
    "duration": 18,
    "start_time": "2025-05-16T09:33:53.396Z"
   },
   {
    "duration": 19,
    "start_time": "2025-05-16T09:33:53.416Z"
   },
   {
    "duration": 90,
    "start_time": "2025-05-16T09:33:53.437Z"
   },
   {
    "duration": 10,
    "start_time": "2025-05-16T09:33:53.529Z"
   },
   {
    "duration": 127,
    "start_time": "2025-05-16T09:33:53.540Z"
   },
   {
    "duration": 270,
    "start_time": "2025-05-16T09:33:53.669Z"
   },
   {
    "duration": 21,
    "start_time": "2025-05-16T09:33:53.941Z"
   },
   {
    "duration": 28,
    "start_time": "2025-05-16T09:33:53.963Z"
   },
   {
    "duration": 21,
    "start_time": "2025-05-16T09:33:53.993Z"
   },
   {
    "duration": 73,
    "start_time": "2025-05-16T09:33:54.016Z"
   },
   {
    "duration": 70,
    "start_time": "2025-05-16T09:33:54.091Z"
   },
   {
    "duration": 166,
    "start_time": "2025-05-16T09:33:54.163Z"
   },
   {
    "duration": 36,
    "start_time": "2025-05-16T09:33:54.332Z"
   },
   {
    "duration": 16,
    "start_time": "2025-05-16T09:33:54.370Z"
   },
   {
    "duration": 169,
    "start_time": "2025-05-16T09:33:54.389Z"
   },
   {
    "duration": 12,
    "start_time": "2025-05-16T09:33:54.560Z"
   },
   {
    "duration": 5,
    "start_time": "2025-05-16T09:33:54.574Z"
   },
   {
    "duration": 14,
    "start_time": "2025-05-16T09:33:54.580Z"
   },
   {
    "duration": 7,
    "start_time": "2025-05-16T09:33:54.599Z"
   },
   {
    "duration": 134,
    "start_time": "2025-05-16T09:33:54.608Z"
   },
   {
    "duration": 464,
    "start_time": "2025-05-16T09:35:35.596Z"
   },
   {
    "duration": 214,
    "start_time": "2025-05-16T09:35:45.897Z"
   },
   {
    "duration": 196,
    "start_time": "2025-05-16T09:36:00.731Z"
   },
   {
    "duration": 114,
    "start_time": "2025-05-16T09:39:35.625Z"
   },
   {
    "duration": 13,
    "start_time": "2025-05-16T09:39:53.012Z"
   },
   {
    "duration": 1255,
    "start_time": "2025-05-16T09:52:43.699Z"
   },
   {
    "duration": 37,
    "start_time": "2025-05-16T09:52:44.957Z"
   },
   {
    "duration": 18,
    "start_time": "2025-05-16T09:52:44.996Z"
   },
   {
    "duration": 10,
    "start_time": "2025-05-16T09:52:45.016Z"
   },
   {
    "duration": 53,
    "start_time": "2025-05-16T09:52:45.028Z"
   },
   {
    "duration": 41,
    "start_time": "2025-05-16T09:52:45.083Z"
   },
   {
    "duration": 38,
    "start_time": "2025-05-16T09:52:45.126Z"
   },
   {
    "duration": 236,
    "start_time": "2025-05-16T09:52:45.166Z"
   },
   {
    "duration": 176,
    "start_time": "2025-05-16T09:52:45.404Z"
   },
   {
    "duration": 10,
    "start_time": "2025-05-16T09:52:45.582Z"
   },
   {
    "duration": 18,
    "start_time": "2025-05-16T09:52:45.595Z"
   },
   {
    "duration": 10,
    "start_time": "2025-05-16T09:52:45.615Z"
   },
   {
    "duration": 37,
    "start_time": "2025-05-16T09:52:45.627Z"
   },
   {
    "duration": 5,
    "start_time": "2025-05-16T09:52:45.668Z"
   },
   {
    "duration": 8,
    "start_time": "2025-05-16T09:52:45.675Z"
   },
   {
    "duration": 8,
    "start_time": "2025-05-16T09:52:45.685Z"
   },
   {
    "duration": 6,
    "start_time": "2025-05-16T09:52:45.695Z"
   },
   {
    "duration": 507,
    "start_time": "2025-05-16T09:52:45.704Z"
   },
   {
    "duration": 123,
    "start_time": "2025-05-16T09:52:46.212Z"
   },
   {
    "duration": 0,
    "start_time": "2025-05-16T09:52:46.337Z"
   },
   {
    "duration": 0,
    "start_time": "2025-05-16T09:52:46.339Z"
   },
   {
    "duration": 0,
    "start_time": "2025-05-16T09:52:46.341Z"
   },
   {
    "duration": 0,
    "start_time": "2025-05-16T09:52:46.342Z"
   },
   {
    "duration": 1,
    "start_time": "2025-05-16T09:52:46.343Z"
   },
   {
    "duration": 0,
    "start_time": "2025-05-16T09:52:46.361Z"
   },
   {
    "duration": 0,
    "start_time": "2025-05-16T09:52:46.363Z"
   },
   {
    "duration": 0,
    "start_time": "2025-05-16T09:52:46.364Z"
   },
   {
    "duration": 0,
    "start_time": "2025-05-16T09:52:46.366Z"
   },
   {
    "duration": 0,
    "start_time": "2025-05-16T09:52:46.367Z"
   },
   {
    "duration": 0,
    "start_time": "2025-05-16T09:52:46.369Z"
   },
   {
    "duration": 0,
    "start_time": "2025-05-16T09:52:46.371Z"
   },
   {
    "duration": 0,
    "start_time": "2025-05-16T09:52:46.373Z"
   },
   {
    "duration": 0,
    "start_time": "2025-05-16T09:52:46.374Z"
   },
   {
    "duration": 0,
    "start_time": "2025-05-16T09:52:46.376Z"
   },
   {
    "duration": 0,
    "start_time": "2025-05-16T09:52:46.378Z"
   },
   {
    "duration": 0,
    "start_time": "2025-05-16T09:52:46.379Z"
   },
   {
    "duration": 0,
    "start_time": "2025-05-16T09:52:46.381Z"
   },
   {
    "duration": 0,
    "start_time": "2025-05-16T09:52:46.382Z"
   },
   {
    "duration": 0,
    "start_time": "2025-05-16T09:52:46.384Z"
   },
   {
    "duration": 0,
    "start_time": "2025-05-16T09:52:46.386Z"
   },
   {
    "duration": 0,
    "start_time": "2025-05-16T09:52:46.387Z"
   },
   {
    "duration": 0,
    "start_time": "2025-05-16T09:52:46.389Z"
   },
   {
    "duration": 226,
    "start_time": "2025-05-16T09:56:30.372Z"
   },
   {
    "duration": 1259,
    "start_time": "2025-05-16T09:56:36.466Z"
   },
   {
    "duration": 36,
    "start_time": "2025-05-16T09:56:37.728Z"
   },
   {
    "duration": 16,
    "start_time": "2025-05-16T09:56:37.766Z"
   },
   {
    "duration": 9,
    "start_time": "2025-05-16T09:56:37.784Z"
   },
   {
    "duration": 6,
    "start_time": "2025-05-16T09:56:37.795Z"
   },
   {
    "duration": 12,
    "start_time": "2025-05-16T09:56:37.803Z"
   },
   {
    "duration": 44,
    "start_time": "2025-05-16T09:56:37.817Z"
   },
   {
    "duration": 238,
    "start_time": "2025-05-16T09:56:37.863Z"
   },
   {
    "duration": 168,
    "start_time": "2025-05-16T09:56:38.102Z"
   },
   {
    "duration": 8,
    "start_time": "2025-05-16T09:56:38.272Z"
   },
   {
    "duration": 111,
    "start_time": "2025-05-16T09:56:38.282Z"
   },
   {
    "duration": 10,
    "start_time": "2025-05-16T09:56:38.395Z"
   },
   {
    "duration": 7,
    "start_time": "2025-05-16T09:56:38.407Z"
   },
   {
    "duration": 4,
    "start_time": "2025-05-16T09:56:38.418Z"
   },
   {
    "duration": 10,
    "start_time": "2025-05-16T09:56:38.424Z"
   },
   {
    "duration": 9,
    "start_time": "2025-05-16T09:56:38.436Z"
   },
   {
    "duration": 16,
    "start_time": "2025-05-16T09:56:38.447Z"
   },
   {
    "duration": 464,
    "start_time": "2025-05-16T09:56:38.465Z"
   },
   {
    "duration": 263,
    "start_time": "2025-05-16T09:56:38.931Z"
   },
   {
    "duration": 222,
    "start_time": "2025-05-16T09:56:39.195Z"
   },
   {
    "duration": 56,
    "start_time": "2025-05-16T09:56:39.419Z"
   },
   {
    "duration": 0,
    "start_time": "2025-05-16T09:56:39.477Z"
   },
   {
    "duration": 0,
    "start_time": "2025-05-16T09:56:39.478Z"
   },
   {
    "duration": 0,
    "start_time": "2025-05-16T09:56:39.479Z"
   },
   {
    "duration": 0,
    "start_time": "2025-05-16T09:56:39.480Z"
   },
   {
    "duration": 0,
    "start_time": "2025-05-16T09:56:39.482Z"
   },
   {
    "duration": 0,
    "start_time": "2025-05-16T09:56:39.483Z"
   },
   {
    "duration": 0,
    "start_time": "2025-05-16T09:56:39.485Z"
   },
   {
    "duration": 0,
    "start_time": "2025-05-16T09:56:39.486Z"
   },
   {
    "duration": 0,
    "start_time": "2025-05-16T09:56:39.487Z"
   },
   {
    "duration": 0,
    "start_time": "2025-05-16T09:56:39.488Z"
   },
   {
    "duration": 0,
    "start_time": "2025-05-16T09:56:39.489Z"
   },
   {
    "duration": 0,
    "start_time": "2025-05-16T09:56:39.490Z"
   },
   {
    "duration": 0,
    "start_time": "2025-05-16T09:56:39.491Z"
   },
   {
    "duration": 0,
    "start_time": "2025-05-16T09:56:39.492Z"
   },
   {
    "duration": 0,
    "start_time": "2025-05-16T09:56:39.493Z"
   },
   {
    "duration": 0,
    "start_time": "2025-05-16T09:56:39.494Z"
   },
   {
    "duration": 0,
    "start_time": "2025-05-16T09:56:39.495Z"
   },
   {
    "duration": 0,
    "start_time": "2025-05-16T09:56:39.496Z"
   },
   {
    "duration": 0,
    "start_time": "2025-05-16T09:56:39.497Z"
   },
   {
    "duration": 0,
    "start_time": "2025-05-16T09:56:39.498Z"
   },
   {
    "duration": 0,
    "start_time": "2025-05-16T09:56:39.499Z"
   },
   {
    "duration": 12,
    "start_time": "2025-05-16T09:57:04.313Z"
   },
   {
    "duration": 1286,
    "start_time": "2025-05-16T09:57:13.129Z"
   },
   {
    "duration": 35,
    "start_time": "2025-05-16T09:57:14.417Z"
   },
   {
    "duration": 18,
    "start_time": "2025-05-16T09:57:14.453Z"
   },
   {
    "duration": 9,
    "start_time": "2025-05-16T09:57:14.473Z"
   },
   {
    "duration": 5,
    "start_time": "2025-05-16T09:57:14.483Z"
   },
   {
    "duration": 12,
    "start_time": "2025-05-16T09:57:14.489Z"
   },
   {
    "duration": 9,
    "start_time": "2025-05-16T09:57:14.502Z"
   },
   {
    "duration": 262,
    "start_time": "2025-05-16T09:57:14.512Z"
   },
   {
    "duration": 173,
    "start_time": "2025-05-16T09:57:14.776Z"
   },
   {
    "duration": 13,
    "start_time": "2025-05-16T09:57:14.952Z"
   },
   {
    "duration": 11,
    "start_time": "2025-05-16T09:57:14.967Z"
   },
   {
    "duration": 9,
    "start_time": "2025-05-16T09:57:14.980Z"
   },
   {
    "duration": 7,
    "start_time": "2025-05-16T09:57:14.991Z"
   },
   {
    "duration": 4,
    "start_time": "2025-05-16T09:57:15.000Z"
   },
   {
    "duration": 9,
    "start_time": "2025-05-16T09:57:15.006Z"
   },
   {
    "duration": 9,
    "start_time": "2025-05-16T09:57:15.061Z"
   },
   {
    "duration": 18,
    "start_time": "2025-05-16T09:57:15.071Z"
   },
   {
    "duration": 461,
    "start_time": "2025-05-16T09:57:15.091Z"
   },
   {
    "duration": 257,
    "start_time": "2025-05-16T09:57:15.554Z"
   },
   {
    "duration": 221,
    "start_time": "2025-05-16T09:57:15.814Z"
   },
   {
    "duration": 23,
    "start_time": "2025-05-16T09:57:16.037Z"
   },
   {
    "duration": 1742,
    "start_time": "2025-05-16T09:57:16.062Z"
   },
   {
    "duration": 19,
    "start_time": "2025-05-16T09:57:17.806Z"
   },
   {
    "duration": 41,
    "start_time": "2025-05-16T09:57:17.827Z"
   },
   {
    "duration": 61,
    "start_time": "2025-05-16T09:57:17.870Z"
   },
   {
    "duration": 10,
    "start_time": "2025-05-16T09:57:17.933Z"
   },
   {
    "duration": 132,
    "start_time": "2025-05-16T09:57:17.945Z"
   },
   {
    "duration": 264,
    "start_time": "2025-05-16T09:57:18.080Z"
   },
   {
    "duration": 17,
    "start_time": "2025-05-16T09:57:18.346Z"
   },
   {
    "duration": 41,
    "start_time": "2025-05-16T09:57:18.365Z"
   },
   {
    "duration": 21,
    "start_time": "2025-05-16T09:57:18.408Z"
   },
   {
    "duration": 61,
    "start_time": "2025-05-16T09:57:18.431Z"
   },
   {
    "duration": 70,
    "start_time": "2025-05-16T09:57:18.494Z"
   },
   {
    "duration": 23,
    "start_time": "2025-05-16T09:57:18.566Z"
   },
   {
    "duration": 34,
    "start_time": "2025-05-16T09:57:18.590Z"
   },
   {
    "duration": 41,
    "start_time": "2025-05-16T09:57:18.625Z"
   },
   {
    "duration": 159,
    "start_time": "2025-05-16T09:57:18.668Z"
   },
   {
    "duration": 10,
    "start_time": "2025-05-16T09:57:18.830Z"
   },
   {
    "duration": 19,
    "start_time": "2025-05-16T09:57:18.842Z"
   },
   {
    "duration": 12,
    "start_time": "2025-05-16T09:57:18.863Z"
   },
   {
    "duration": 8,
    "start_time": "2025-05-16T09:57:18.877Z"
   },
   {
    "duration": 132,
    "start_time": "2025-05-16T09:57:18.887Z"
   }
  ],
  "colab": {
   "provenance": [],
   "toc_visible": true
  },
  "kernelspec": {
   "display_name": "Python 3 (ipykernel)",
   "language": "python",
   "name": "python3"
  },
  "language_info": {
   "codemirror_mode": {
    "name": "ipython",
    "version": 3
   },
   "file_extension": ".py",
   "mimetype": "text/x-python",
   "name": "python",
   "nbconvert_exporter": "python",
   "pygments_lexer": "ipython3",
   "version": "3.9.7"
  },
  "toc": {
   "base_numbering": 1,
   "nav_menu": {},
   "number_sections": true,
   "sideBar": true,
   "skip_h1_title": true,
   "title_cell": "Table of Contents",
   "title_sidebar": "Contents",
   "toc_cell": false,
   "toc_position": {},
   "toc_section_display": true,
   "toc_window_display": true
  }
 },
 "nbformat": 4,
 "nbformat_minor": 5
}
